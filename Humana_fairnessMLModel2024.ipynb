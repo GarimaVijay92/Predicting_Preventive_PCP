{
  "cells": [
    {
      "cell_type": "code",
      "execution_count": null,
      "metadata": {
        "colab": {
          "base_uri": "https://localhost:8080/"
        },
        "id": "x9WEcVAbvvfW",
        "outputId": "802727ca-f318-4fe1-e267-b3757f02f22d"
      },
      "outputs": [
        {
          "output_type": "stream",
          "name": "stdout",
          "text": [
            "Mounted at /content/drive\n"
          ]
        }
      ],
      "source": [
        "# prompt: mount\n",
        "\n",
        "from google.colab import drive\n",
        "drive.mount('/content/drive')\n"
      ]
    },
    {
      "cell_type": "code",
      "execution_count": null,
      "metadata": {
        "id": "dVF0ukL5wDQz"
      },
      "outputs": [],
      "source": [
        "import pandas as pd\n",
        "import numpy as np\n",
        "import matplotlib.pyplot as plt\n",
        "import seaborn as sns"
      ]
    },
    {
      "cell_type": "code",
      "execution_count": null,
      "metadata": {
        "colab": {
          "base_uri": "https://localhost:8080/"
        },
        "id": "0-2fkDTww-3k",
        "outputId": "b0a6f6c7-b017-4431-c0f3-695eaa29f103"
      },
      "outputs": [
        {
          "output_type": "execute_result",
          "data": {
            "text/plain": [
              "(1527393, 146)"
            ]
          },
          "metadata": {},
          "execution_count": 3
        }
      ],
      "source": [
        "data = pd.read_csv('/content/drive/MyDrive/Humana files/updated_train_df.csv')\n",
        "data.shape"
      ]
    },
    {
      "cell_type": "markdown",
      "metadata": {
        "id": "hIC0x4d9xQsX"
      },
      "source": [
        "# Drop race null value data\n"
      ]
    },
    {
      "cell_type": "code",
      "execution_count": null,
      "metadata": {
        "colab": {
          "base_uri": "https://localhost:8080/"
        },
        "id": "JoQBNqosxUC7",
        "outputId": "35970e17-2558-4339-fbb7-6e24bc07449d"
      },
      "outputs": [
        {
          "output_type": "execute_result",
          "data": {
            "text/plain": [
              "(576316, 146)"
            ]
          },
          "metadata": {},
          "execution_count": 4
        }
      ],
      "source": [
        "df = data.dropna(subset=['race'])\n",
        "df.shape"
      ]
    },
    {
      "cell_type": "code",
      "execution_count": null,
      "metadata": {
        "id": "nDuY_MkTxZXg"
      },
      "outputs": [],
      "source": [
        "# prompt: generate column names, their data type and missing values .. and move it to csv\n",
        "\n",
        "import pandas as pd\n",
        "\n",
        "# Create a DataFrame with column names, data types, and missing values\n",
        "column_info = pd.DataFrame({\n",
        "    'Column Name': df.columns,\n",
        "    'Data Type': df.dtypes,\n",
        "    'Missing Values': df.isnull().sum()\n",
        "})\n",
        "\n",
        "# Save the DataFrame to a CSV file\n",
        "column_info.to_csv('/content/drive/MyDrive/Humana files/column_info.csv', index=False)\n"
      ]
    },
    {
      "cell_type": "markdown",
      "metadata": {
        "id": "3IqXJiPd4ksk"
      },
      "source": [
        "#Using data with knn values imputed\n"
      ]
    },
    {
      "cell_type": "code",
      "execution_count": null,
      "metadata": {
        "colab": {
          "base_uri": "https://localhost:8080/"
        },
        "id": "f4BFqYAfyu6b",
        "outputId": "3edd1237-60cc-40e2-b3e3-b0c92f6a15e8"
      },
      "outputs": [
        {
          "data": {
            "text/plain": [
              "(576316, 146)"
            ]
          },
          "execution_count": 6,
          "metadata": {},
          "output_type": "execute_result"
        }
      ],
      "source": [
        "hum = pd.read_csv('/content/drive/MyDrive/df1_processed.csv')\n",
        "hum.shape"
      ]
    },
    {
      "cell_type": "markdown",
      "metadata": {
        "id": "2mjWeD5Bokth"
      },
      "source": [
        "#Using original data (0.5million rows)"
      ]
    },
    {
      "cell_type": "code",
      "execution_count": null,
      "metadata": {
        "id": "YBmMkz7losUJ"
      },
      "outputs": [],
      "source": [
        "hum = df"
      ]
    },
    {
      "cell_type": "code",
      "execution_count": null,
      "metadata": {
        "colab": {
          "base_uri": "https://localhost:8080/"
        },
        "id": "ntPVi_jI_YCe",
        "outputId": "d6ff5ee0-be7d-47f1-e68d-3162de9acde5"
      },
      "outputs": [
        {
          "name": "stdout",
          "output_type": "stream",
          "text": [
            "compliant_cnt exists in the DataFrame.\n"
          ]
        }
      ],
      "source": [
        "# prompt: check if compliant_cnt exist in df\n",
        "\n",
        "if 'compliant_cnt' in hum.columns:\n",
        "  print(\"compliant_cnt exists in the DataFrame.\")\n",
        "else:\n",
        "  print(\"compliant_cnt does not exist in the DataFrame.\")\n"
      ]
    },
    {
      "cell_type": "markdown",
      "metadata": {
        "id": "vcwOPOPP4u81"
      },
      "source": [
        "#### **Preprocessing**\n"
      ]
    },
    {
      "cell_type": "code",
      "execution_count": null,
      "metadata": {
        "colab": {
          "base_uri": "https://localhost:8080/"
        },
        "id": "n2h2WVqO0Beh",
        "outputId": "e7ba9f63-1f10-45e5-ab8b-adaf011c28dd"
      },
      "outputs": [
        {
          "output_type": "stream",
          "name": "stderr",
          "text": [
            "<ipython-input-6-1760dcfac2d0>:8: FutureWarning: A value is trying to be set on a copy of a DataFrame or Series through chained assignment using an inplace method.\n",
            "The behavior will change in pandas 3.0. This inplace method will never work because the intermediate object on which we are setting values always behaves as a copy.\n",
            "\n",
            "For example, when doing 'df[col].method(value, inplace=True)', try using 'df.method({col: value}, inplace=True)' or df[col] = df[col].method(value) instead, to perform the operation inplace on the original object.\n",
            "\n",
            "\n",
            "  hum[col].fillna(0, inplace=True)\n",
            "<ipython-input-6-1760dcfac2d0>:8: SettingWithCopyWarning: \n",
            "A value is trying to be set on a copy of a slice from a DataFrame\n",
            "\n",
            "See the caveats in the documentation: https://pandas.pydata.org/pandas-docs/stable/user_guide/indexing.html#returning-a-view-versus-a-copy\n",
            "  hum[col].fillna(0, inplace=True)\n"
          ]
        }
      ],
      "source": [
        "cols_to_fill = ['quality_chronic_disease', 'quality_preventive_care',\n",
        "                'quality_medication_management', 'quality_patient_safety',\n",
        "                'quality_screening', 'compliant_cnt', 'QD_HEDIS',\n",
        "                'QD_Patient Safety', 'QD_2020', 'QD_2021', 'QD_2022']\n",
        "\n",
        "for col in cols_to_fill:\n",
        "  if col in hum.columns:\n",
        "    hum[col].fillna(0, inplace=True)"
      ]
    },
    {
      "cell_type": "code",
      "execution_count": null,
      "metadata": {
        "id": "UV4w-XRm0WU0"
      },
      "outputs": [],
      "source": [
        "# prompt: one hot encoding for region, sex_cd, race, channel\n",
        "\n",
        "import pandas as pd\n",
        "# Perform one-hot encoding for specified columns\n",
        "'''hum = pd.get_dummies(hum, columns=['region', 'sex_cd', 'race', 'channel'], dummy_na=False)'''\n"
      ]
    },
    {
      "cell_type": "code",
      "execution_count": null,
      "metadata": {
        "id": "rIeD1H8T2oOA"
      },
      "outputs": [],
      "source": [
        "# prompt: convert true false to 0 and 1 in above dummy variables\n",
        "\n",
        "'''import pandas as pd\n",
        "for column in hum.columns:\n",
        "  if pd.api.types.is_bool_dtype(hum[column]):\n",
        "    hum[column] = hum[column].astype(int)'''\n"
      ]
    },
    {
      "cell_type": "code",
      "execution_count": null,
      "metadata": {
        "colab": {
          "base_uri": "https://localhost:8080/"
        },
        "id": "4siwe2mg3aF4",
        "outputId": "4adc1a3a-1a82-4a1e-fd8f-f7719585d7d7"
      },
      "outputs": [
        {
          "output_type": "stream",
          "name": "stderr",
          "text": [
            "<ipython-input-7-ac66620c8baa>:8: FutureWarning: Downcasting behavior in `replace` is deprecated and will be removed in a future version. To retain the old behavior, explicitly call `result.infer_objects(copy=False)`. To opt-in to the future behavior, set `pd.set_option('future.no_silent_downcasting', True)`\n",
            "  hum[col] = hum[col].replace({'Yes': 1, 'No': 0})\n",
            "<ipython-input-7-ac66620c8baa>:8: SettingWithCopyWarning: \n",
            "A value is trying to be set on a copy of a slice from a DataFrame.\n",
            "Try using .loc[row_indexer,col_indexer] = value instead\n",
            "\n",
            "See the caveats in the documentation: https://pandas.pydata.org/pandas-docs/stable/user_guide/indexing.html#returning-a-view-versus-a-copy\n",
            "  hum[col] = hum[col].replace({'Yes': 1, 'No': 0})\n"
          ]
        }
      ],
      "source": [
        "# prompt: replace yes with 1 and no with 0 in 'recent_cnct_email', 'recent_cnct_print', 'recent_cnct_vat', 'recent_cnct_web', 'recent_cnct_livecall', 'recent_login_ctl'\n",
        "\n",
        "cols_to_replace = ['recent_cnct_email', 'recent_cnct_print', 'recent_cnct_vat',\n",
        "                   'recent_cnct_web', 'recent_cnct_livecall', 'recent_login_ctl']\n",
        "\n",
        "for col in cols_to_replace:\n",
        "  if col in hum.columns:\n",
        "    hum[col] = hum[col].replace({'Yes': 1, 'No': 0})\n"
      ]
    },
    {
      "cell_type": "code",
      "execution_count": null,
      "metadata": {
        "colab": {
          "base_uri": "https://localhost:8080/"
        },
        "id": "Ftx5SE283wqV",
        "outputId": "0e40df3d-ad6a-4c40-c965-8dafe44ff282"
      },
      "outputs": [
        {
          "output_type": "stream",
          "name": "stderr",
          "text": [
            "<ipython-input-8-b8d5e243ed17>:2: FutureWarning: Downcasting behavior in `replace` is deprecated and will be removed in a future version. To retain the old behavior, explicitly call `result.infer_objects(copy=False)`. To opt-in to the future behavior, set `pd.set_option('future.no_silent_downcasting', True)`\n",
            "  hum['tenure_band'] = hum['tenure_band'].replace({\n",
            "<ipython-input-8-b8d5e243ed17>:2: SettingWithCopyWarning: \n",
            "A value is trying to be set on a copy of a slice from a DataFrame.\n",
            "Try using .loc[row_indexer,col_indexer] = value instead\n",
            "\n",
            "See the caveats in the documentation: https://pandas.pydata.org/pandas-docs/stable/user_guide/indexing.html#returning-a-view-versus-a-copy\n",
            "  hum['tenure_band'] = hum['tenure_band'].replace({\n"
          ]
        }
      ],
      "source": [
        "if 'tenure_band' in hum.columns:\n",
        "  hum['tenure_band'] = hum['tenure_band'].replace({\n",
        "      '0 - 0.5 YEARS': 1,\n",
        "      '0.5 - 1 YEARS': 2,\n",
        "      '1 - 1.5 YEARS': 3,\n",
        "      '1.5 - 2 YEARS': 4,\n",
        "      '2 - 3 YEARS': 5,\n",
        "      '3 - 4 YEARS': 6,\n",
        "      '4 - 5 YEARS': 7,\n",
        "      '5 - 6 YEARS': 8,\n",
        "      '6 - 7 YEARS': 9,\n",
        "      '7+ YEARS': 10\n",
        "  })\n"
      ]
    },
    {
      "cell_type": "code",
      "execution_count": null,
      "metadata": {
        "id": "HlEE801f4PgI"
      },
      "outputs": [],
      "source": [
        "# prompt: drop id, county_of_residence, mco_contract_nbr\n",
        "\n",
        "cols_to_drop = ['id', 'county_of_residence']\n",
        "hum = hum.drop(columns=cols_to_drop, errors='ignore')\n"
      ]
    },
    {
      "cell_type": "code",
      "execution_count": null,
      "metadata": {
        "id": "RpdZAorn48f3"
      },
      "outputs": [],
      "source": [
        "# prompt: drop total_ip_snf_admit_days_pmpm, region, recent_cnct_print, pcp_visit, _ESRD, riskarr_rewards, recent_cnct_web due to low feature importance after modelling\n",
        "\n",
        "cols_to_drop_new = ['total_ip_snf_admit_days_pmpm', 'region', 'recent_cnct_print', 'pcp_visit', '_ESRD', 'riskarr_rewards', 'recent_cnct_web']\n",
        "hum = hum.drop(columns=cols_to_drop_new, errors='ignore')\n"
      ]
    },
    {
      "cell_type": "markdown",
      "metadata": {
        "id": "JbwROQzp5BrR"
      },
      "source": [
        "#### **Feature importance**"
      ]
    },
    {
      "cell_type": "code",
      "execution_count": null,
      "metadata": {
        "colab": {
          "base_uri": "https://localhost:8080/",
          "height": 803
        },
        "collapsed": true,
        "id": "gHmwNwrY5Hft",
        "outputId": "8ccbbc25-88f0-44fe-ee4a-6e78fb90a2bb"
      },
      "outputs": [
        {
          "data": {
            "image/png": "[encoded data removed]",
            "text/plain": [
              "<Figure size 1500x700 with 1 Axes>"
            ]
          },
          "metadata": {},
          "output_type": "display_data"
        }
      ],
      "source": [
        "# prompt: make a feature importance plot\n",
        "\n",
        "import numpy as np\n",
        "from sklearn.ensemble import RandomForestClassifier\n",
        "from sklearn.model_selection import train_test_split\n",
        "import matplotlib.pyplot as plt\n",
        "\n",
        "# Assuming 'target_variable' is the name of your target variable column\n",
        "X = hum.drop('preventive_visit_gap_ind', axis=1)  # Replace 'target_variable' with your actual target column name\n",
        "y = hum['preventive_visit_gap_ind']\n",
        "\n",
        "# Split the data into training and testing sets\n",
        "X_train, X_test, y_train, y_test = train_test_split(X, y, test_size=0.2, random_state=42)\n",
        "\n",
        "# Create a Random Forest Classifier (you can use other models as well)\n",
        "model = RandomForestClassifier()\n",
        "\n",
        "# Train the model\n",
        "model.fit(X_train, y_train)\n",
        "\n",
        "# Get feature importances\n",
        "importances = model.feature_importances_\n",
        "\n",
        "# Sort feature importances in descending order\n",
        "indices = np.argsort(importances)[::-1]\n",
        "\n",
        "# Rearrange feature names so they match the sorted feature importances\n",
        "names = [X.columns[i] for i in indices]\n",
        "\n",
        "# Create plot\n",
        "plt.figure(figsize=(15, 7))\n",
        "plt.title(\"Feature Importance\")\n",
        "plt.bar(range(X.shape[1]), importances[indices])\n",
        "plt.xticks(range(X.shape[1]), names, rotation=90)\n",
        "plt.show()\n"
      ]
    },
    {
      "cell_type": "code",
      "execution_count": null,
      "metadata": {
        "id": "82XMOtDc8ZGy"
      },
      "outputs": [],
      "source": [
        "# prompt: get the feature importance score in excel\n",
        "\n",
        "import pandas as pd\n",
        "feature_importance_df = pd.DataFrame({'Feature': X.columns, 'Importance': importances})\n",
        "feature_importance_df = feature_importance_df.sort_values('Importance', ascending=False)\n",
        "\n",
        "# Save the DataFrame to an Excel file in your Google Drive\n",
        "feature_importance_df.to_excel('/content/drive/MyDrive/Humana files/feature_importance.xlsx', index=False)\n"
      ]
    },
    {
      "cell_type": "code",
      "execution_count": null,
      "metadata": {
        "id": "And4zSrQAOCc"
      },
      "outputs": [],
      "source": [
        "# prompt: remove cms_frailty_ind, total_cob_paid_pmpm_cost, total_ip_mhsa_admit_days_pmpm, total_ip_rehab_admit_days_pmpm, nonpar_cob_paid_pmpm_cost,\n",
        "# bh_psyc_visit_ct_pmpm, total_ip_ltach_admit_days_pmpm, region_puerto rico, total_ip_maternity_admit_days_pmpm, rx_perphy_pmpm_ct, bh_rtc_admit_days_pmpm, recent_cnct_livecall\n",
        "\n",
        "cols_to_remove = ['cms_frailty_ind', 'total_cob_paid_pmpm_cost', 'total_ip_mhsa_admit_days_pmpm', 'total_ip_rehab_admit_days_pmpm', 'nonpar_cob_paid_pmpm_cost',\n",
        "                  'bh_psyc_visit_ct_pmpm', 'total_ip_ltach_admit_days_pmpm', 'total_ip_maternity_admit_days_pmpm', 'rx_perphy_pmpm_ct',\n",
        "                  'bh_rtc_admit_days_pmpm', 'recent_cnct_livecall']\n",
        "\n",
        "hum = hum.drop(columns=cols_to_remove, errors='ignore')\n"
      ]
    },
    {
      "cell_type": "code",
      "execution_count": null,
      "metadata": {
        "id": "xELtrh6GAmPA"
      },
      "outputs": [],
      "source": [
        "# Create a new column 'Preventive Care Visits' by summing the specified columns\n",
        "hum['preventive_care_visits'] = hum['annual_wellness'] + hum['preventative_visit'] + hum['comp_physical_exam'] + hum['telehealth'] + hum['humana_paf']\n",
        "\n",
        "# Create a new column 'Urgent and Emergency Care' by summing the specified columns\n",
        "hum['urgent_and_emergency_care'] = hum['urgent_care_visit'] + hum['er_visit'] + hum['fqhc_visit']\n",
        "\n",
        "hum['Specialist Visits'] = hum['endocrinologist_visit'] + hum['oncolologist_visit'] + hum['radiologist_visit'] + hum['podiatrist_visit'] + hum['ophthalmologist_visit'] + hum['optometrist_visit'] + hum['physical_therapist_visit'] + hum['cardiologist_visit'] + hum['gastroenterologist_visit'] + hum['orthopedist_visit'] + hum['obgyn_visit'] + hum['nephroloogist_visit'] + hum['pulmonologist_visit']\n",
        "\n",
        "\n",
        "cols_to_drop = ['annual_wellness', 'endocrinologist_visit', 'oncolologist_visit', 'radiologist_visit', 'podiatrist_visit',\n",
        "                'preventative_visit', 'comp_physical_exam', 'urgent_care_visit', 'er_visit', 'fqhc_visit',\n",
        "                'telehealth', 'ophthalmologist_visit', 'optometrist_visit', 'physical_therapist_visit',\n",
        "                'cardiologist_visit', 'gastroenterologist_visit', 'orthopedist_visit', 'obgyn_visit',\n",
        "                'nephroloogist_visit', 'pulmonologist_visit', 'humana_paf']\n",
        "\n",
        "hum = hum.drop(columns=cols_to_drop, errors='ignore')\n"
      ]
    },
    {
      "cell_type": "code",
      "execution_count": null,
      "metadata": {
        "collapsed": true,
        "id": "TNxa6-TBDgTr"
      },
      "outputs": [],
      "source": [
        "X = hum.drop('preventive_visit_gap_ind', axis=1)  # Replace 'target_variable' with your actual target column name\n",
        "y = hum['preventive_visit_gap_ind']\n",
        "\n",
        "# Split the data into training and testing sets\n",
        "X_train, X_test, y_train, y_test = train_test_split(X, y, test_size=0.2, random_state=42)\n",
        "\n",
        "# Create a Random Forest Classifier (you can use other models as well)\n",
        "model = RandomForestClassifier()\n",
        "\n",
        "# Train the model\n",
        "model.fit(X_train, y_train)\n",
        "\n",
        "# Get feature importances\n",
        "importances = model.feature_importances_\n",
        "\n",
        "# Sort feature importances in descending order\n",
        "indices = np.argsort(importances)[::-1]\n",
        "\n",
        "# Rearrange feature names so they match the sorted feature importances\n",
        "names = [X.columns[i] for i in indices]\n",
        "\n",
        "# Create plot\n",
        "plt.figure(figsize=(15, 7))\n",
        "plt.title(\"Feature Importance\")\n",
        "plt.bar(range(X.shape[1]), importances[indices])\n",
        "plt.xticks(range(X.shape[1]), names, rotation=90)\n",
        "plt.show()"
      ]
    },
    {
      "cell_type": "code",
      "execution_count": null,
      "metadata": {
        "id": "8vAZRq8dFq3s"
      },
      "outputs": [],
      "source": [
        "# prompt: move these importance score to excel\n",
        "\n",
        "import pandas as pd\n",
        "feature_importance_df = pd.DataFrame({'Feature': X.columns, 'Importance': importances})\n",
        "feature_importance_df = feature_importance_df.sort_values('Importance', ascending=False)\n",
        "\n",
        "# Save the DataFrame to an Excel file in your Google Drive\n",
        "feature_importance_df.to_excel('/content/drive/MyDrive/Humana files/feature_importance_new.xlsx', index=False)\n"
      ]
    },
    {
      "cell_type": "code",
      "execution_count": null,
      "metadata": {
        "colab": {
          "base_uri": "https://localhost:8080/"
        },
        "id": "lQtgBRu8HJl7",
        "outputId": "789c3dc8-d261-4841-f4c9-1561605bc2a6"
      },
      "outputs": [
        {
          "output_type": "execute_result",
          "data": {
            "text/plain": [
              "(576316, 108)"
            ]
          },
          "metadata": {},
          "execution_count": 13
        }
      ],
      "source": [
        "hum.shape"
      ]
    },
    {
      "cell_type": "code",
      "execution_count": null,
      "metadata": {
        "colab": {
          "base_uri": "https://localhost:8080/",
          "height": 452
        },
        "id": "iVztRkYGf-AV",
        "outputId": "082461e3-c605-4b29-8c1b-a71471104264"
      },
      "outputs": [
        {
          "data": {
            "image/png": "[encoded data removed]",
            "text/plain": [
              "<Figure size 640x480 with 1 Axes>"
            ]
          },
          "metadata": {},
          "output_type": "display_data"
        }
      ],
      "source": [
        "# prompt: I want to see the column chart with legend = target variable (show 0 and 1) .. and x axis = white male, white female, black male, and black female.. can you show proportions\n",
        "\n",
        "import matplotlib.pyplot as plt\n",
        "\n",
        "# Filter the DataFrame for white and black males and females\n",
        "white_male = hum[(hum['race_white'] == 1) & (hum['sex_cd_m'] == 1)]\n",
        "white_female = hum[(hum['race_white'] == 1) & (hum['sex_cd_f'] == 1)]\n",
        "black_male = hum[(hum['race_black'] == 1) & (hum['sex_cd_m'] == 1)]\n",
        "black_female = hum[(hum['race_black'] == 1) & (hum['sex_cd_f'] == 1)]\n",
        "\n",
        "# Calculate the proportion of target variable (0 and 1) for each group\n",
        "def calculate_proportions(df):\n",
        "  total_count = len(df)\n",
        "  target_0_count = len(df[df['preventive_visit_gap_ind'] == 0])\n",
        "  target_1_count = len(df[df['preventive_visit_gap_ind'] == 1])\n",
        "  return target_0_count / total_count, target_1_count / total_count\n",
        "\n",
        "white_male_props = calculate_proportions(white_male)\n",
        "white_female_props = calculate_proportions(white_female)\n",
        "black_male_props = calculate_proportions(black_male)\n",
        "black_female_props = calculate_proportions(black_female)\n",
        "\n",
        "# Create the bar chart\n",
        "categories = ['White Male', 'White Female', 'Black Male', 'Black Female']\n",
        "target_0_props = [white_male_props[0], white_female_props[0], black_male_props[0], black_female_props[0]]\n",
        "target_1_props = [white_male_props[1], white_female_props[1], black_male_props[1], black_female_props[1]]\n",
        "\n",
        "width = 0.35\n",
        "x = range(len(categories))\n",
        "\n",
        "fig, ax = plt.subplots()\n",
        "rects1 = ax.bar(x, target_0_props, width, label='Target 0')\n",
        "rects2 = ax.bar([i + width for i in x], target_1_props, width, label='Target 1')\n",
        "\n",
        "ax.set_ylabel('Proportion')\n",
        "ax.set_title('Proportion of Target Variable by Race and Sex')\n",
        "ax.set_xticks([i + width / 2 for i in x])\n",
        "ax.set_xticklabels(categories)\n",
        "ax.legend()\n",
        "\n",
        "plt.show()\n"
      ]
    },
    {
      "cell_type": "markdown",
      "metadata": {
        "id": "kNr8BsYvVMKx"
      },
      "source": [
        "#### **Train-Test Split**"
      ]
    },
    {
      "cell_type": "code",
      "execution_count": null,
      "metadata": {
        "id": "xXgiiGh5VQ3v"
      },
      "outputs": [],
      "source": [
        "from sklearn.model_selection import train_test_split\n",
        "\n",
        "X=hum.drop(columns=['preventive_visit_gap_ind'])\n",
        "y=hum['preventive_visit_gap_ind']\n",
        "\n",
        "X_train, X_test, y_train, y_test = train_test_split(X, y, test_size = 0.3, stratify=y, random_state=0)"
      ]
    },
    {
      "cell_type": "code",
      "execution_count": null,
      "metadata": {
        "colab": {
          "base_uri": "https://localhost:8080/"
        },
        "id": "7HOEBtNTWVKI",
        "outputId": "52e26632-4cf4-4e23-ba47-5ddcf223cb22"
      },
      "outputs": [
        {
          "output_type": "execute_result",
          "data": {
            "text/plain": [
              "((403421, 107), (172895, 107), (403421,), (172895,))"
            ]
          },
          "metadata": {},
          "execution_count": 15
        }
      ],
      "source": [
        "X_train.shape, X_test.shape, y_train.shape, y_test.shape"
      ]
    },
    {
      "cell_type": "code",
      "source": [
        "# prompt: generate the list of columns in csv of X_train in excel  .. not in drive\n",
        "\n",
        "import pandas as pd\n",
        "\n",
        "# Assuming X_train is your DataFrame\n",
        "column_list = X_train.columns.tolist()\n",
        "\n",
        "# Create a Pandas DataFrame with the column list\n",
        "df_columns = pd.DataFrame({'Columns': column_list})\n",
        "\n",
        "# Export the DataFrame to an Excel file (without saving to Google Drive)\n",
        "df_columns.to_excel('column_list.xlsx', index=False)\n"
      ],
      "metadata": {
        "id": "FL87jMa3VVXM"
      },
      "execution_count": null,
      "outputs": []
    },
    {
      "cell_type": "markdown",
      "metadata": {
        "id": "b50xU0VDHKrL"
      },
      "source": [
        "#### **Transforming distribution**"
      ]
    },
    {
      "cell_type": "code",
      "execution_count": null,
      "metadata": {
        "id": "9CQUXxWAUZvC"
      },
      "outputs": [],
      "source": [
        "from sklearn.compose import ColumnTransformer\n",
        "from sklearn.pipeline import Pipeline\n",
        "from sklearn.preprocessing import  QuantileTransformer, PowerTransformer, OneHotEncoder, StandardScaler\n",
        "from sklearn.preprocessing import FunctionTransformer\n",
        "from sklearn.impute import KNNImputer"
      ]
    },
    {
      "cell_type": "code",
      "execution_count": null,
      "metadata": {
        "id": "K5BD7gZFta5E"
      },
      "outputs": [],
      "source": [
        "quant_k_attrs = ['cms_tot_ma_payment_amt', 'atlas_ffrpth14', 'atlas_fsrpth14', 'atlas_grocpth14', 'atlas_povertyallagespct', 'rwjf_mv_deaths_rate',\n",
        "           'rwjf_violent_crime_rate', 'rwjf_population', 'rwjf_hiv_rate', 'rwjf_men_hlth_prov_ratio', 'rwjf_drug_overdose_deaths_rate',\n",
        "           'rwjf_life_expectancy', 'rwjf_healthcare_cost', 'rwjf_income_inequ_ratio', 'atlas_recfacpth14', 'rwjf_pcp_rate', 'rwjf_unemploy_pct', 'rwjf_age_gt_65_pct', 'rwjf_african_race_pct', 'rwjf_native_race_pct',\n",
        "'rwjf_hispanic_pct', 'rwjf_diabetes_pct', 'rwjf_hawaiian_race_pct', 'rwjf_asian_race_pct', 'rwjf_limit_hlthy_food_pct', 'rwjf_uninsured_pct',\n",
        "         'rwjf_other_pcp', 'rwjf_housing_cost_burden_pct', 'rwjf_preventable_ip_rate', 'rwjf_high_school_pct','rwjf_female_pct','rwjf_white_race_pct','rwjf_exercise_access_pct','rwjf_flu_vax']\n",
        "\n",
        "\n",
        "quant_attrs = ['cci_score', 'fci_score', 'dcsi_score', 'nonpar_clm_ct_pmpm', 'nonpar_allowed_pmpm_cost','nonpar_coins_pmpm_cost',\n",
        "         'nonpar_copay_pmpm_cost','nonpar_deduct_pmpm_cost','nonpar_mbr_resp_pmpm_cost','nonpar_ds_clm','total_allowed_pmpm_cost',\n",
        "         'total_deduct_pmpm_cost','total_mbr_resp_pmpm_cost','days_since_last_clm','rx_overall_pmpm_cost',\n",
        "         'rx_overall_deduct_pmpm_cost','rx_overall_mbr_resp_pmpm_cost','rx_overall_pmpm_ct','rx_tier_4_pmpm_ct', 'rx_days_since_last_script','rx_pharmacies_pmpm_ct',\n",
        "         'mm_tenure - consec_tenure','quality_chronic_disease','quality_preventive_care','quality_patient_safety','cnt_cp_emails_pmpm_ct','cnt_cp_print_pmpm_ct',\n",
        "         'cnt_cp_vat_pmpm_ct','cnt_cp_webstatement_pmpm_ct','days_since_last_login','login_pmpm_ct', 'compliant_cnt', 'age']\n",
        "\n",
        "k_s_attrs = ['rwjf_adult_obesity_pct','rwjf_alcoholic_pct','rwjf_mammography_pct','rwjf_age_lt_18_pct','rwjf_insufficient_sleep_pct', 'plan_benefit_package_id','quality_medication_management','quality_screening']\n",
        "\n",
        "#s = ['plan_benefit_package_id','quality_medication_management','quality_screening'] (scaling them along with above k attributes just for consistency)\n",
        "\n",
        "\n",
        "cat_attribs = ['channel', 'race', 'sex_cd', 'mco_contract_nbr']\n",
        "\n",
        "\n",
        "passthrough_attrs = ['recent_cnct_email', 'recent_cnct_vat', 'recent_login_ctl', 'tenure_band' ]\n",
        "\n",
        "\n",
        "quantile_k_pipeline = Pipeline([('imputer', KNNImputer(n_neighbors=5)),('quantile', QuantileTransformer(n_quantiles=500))])\n",
        "quantile_pipeline = Pipeline([('quantile', QuantileTransformer(n_quantiles=500))])\n",
        "knn_pipeline = Pipeline([('imputer', KNNImputer(n_neighbors=5)),('scaler', StandardScaler())])\n",
        "\n",
        "\n",
        "quantile_k_pipeline1 = Pipeline([('imputer', KNNImputer(n_neighbors=5)),('quantile', QuantileTransformer(n_quantiles=200))])\n",
        "quantile_pipeline1 = Pipeline([('quantile', QuantileTransformer(n_quantiles=200))])\n",
        "\n",
        "cat_pipeline = Pipeline([(\"categorical transform\", OneHotEncoder(handle_unknown=\"ignore\"))])\n"
      ]
    },
    {
      "cell_type": "code",
      "execution_count": null,
      "metadata": {
        "id": "wQ7PWtNZ5OlO"
      },
      "outputs": [],
      "source": [
        "'''preprocessing_pipelines = [\n",
        "    ColumnTransformer([\n",
        "        ('q_k', quantile_k_pipeline, quant_k_attrs),\n",
        "        ('q', quantile_pipeline, quant_attrs),\n",
        "        ('k_s', knn_pipeline, k_s_attrs),\n",
        "        (\"cat\", cat_pipeline, cat_attribs),\n",
        "        (\"map1\", ordinal_pipeline1, map1_attrs),\n",
        "        (\"passthrough\", \"passthrough\", passthrough_attrs),\n",
        "    ], remainder='passthrough'),\n",
        "    ColumnTransformer([\n",
        "        ('q_k', quantile_k_pipeline, quant_k_attrs),\n",
        "        ('q', quantile_pipeline, quant_attrs),\n",
        "        ('k_s', knn_pipeline, k_s_attrs),\n",
        "        (\"cat\", cat_pipeline, cat_attribs),\n",
        "        (\"cat1\", cat_pipeline, cat_attrs1),\n",
        "        (\"passthrough\", \"passthrough\", passthrough_attrs)\n",
        "    ], remainder='passthrough'),\n",
        "    ColumnTransformer([\n",
        "        ('q_k1', quantile_k_pipeline1, quant_k_attrs),\n",
        "        ('q1', quantile_pipeline1, quant_attrs),\n",
        "        ('k_s', knn_pipeline, k_s_attrs),\n",
        "        (\"cat\", cat_pipeline, cat_attribs),\n",
        "        (\"map1\", ordinal_pipeline1, map1_attrs),\n",
        "        (\"passthrough\", \"passthrough\", passthrough_attrs)\n",
        "    ], remainder='passthrough'),\n",
        "    ColumnTransformer([\n",
        "        ('q_k', quantile_k_pipeline, quant_k_attrs),\n",
        "        ('q', quantile_pipeline, quant_attrs),\n",
        "        ('k_s', knn_pipeline, k_s_attrs),\n",
        "        (\"cat\", cat_pipeline, cat_attribs),\n",
        "        (\"cat1\", cat_pipeline, cat_attrs1),\n",
        "        (\"passthrough\", \"passthrough\", passthrough_attrs)\n",
        "    ], remainder='passthrough')\n",
        "]'''"
      ]
    },
    {
      "cell_type": "code",
      "execution_count": null,
      "metadata": {
        "id": "UJOiws2H8DSB"
      },
      "outputs": [],
      "source": [
        "'''# prompt: evaluate these preprocessing_pipelines for random forest .. and see which pipeline gives best roc-auc score\n",
        "\n",
        "from sklearn.metrics import roc_auc_score\n",
        "from sklearn.ensemble import RandomForestClassifier\n",
        "\n",
        "# Assuming you have X_train, X_test, y_train, y_test defined\n",
        "\n",
        "results = []\n",
        "for i, pipeline in enumerate(preprocessing_pipelines):\n",
        "  try:\n",
        "    X_train_processed = pipeline.fit_transform(X_train)\n",
        "    X_test_processed = pipeline.transform(X_test)\n",
        "\n",
        "    model = RandomForestClassifier()\n",
        "    model.fit(X_train_processed, y_train)\n",
        "\n",
        "    y_pred_proba = model.predict_proba(X_test_processed)[:, 1]\n",
        "    roc_auc = roc_auc_score(y_test, y_pred_proba)\n",
        "    results.append((i, roc_auc))\n",
        "  except Exception as e:\n",
        "    print(f\"Error processing pipeline {i}: {e}\")\n",
        "\n",
        "best_pipeline_index, best_roc_auc = max(results, key=lambda x: x[1])\n",
        "print(f\"Best pipeline index: {best_pipeline_index}, Best ROC-AUC: {best_roc_auc}\")\n",
        "'''"
      ]
    },
    {
      "cell_type": "code",
      "execution_count": null,
      "metadata": {
        "id": "XZv1GXch9uWM"
      },
      "outputs": [],
      "source": [
        "preprocessor = ColumnTransformer([\n",
        "        ('q_k', quantile_k_pipeline, quant_k_attrs),\n",
        "        ('q', quantile_pipeline, quant_attrs),\n",
        "        ('k_s', knn_pipeline, k_s_attrs),\n",
        "        (\"cat\", cat_pipeline, cat_attribs),\n",
        "        (\"passthrough\", \"passthrough\", passthrough_attrs),\n",
        "    ], remainder='passthrough')"
      ]
    },
    {
      "cell_type": "code",
      "execution_count": null,
      "metadata": {
        "id": "bF7HG074VJZ0"
      },
      "outputs": [],
      "source": [
        "# Preprocess the numerical features of training and testing data\n",
        "X_train_preprocessed = preprocessor.fit_transform(X_train)\n",
        "X_test_preprocessed = preprocessor.transform(X_test)\n",
        "\n",
        "\n",
        "\n"
      ]
    },
    {
      "cell_type": "code",
      "execution_count": null,
      "metadata": {
        "id": "VjCvBFOclxIH"
      },
      "outputs": [],
      "source": [
        "\n",
        "'''# Convert the preprocessed NumPy arrays back to DataFrames with column names\n",
        "X_train_preprocessed_df = pd.DataFrame(X_train_preprocessed)\n",
        "X_test_preprocessed_df = pd.DataFrame(X_test_preprocessed)\n",
        "\n",
        "# Use these DataFrames as your final training and testing sets\n",
        "X_train_final = X_train_preprocessed_df\n",
        "X_test_final = X_test_preprocessed_df'''"
      ]
    },
    {
      "cell_type": "code",
      "execution_count": null,
      "metadata": {
        "id": "mIif_jxJ3AZ9"
      },
      "outputs": [],
      "source": [
        "# prompt: instead if column names.. it s giving me columns.. replace column names\n",
        "\n",
        "import pandas as pd\n",
        "# Assuming you have X_train_preprocessed_df and X_test_preprocessed_df defined\n",
        "\n",
        "# Get feature names from the preprocessor\n",
        "feature_names = preprocessor.get_feature_names_out()\n",
        "\n",
        "# Rename columns in the DataFrames\n",
        "X_train_final = pd.DataFrame(X_train_preprocessed, columns=feature_names)\n",
        "X_test_final = pd.DataFrame(X_test_preprocessed, columns=feature_names)\n",
        "\n",
        "# Now X_train_final and X_test_final have proper column names\n"
      ]
    },
    {
      "cell_type": "code",
      "source": [
        "# prompt: Transfer X_train_final, X_test_final, y_train, y_test separately in a csv file in drive.. you dont need to merge them\n",
        "\n",
        "import pandas as pd\n",
        "# Save X_train_final to a CSV file in your Google Drive\n",
        "X_train_final.to_csv('/content/drive/MyDrive/Humana files/X_train_final.csv', index=False)\n",
        "\n",
        "# Save X_test_final to a CSV file in your Google Drive\n",
        "X_test_final.to_csv('/content/drive/MyDrive/Humana files/X_test_final.csv', index=False)\n",
        "\n",
        "# Save y_train to a CSV file in your Google Drive\n",
        "pd.DataFrame(y_train).to_csv('/content/drive/MyDrive/Humana files/y_train.csv', index=False)\n",
        "\n",
        "# Save y_test to a CSV file in your Google Drive\n",
        "pd.DataFrame(y_test).to_csv('/content/drive/MyDrive/Humana files/y_test.csv', index=False)\n"
      ],
      "metadata": {
        "id": "KkLs2ZmglJXJ"
      },
      "execution_count": null,
      "outputs": []
    },
    {
      "cell_type": "code",
      "execution_count": null,
      "metadata": {
        "id": "Zum0xzab3YcN"
      },
      "outputs": [],
      "source": [
        " #Create a DataFrame with the column names\n",
        "column_names_df = pd.DataFrame({'Column Names': X_train_final.columns})\n",
        "\n",
        "# Save the DataFrame to an Excel file\n",
        "column_names_df.to_excel('column_names_7777X_train.xlsx', index=False)\n",
        "\n"
      ]
    },
    {
      "cell_type": "markdown",
      "metadata": {
        "id": "yk7wnCafWkmy"
      },
      "source": [
        "###### **Reweighing using AIF360**"
      ]
    },
    {
      "cell_type": "code",
      "execution_count": null,
      "metadata": {
        "id": "kEdGLrabWuL4"
      },
      "outputs": [],
      "source": [
        "# Combine X_train_final and y_train into a single dataframe for AIF360 compatibility\n",
        "train_data = pd.concat([X_train_final.reset_index(drop=True), y_train.reset_index(drop=True)], axis=1)"
      ]
    },
    {
      "cell_type": "code",
      "execution_count": null,
      "metadata": {
        "id": "BUiX-Jxvh8hl",
        "colab": {
          "base_uri": "https://localhost:8080/"
        },
        "outputId": "726fefb8-66c7-45ea-9566-df46158e6571"
      },
      "outputs": [
        {
          "output_type": "stream",
          "name": "stdout",
          "text": [
            "Collecting aif360\n",
            "  Downloading aif360-0.6.1-py3-none-any.whl.metadata (5.0 kB)\n",
            "Requirement already satisfied: numpy>=1.16 in /usr/local/lib/python3.10/dist-packages (from aif360) (1.26.4)\n",
            "Requirement already satisfied: scipy>=1.2.0 in /usr/local/lib/python3.10/dist-packages (from aif360) (1.13.1)\n",
            "Requirement already satisfied: pandas>=0.24.0 in /usr/local/lib/python3.10/dist-packages (from aif360) (2.2.2)\n",
            "Requirement already satisfied: scikit-learn>=1.0 in /usr/local/lib/python3.10/dist-packages (from aif360) (1.5.2)\n",
            "Requirement already satisfied: matplotlib in /usr/local/lib/python3.10/dist-packages (from aif360) (3.7.1)\n",
            "Requirement already satisfied: python-dateutil>=2.8.2 in /usr/local/lib/python3.10/dist-packages (from pandas>=0.24.0->aif360) (2.8.2)\n",
            "Requirement already satisfied: pytz>=2020.1 in /usr/local/lib/python3.10/dist-packages (from pandas>=0.24.0->aif360) (2024.2)\n",
            "Requirement already satisfied: tzdata>=2022.7 in /usr/local/lib/python3.10/dist-packages (from pandas>=0.24.0->aif360) (2024.2)\n",
            "Requirement already satisfied: joblib>=1.2.0 in /usr/local/lib/python3.10/dist-packages (from scikit-learn>=1.0->aif360) (1.4.2)\n",
            "Requirement already satisfied: threadpoolctl>=3.1.0 in /usr/local/lib/python3.10/dist-packages (from scikit-learn>=1.0->aif360) (3.5.0)\n",
            "Requirement already satisfied: contourpy>=1.0.1 in /usr/local/lib/python3.10/dist-packages (from matplotlib->aif360) (1.3.0)\n",
            "Requirement already satisfied: cycler>=0.10 in /usr/local/lib/python3.10/dist-packages (from matplotlib->aif360) (0.12.1)\n",
            "Requirement already satisfied: fonttools>=4.22.0 in /usr/local/lib/python3.10/dist-packages (from matplotlib->aif360) (4.54.1)\n",
            "Requirement already satisfied: kiwisolver>=1.0.1 in /usr/local/lib/python3.10/dist-packages (from matplotlib->aif360) (1.4.7)\n",
            "Requirement already satisfied: packaging>=20.0 in /usr/local/lib/python3.10/dist-packages (from matplotlib->aif360) (24.1)\n",
            "Requirement already satisfied: pillow>=6.2.0 in /usr/local/lib/python3.10/dist-packages (from matplotlib->aif360) (10.4.0)\n",
            "Requirement already satisfied: pyparsing>=2.3.1 in /usr/local/lib/python3.10/dist-packages (from matplotlib->aif360) (3.1.4)\n",
            "Requirement already satisfied: six>=1.5 in /usr/local/lib/python3.10/dist-packages (from python-dateutil>=2.8.2->pandas>=0.24.0->aif360) (1.16.0)\n",
            "Downloading aif360-0.6.1-py3-none-any.whl (259 kB)\n",
            "\u001b[2K   \u001b[90m━━━━━━━━━━━━━━━━━━━━━━━━━━━━━━━━━━━━━━━━\u001b[0m \u001b[32m259.7/259.7 kB\u001b[0m \u001b[31m5.0 MB/s\u001b[0m eta \u001b[36m0:00:00\u001b[0m\n",
            "\u001b[?25hInstalling collected packages: aif360\n",
            "Successfully installed aif360-0.6.1\n"
          ]
        }
      ],
      "source": [
        "!pip install aif360"
      ]
    },
    {
      "cell_type": "code",
      "execution_count": null,
      "metadata": {
        "id": "Gjv-Jltriolg",
        "colab": {
          "base_uri": "https://localhost:8080/"
        },
        "outputId": "5ae88296-d5f5-4a2a-ee39-2c0c6c72a0f5"
      },
      "outputs": [
        {
          "output_type": "stream",
          "name": "stdout",
          "text": [
            "Requirement already satisfied: aif360[Reductions] in /usr/local/lib/python3.10/dist-packages (0.6.1)\n",
            "Requirement already satisfied: numpy>=1.16 in /usr/local/lib/python3.10/dist-packages (from aif360[Reductions]) (1.26.4)\n",
            "Requirement already satisfied: scipy>=1.2.0 in /usr/local/lib/python3.10/dist-packages (from aif360[Reductions]) (1.13.1)\n",
            "Requirement already satisfied: pandas>=0.24.0 in /usr/local/lib/python3.10/dist-packages (from aif360[Reductions]) (2.2.2)\n",
            "Requirement already satisfied: scikit-learn>=1.0 in /usr/local/lib/python3.10/dist-packages (from aif360[Reductions]) (1.5.2)\n",
            "Requirement already satisfied: matplotlib in /usr/local/lib/python3.10/dist-packages (from aif360[Reductions]) (3.7.1)\n",
            "Collecting fairlearn~=0.7 (from aif360[Reductions])\n",
            "  Downloading fairlearn-0.10.0-py3-none-any.whl.metadata (7.0 kB)\n",
            "Requirement already satisfied: python-dateutil>=2.8.2 in /usr/local/lib/python3.10/dist-packages (from pandas>=0.24.0->aif360[Reductions]) (2.8.2)\n",
            "Requirement already satisfied: pytz>=2020.1 in /usr/local/lib/python3.10/dist-packages (from pandas>=0.24.0->aif360[Reductions]) (2024.2)\n",
            "Requirement already satisfied: tzdata>=2022.7 in /usr/local/lib/python3.10/dist-packages (from pandas>=0.24.0->aif360[Reductions]) (2024.2)\n",
            "Requirement already satisfied: joblib>=1.2.0 in /usr/local/lib/python3.10/dist-packages (from scikit-learn>=1.0->aif360[Reductions]) (1.4.2)\n",
            "Requirement already satisfied: threadpoolctl>=3.1.0 in /usr/local/lib/python3.10/dist-packages (from scikit-learn>=1.0->aif360[Reductions]) (3.5.0)\n",
            "Requirement already satisfied: contourpy>=1.0.1 in /usr/local/lib/python3.10/dist-packages (from matplotlib->aif360[Reductions]) (1.3.0)\n",
            "Requirement already satisfied: cycler>=0.10 in /usr/local/lib/python3.10/dist-packages (from matplotlib->aif360[Reductions]) (0.12.1)\n",
            "Requirement already satisfied: fonttools>=4.22.0 in /usr/local/lib/python3.10/dist-packages (from matplotlib->aif360[Reductions]) (4.54.1)\n",
            "Requirement already satisfied: kiwisolver>=1.0.1 in /usr/local/lib/python3.10/dist-packages (from matplotlib->aif360[Reductions]) (1.4.7)\n",
            "Requirement already satisfied: packaging>=20.0 in /usr/local/lib/python3.10/dist-packages (from matplotlib->aif360[Reductions]) (24.1)\n",
            "Requirement already satisfied: pillow>=6.2.0 in /usr/local/lib/python3.10/dist-packages (from matplotlib->aif360[Reductions]) (10.4.0)\n",
            "Requirement already satisfied: pyparsing>=2.3.1 in /usr/local/lib/python3.10/dist-packages (from matplotlib->aif360[Reductions]) (3.1.4)\n",
            "Requirement already satisfied: six>=1.5 in /usr/local/lib/python3.10/dist-packages (from python-dateutil>=2.8.2->pandas>=0.24.0->aif360[Reductions]) (1.16.0)\n",
            "Downloading fairlearn-0.10.0-py3-none-any.whl (234 kB)\n",
            "\u001b[2K   \u001b[90m━━━━━━━━━━━━━━━━━━━━━━━━━━━━━━━━━━━━━━━━\u001b[0m \u001b[32m234.1/234.1 kB\u001b[0m \u001b[31m4.8 MB/s\u001b[0m eta \u001b[36m0:00:00\u001b[0m\n",
            "\u001b[?25hInstalling collected packages: fairlearn\n",
            "Successfully installed fairlearn-0.10.0\n",
            "Requirement already satisfied: aif360[Reductions] in /usr/local/lib/python3.10/dist-packages (0.6.1)\n",
            "Requirement already satisfied: numpy>=1.16 in /usr/local/lib/python3.10/dist-packages (from aif360[Reductions]) (1.26.4)\n",
            "Requirement already satisfied: scipy>=1.2.0 in /usr/local/lib/python3.10/dist-packages (from aif360[Reductions]) (1.13.1)\n",
            "Requirement already satisfied: pandas>=0.24.0 in /usr/local/lib/python3.10/dist-packages (from aif360[Reductions]) (2.2.2)\n",
            "Requirement already satisfied: scikit-learn>=1.0 in /usr/local/lib/python3.10/dist-packages (from aif360[Reductions]) (1.5.2)\n",
            "Requirement already satisfied: matplotlib in /usr/local/lib/python3.10/dist-packages (from aif360[Reductions]) (3.7.1)\n",
            "Requirement already satisfied: fairlearn~=0.7 in /usr/local/lib/python3.10/dist-packages (from aif360[Reductions]) (0.10.0)\n",
            "Requirement already satisfied: python-dateutil>=2.8.2 in /usr/local/lib/python3.10/dist-packages (from pandas>=0.24.0->aif360[Reductions]) (2.8.2)\n",
            "Requirement already satisfied: pytz>=2020.1 in /usr/local/lib/python3.10/dist-packages (from pandas>=0.24.0->aif360[Reductions]) (2024.2)\n",
            "Requirement already satisfied: tzdata>=2022.7 in /usr/local/lib/python3.10/dist-packages (from pandas>=0.24.0->aif360[Reductions]) (2024.2)\n",
            "Requirement already satisfied: joblib>=1.2.0 in /usr/local/lib/python3.10/dist-packages (from scikit-learn>=1.0->aif360[Reductions]) (1.4.2)\n",
            "Requirement already satisfied: threadpoolctl>=3.1.0 in /usr/local/lib/python3.10/dist-packages (from scikit-learn>=1.0->aif360[Reductions]) (3.5.0)\n",
            "Requirement already satisfied: contourpy>=1.0.1 in /usr/local/lib/python3.10/dist-packages (from matplotlib->aif360[Reductions]) (1.3.0)\n",
            "Requirement already satisfied: cycler>=0.10 in /usr/local/lib/python3.10/dist-packages (from matplotlib->aif360[Reductions]) (0.12.1)\n",
            "Requirement already satisfied: fonttools>=4.22.0 in /usr/local/lib/python3.10/dist-packages (from matplotlib->aif360[Reductions]) (4.54.1)\n",
            "Requirement already satisfied: kiwisolver>=1.0.1 in /usr/local/lib/python3.10/dist-packages (from matplotlib->aif360[Reductions]) (1.4.7)\n",
            "Requirement already satisfied: packaging>=20.0 in /usr/local/lib/python3.10/dist-packages (from matplotlib->aif360[Reductions]) (24.1)\n",
            "Requirement already satisfied: pillow>=6.2.0 in /usr/local/lib/python3.10/dist-packages (from matplotlib->aif360[Reductions]) (10.4.0)\n",
            "Requirement already satisfied: pyparsing>=2.3.1 in /usr/local/lib/python3.10/dist-packages (from matplotlib->aif360[Reductions]) (3.1.4)\n",
            "Requirement already satisfied: six>=1.5 in /usr/local/lib/python3.10/dist-packages (from python-dateutil>=2.8.2->pandas>=0.24.0->aif360[Reductions]) (1.16.0)\n",
            "Requirement already satisfied: aif360[inFairness] in /usr/local/lib/python3.10/dist-packages (0.6.1)\n",
            "Requirement already satisfied: numpy>=1.16 in /usr/local/lib/python3.10/dist-packages (from aif360[inFairness]) (1.26.4)\n",
            "Requirement already satisfied: scipy>=1.2.0 in /usr/local/lib/python3.10/dist-packages (from aif360[inFairness]) (1.13.1)\n",
            "Requirement already satisfied: pandas>=0.24.0 in /usr/local/lib/python3.10/dist-packages (from aif360[inFairness]) (2.2.2)\n",
            "Requirement already satisfied: scikit-learn>=1.0 in /usr/local/lib/python3.10/dist-packages (from aif360[inFairness]) (1.5.2)\n",
            "Requirement already satisfied: matplotlib in /usr/local/lib/python3.10/dist-packages (from aif360[inFairness]) (3.7.1)\n",
            "Collecting skorch (from aif360[inFairness])\n",
            "  Downloading skorch-1.0.0-py3-none-any.whl.metadata (11 kB)\n",
            "Collecting inFairness>=0.2.2 (from aif360[inFairness])\n",
            "  Downloading inFairness-0.2.3-py3-none-any.whl.metadata (8.1 kB)\n",
            "Collecting POT>=0.8.0 (from inFairness>=0.2.2->aif360[inFairness])\n",
            "  Downloading POT-0.9.4-cp310-cp310-manylinux_2_17_x86_64.manylinux2014_x86_64.whl.metadata (32 kB)\n",
            "Requirement already satisfied: torch>=1.13.0 in /usr/local/lib/python3.10/dist-packages (from inFairness>=0.2.2->aif360[inFairness]) (2.4.1+cu121)\n",
            "Requirement already satisfied: python-dateutil>=2.8.2 in /usr/local/lib/python3.10/dist-packages (from pandas>=0.24.0->aif360[inFairness]) (2.8.2)\n",
            "Requirement already satisfied: pytz>=2020.1 in /usr/local/lib/python3.10/dist-packages (from pandas>=0.24.0->aif360[inFairness]) (2024.2)\n",
            "Requirement already satisfied: tzdata>=2022.7 in /usr/local/lib/python3.10/dist-packages (from pandas>=0.24.0->aif360[inFairness]) (2024.2)\n",
            "Requirement already satisfied: joblib>=1.2.0 in /usr/local/lib/python3.10/dist-packages (from scikit-learn>=1.0->aif360[inFairness]) (1.4.2)\n",
            "Requirement already satisfied: threadpoolctl>=3.1.0 in /usr/local/lib/python3.10/dist-packages (from scikit-learn>=1.0->aif360[inFairness]) (3.5.0)\n",
            "Requirement already satisfied: contourpy>=1.0.1 in /usr/local/lib/python3.10/dist-packages (from matplotlib->aif360[inFairness]) (1.3.0)\n",
            "Requirement already satisfied: cycler>=0.10 in /usr/local/lib/python3.10/dist-packages (from matplotlib->aif360[inFairness]) (0.12.1)\n",
            "Requirement already satisfied: fonttools>=4.22.0 in /usr/local/lib/python3.10/dist-packages (from matplotlib->aif360[inFairness]) (4.54.1)\n",
            "Requirement already satisfied: kiwisolver>=1.0.1 in /usr/local/lib/python3.10/dist-packages (from matplotlib->aif360[inFairness]) (1.4.7)\n",
            "Requirement already satisfied: packaging>=20.0 in /usr/local/lib/python3.10/dist-packages (from matplotlib->aif360[inFairness]) (24.1)\n",
            "Requirement already satisfied: pillow>=6.2.0 in /usr/local/lib/python3.10/dist-packages (from matplotlib->aif360[inFairness]) (10.4.0)\n",
            "Requirement already satisfied: pyparsing>=2.3.1 in /usr/local/lib/python3.10/dist-packages (from matplotlib->aif360[inFairness]) (3.1.4)\n",
            "Requirement already satisfied: tabulate>=0.7.7 in /usr/local/lib/python3.10/dist-packages (from skorch->aif360[inFairness]) (0.9.0)\n",
            "Requirement already satisfied: tqdm>=4.14.0 in /usr/local/lib/python3.10/dist-packages (from skorch->aif360[inFairness]) (4.66.5)\n",
            "Requirement already satisfied: six>=1.5 in /usr/local/lib/python3.10/dist-packages (from python-dateutil>=2.8.2->pandas>=0.24.0->aif360[inFairness]) (1.16.0)\n",
            "Requirement already satisfied: filelock in /usr/local/lib/python3.10/dist-packages (from torch>=1.13.0->inFairness>=0.2.2->aif360[inFairness]) (3.16.1)\n",
            "Requirement already satisfied: typing-extensions>=4.8.0 in /usr/local/lib/python3.10/dist-packages (from torch>=1.13.0->inFairness>=0.2.2->aif360[inFairness]) (4.12.2)\n",
            "Requirement already satisfied: sympy in /usr/local/lib/python3.10/dist-packages (from torch>=1.13.0->inFairness>=0.2.2->aif360[inFairness]) (1.13.3)\n",
            "Requirement already satisfied: networkx in /usr/local/lib/python3.10/dist-packages (from torch>=1.13.0->inFairness>=0.2.2->aif360[inFairness]) (3.3)\n",
            "Requirement already satisfied: jinja2 in /usr/local/lib/python3.10/dist-packages (from torch>=1.13.0->inFairness>=0.2.2->aif360[inFairness]) (3.1.4)\n",
            "Requirement already satisfied: fsspec in /usr/local/lib/python3.10/dist-packages (from torch>=1.13.0->inFairness>=0.2.2->aif360[inFairness]) (2024.6.1)\n",
            "Requirement already satisfied: MarkupSafe>=2.0 in /usr/local/lib/python3.10/dist-packages (from jinja2->torch>=1.13.0->inFairness>=0.2.2->aif360[inFairness]) (2.1.5)\n",
            "Requirement already satisfied: mpmath<1.4,>=1.1.0 in /usr/local/lib/python3.10/dist-packages (from sympy->torch>=1.13.0->inFairness>=0.2.2->aif360[inFairness]) (1.3.0)\n",
            "Downloading inFairness-0.2.3-py3-none-any.whl (45 kB)\n",
            "\u001b[2K   \u001b[90m━━━━━━━━━━━━━━━━━━━━━━━━━━━━━━━━━━━━━━━━\u001b[0m \u001b[32m45.8/45.8 kB\u001b[0m \u001b[31m3.8 MB/s\u001b[0m eta \u001b[36m0:00:00\u001b[0m\n",
            "\u001b[?25hDownloading skorch-1.0.0-py3-none-any.whl (239 kB)\n",
            "\u001b[2K   \u001b[90m━━━━━━━━━━━━━━━━━━━━━━━━━━━━━━━━━━━━━━━━\u001b[0m \u001b[32m239.4/239.4 kB\u001b[0m \u001b[31m8.9 MB/s\u001b[0m eta \u001b[36m0:00:00\u001b[0m\n",
            "\u001b[?25hDownloading POT-0.9.4-cp310-cp310-manylinux_2_17_x86_64.manylinux2014_x86_64.whl (835 kB)\n",
            "\u001b[2K   \u001b[90m━━━━━━━━━━━━━━━━━━━━━━━━━━━━━━━━━━━━━━━━\u001b[0m \u001b[32m835.4/835.4 kB\u001b[0m \u001b[31m28.4 MB/s\u001b[0m eta \u001b[36m0:00:00\u001b[0m\n",
            "\u001b[?25hInstalling collected packages: POT, skorch, inFairness\n",
            "Successfully installed POT-0.9.4 inFairness-0.2.3 skorch-1.0.0\n",
            "Requirement already satisfied: aif360[Reductions] in /usr/local/lib/python3.10/dist-packages (0.6.1)\n",
            "Requirement already satisfied: numpy>=1.16 in /usr/local/lib/python3.10/dist-packages (from aif360[Reductions]) (1.26.4)\n",
            "Requirement already satisfied: scipy>=1.2.0 in /usr/local/lib/python3.10/dist-packages (from aif360[Reductions]) (1.13.1)\n",
            "Requirement already satisfied: pandas>=0.24.0 in /usr/local/lib/python3.10/dist-packages (from aif360[Reductions]) (2.2.2)\n",
            "Requirement already satisfied: scikit-learn>=1.0 in /usr/local/lib/python3.10/dist-packages (from aif360[Reductions]) (1.5.2)\n",
            "Requirement already satisfied: matplotlib in /usr/local/lib/python3.10/dist-packages (from aif360[Reductions]) (3.7.1)\n",
            "Requirement already satisfied: fairlearn~=0.7 in /usr/local/lib/python3.10/dist-packages (from aif360[Reductions]) (0.10.0)\n",
            "Requirement already satisfied: python-dateutil>=2.8.2 in /usr/local/lib/python3.10/dist-packages (from pandas>=0.24.0->aif360[Reductions]) (2.8.2)\n",
            "Requirement already satisfied: pytz>=2020.1 in /usr/local/lib/python3.10/dist-packages (from pandas>=0.24.0->aif360[Reductions]) (2024.2)\n",
            "Requirement already satisfied: tzdata>=2022.7 in /usr/local/lib/python3.10/dist-packages (from pandas>=0.24.0->aif360[Reductions]) (2024.2)\n",
            "Requirement already satisfied: joblib>=1.2.0 in /usr/local/lib/python3.10/dist-packages (from scikit-learn>=1.0->aif360[Reductions]) (1.4.2)\n",
            "Requirement already satisfied: threadpoolctl>=3.1.0 in /usr/local/lib/python3.10/dist-packages (from scikit-learn>=1.0->aif360[Reductions]) (3.5.0)\n",
            "Requirement already satisfied: contourpy>=1.0.1 in /usr/local/lib/python3.10/dist-packages (from matplotlib->aif360[Reductions]) (1.3.0)\n",
            "Requirement already satisfied: cycler>=0.10 in /usr/local/lib/python3.10/dist-packages (from matplotlib->aif360[Reductions]) (0.12.1)\n",
            "Requirement already satisfied: fonttools>=4.22.0 in /usr/local/lib/python3.10/dist-packages (from matplotlib->aif360[Reductions]) (4.54.1)\n",
            "Requirement already satisfied: kiwisolver>=1.0.1 in /usr/local/lib/python3.10/dist-packages (from matplotlib->aif360[Reductions]) (1.4.7)\n",
            "Requirement already satisfied: packaging>=20.0 in /usr/local/lib/python3.10/dist-packages (from matplotlib->aif360[Reductions]) (24.1)\n",
            "Requirement already satisfied: pillow>=6.2.0 in /usr/local/lib/python3.10/dist-packages (from matplotlib->aif360[Reductions]) (10.4.0)\n",
            "Requirement already satisfied: pyparsing>=2.3.1 in /usr/local/lib/python3.10/dist-packages (from matplotlib->aif360[Reductions]) (3.1.4)\n",
            "Requirement already satisfied: six>=1.5 in /usr/local/lib/python3.10/dist-packages (from python-dateutil>=2.8.2->pandas>=0.24.0->aif360[Reductions]) (1.16.0)\n"
          ]
        }
      ],
      "source": [
        "!pip install 'aif360[Reductions]'\n",
        "!pip install 'aif360[Reductions]'\n",
        "!pip install 'aif360[inFairness]'\n",
        "!pip install 'aif360[Reductions]'"
      ]
    },
    {
      "cell_type": "code",
      "execution_count": null,
      "metadata": {
        "id": "TKOy7J0CW1Fp",
        "colab": {
          "base_uri": "https://localhost:8080/"
        },
        "outputId": "f8b17143-a509-400a-9523-46e700d2aae2"
      },
      "outputs": [
        {
          "output_type": "stream",
          "name": "stderr",
          "text": [
            "/usr/local/lib/python3.10/dist-packages/inFairness/utils/ndcg.py:37: FutureWarning: We've integrated functorch into PyTorch. As the final step of the integration, `functorch.vmap` is deprecated as of PyTorch 2.0 and will be deleted in a future version of PyTorch >= 2.3. Please use `torch.vmap` instead; see the PyTorch 2.0 release notes and/or the `torch.func` migration guide for more details https://pytorch.org/docs/main/func.migrating.html\n",
            "  vect_normalized_discounted_cumulative_gain = vmap(\n",
            "/usr/local/lib/python3.10/dist-packages/inFairness/utils/ndcg.py:48: FutureWarning: We've integrated functorch into PyTorch. As the final step of the integration, `functorch.vmap` is deprecated as of PyTorch 2.0 and will be deleted in a future version of PyTorch >= 2.3. Please use `torch.vmap` instead; see the PyTorch 2.0 release notes and/or the `torch.func` migration guide for more details https://pytorch.org/docs/main/func.migrating.html\n",
            "  monte_carlo_vect_ndcg = vmap(vect_normalized_discounted_cumulative_gain, in_dims=(0,))\n"
          ]
        }
      ],
      "source": [
        "from aif360.datasets import BinaryLabelDataset\n",
        "from aif360.algorithms.preprocessing import Reweighing\n",
        "\n",
        "# Convert to BinaryLabelDataset (AIF360 format)\n",
        "train_bld = BinaryLabelDataset(\n",
        "    favorable_label=1,\n",
        "    unfavorable_label=0,\n",
        "    df=train_data,\n",
        "    label_names=['preventive_visit_gap_ind'],\n",
        "    protected_attribute_names=['cat__sex_cd_f', 'cat__sex_cd_m',\n",
        "                               'cat__race_asian', 'cat__race_black', 'cat__race_hispanic', 'cat__race_n american native',\n",
        "                               'cat__race_other', 'cat__race_unknown', 'cat__race_white'])\n",
        "\n",
        "reweighing = Reweighing(\n",
        "    unprivileged_groups=[{'cat__sex_cd_f': 1},\n",
        "    {'cat__race_black': 1},\n",
        "    {'cat__race_hispanic': 1},\n",
        "    {'cat__race_asian': 1},\n",
        "    {'cat__race_n american native': 1},\n",
        "    {'cat__race_other': 1},\n",
        "    {'cat__race_unknown': 1}],\n",
        "    privileged_groups=[{'cat__sex_cd_m': 1}, {'cat__race_white': 1}]\n",
        ")"
      ]
    },
    {
      "cell_type": "code",
      "execution_count": null,
      "metadata": {
        "id": "PIMmYtPVi3bP"
      },
      "outputs": [],
      "source": [
        "reweighing.fit(train_bld)\n",
        "train_bld_reweighed = reweighing.transform(train_bld)\n",
        "\n",
        "# Extract instance weights from the reweighed dataset\n",
        "instance_weights = train_bld_reweighed.instance_weights"
      ]
    },
    {
      "cell_type": "markdown",
      "source": [
        "###### **Comparing all models (with default parameters)**"
      ],
      "metadata": {
        "id": "Gdz17-qBajat"
      }
    },
    {
      "cell_type": "code",
      "source": [
        "!pip install catboost"
      ],
      "metadata": {
        "id": "XwMKbotlXT4O",
        "colab": {
          "base_uri": "https://localhost:8080/"
        },
        "outputId": "686d6d35-1682-4cbc-801a-13874a9c9f3b"
      },
      "execution_count": null,
      "outputs": [
        {
          "output_type": "stream",
          "name": "stdout",
          "text": [
            "Collecting catboost\n",
            "  Downloading catboost-1.2.7-cp310-cp310-manylinux2014_x86_64.whl.metadata (1.2 kB)\n",
            "Requirement already satisfied: graphviz in /usr/local/lib/python3.10/dist-packages (from catboost) (0.20.3)\n",
            "Requirement already satisfied: matplotlib in /usr/local/lib/python3.10/dist-packages (from catboost) (3.7.1)\n",
            "Requirement already satisfied: numpy<2.0,>=1.16.0 in /usr/local/lib/python3.10/dist-packages (from catboost) (1.26.4)\n",
            "Requirement already satisfied: pandas>=0.24 in /usr/local/lib/python3.10/dist-packages (from catboost) (2.2.2)\n",
            "Requirement already satisfied: scipy in /usr/local/lib/python3.10/dist-packages (from catboost) (1.13.1)\n",
            "Requirement already satisfied: plotly in /usr/local/lib/python3.10/dist-packages (from catboost) (5.24.1)\n",
            "Requirement already satisfied: six in /usr/local/lib/python3.10/dist-packages (from catboost) (1.16.0)\n",
            "Requirement already satisfied: python-dateutil>=2.8.2 in /usr/local/lib/python3.10/dist-packages (from pandas>=0.24->catboost) (2.8.2)\n",
            "Requirement already satisfied: pytz>=2020.1 in /usr/local/lib/python3.10/dist-packages (from pandas>=0.24->catboost) (2024.2)\n",
            "Requirement already satisfied: tzdata>=2022.7 in /usr/local/lib/python3.10/dist-packages (from pandas>=0.24->catboost) (2024.2)\n",
            "Requirement already satisfied: contourpy>=1.0.1 in /usr/local/lib/python3.10/dist-packages (from matplotlib->catboost) (1.3.0)\n",
            "Requirement already satisfied: cycler>=0.10 in /usr/local/lib/python3.10/dist-packages (from matplotlib->catboost) (0.12.1)\n",
            "Requirement already satisfied: fonttools>=4.22.0 in /usr/local/lib/python3.10/dist-packages (from matplotlib->catboost) (4.54.1)\n",
            "Requirement already satisfied: kiwisolver>=1.0.1 in /usr/local/lib/python3.10/dist-packages (from matplotlib->catboost) (1.4.7)\n",
            "Requirement already satisfied: packaging>=20.0 in /usr/local/lib/python3.10/dist-packages (from matplotlib->catboost) (24.1)\n",
            "Requirement already satisfied: pillow>=6.2.0 in /usr/local/lib/python3.10/dist-packages (from matplotlib->catboost) (10.4.0)\n",
            "Requirement already satisfied: pyparsing>=2.3.1 in /usr/local/lib/python3.10/dist-packages (from matplotlib->catboost) (3.1.4)\n",
            "Requirement already satisfied: tenacity>=6.2.0 in /usr/local/lib/python3.10/dist-packages (from plotly->catboost) (9.0.0)\n",
            "Downloading catboost-1.2.7-cp310-cp310-manylinux2014_x86_64.whl (98.7 MB)\n",
            "\u001b[2K   \u001b[90m━━━━━━━━━━━━━━━━━━━━━━━━━━━━━━━━━━━━━━━━\u001b[0m \u001b[32m98.7/98.7 MB\u001b[0m \u001b[31m24.0 MB/s\u001b[0m eta \u001b[36m0:00:00\u001b[0m\n",
            "\u001b[?25hInstalling collected packages: catboost\n",
            "Successfully installed catboost-1.2.7\n"
          ]
        }
      ]
    },
    {
      "cell_type": "code",
      "source": [
        "# prompt: i want to fit 5 models including random forest, xg boost, catboost, adaboost , light gbm .. with initial parameters .. and use sample_weight=instance_weights while fitting.. and then get the roc-auc score for each one\n",
        "\n",
        "from sklearn.ensemble import RandomForestClassifier, AdaBoostClassifier\n",
        "from sklearn.linear_model import LogisticRegression\n",
        "from xgboost import XGBClassifier\n",
        "from catboost import CatBoostClassifier\n",
        "from lightgbm import LGBMClassifier\n",
        "from sklearn.metrics import roc_auc_score\n",
        "\n",
        "models = {\n",
        "    \"Logistic Regression\": LogisticRegression(),\n",
        "    \"Random Forest\": RandomForestClassifier(),\n",
        "    \"XGBoost\": XGBClassifier(),\n",
        "    \"CatBoost\": CatBoostClassifier(verbose=0),\n",
        "    \"AdaBoost\": AdaBoostClassifier(),\n",
        "    \"LightGBM\": LGBMClassifier()\n",
        "}\n",
        "\n",
        "results = {}\n",
        "for model_name, model in models.items():\n",
        "  try:\n",
        "    model.fit(X_train_final, y_train, sample_weight=instance_weights)\n",
        "    y_pred_proba = model.predict_proba(X_test_final)[:, 1]\n",
        "    roc_auc = roc_auc_score(y_test, y_pred_proba)\n",
        "    results[model_name] = roc_auc\n",
        "  except Exception as e:\n",
        "    print(f\"Error fitting {model_name}: {e}\")\n",
        "\n",
        "for model_name, roc_auc in results.items():\n",
        "  print(f\"{model_name}: ROC-AUC = {roc_auc}\")\n"
      ],
      "metadata": {
        "colab": {
          "base_uri": "https://localhost:8080/"
        },
        "id": "CwxfRzRDWwTF",
        "outputId": "5975b1ce-1639-4e3d-a5ce-f31080de2f5c"
      },
      "execution_count": null,
      "outputs": [
        {
          "output_type": "stream",
          "name": "stderr",
          "text": [
            "/usr/local/lib/python3.10/dist-packages/dask/dataframe/__init__.py:42: FutureWarning: \n",
            "Dask dataframe query planning is disabled because dask-expr is not installed.\n",
            "\n",
            "You can install it with `pip install dask[dataframe]` or `conda install dask`.\n",
            "This will raise in a future version.\n",
            "\n",
            "  warnings.warn(msg, FutureWarning)\n",
            "/usr/local/lib/python3.10/dist-packages/sklearn/linear_model/_logistic.py:469: ConvergenceWarning: lbfgs failed to converge (status=1):\n",
            "STOP: TOTAL NO. of ITERATIONS REACHED LIMIT.\n",
            "\n",
            "Increase the number of iterations (max_iter) or scale the data as shown in:\n",
            "    https://scikit-learn.org/stable/modules/preprocessing.html\n",
            "Please also refer to the documentation for alternative solver options:\n",
            "    https://scikit-learn.org/stable/modules/linear_model.html#logistic-regression\n",
            "  n_iter_i = _check_optimize_result(\n",
            "/usr/local/lib/python3.10/dist-packages/sklearn/ensemble/_weight_boosting.py:527: FutureWarning: The SAMME.R algorithm (the default) is deprecated and will be removed in 1.6. Use the SAMME algorithm to circumvent this warning.\n",
            "  warnings.warn(\n"
          ]
        },
        {
          "output_type": "stream",
          "name": "stdout",
          "text": [
            "[LightGBM] [Warning] Found whitespace in feature_names, replace with underlines\n",
            "[LightGBM] [Info] Number of positive: 193353, number of negative: 210068\n",
            "[LightGBM] [Info] Auto-choosing row-wise multi-threading, the overhead of testing was 0.065749 seconds.\n",
            "You can set `force_row_wise=true` to remove the overhead.\n",
            "And if memory is not enough, you can set `force_col_wise=true`.\n",
            "[LightGBM] [Info] Total Bins 15908\n",
            "[LightGBM] [Info] Number of data points in the train set: 403421, number of used features: 126\n",
            "[LightGBM] [Info] [binary:BoostFromScore]: pavg=0.494560 -> initscore=-0.021760\n",
            "[LightGBM] [Info] Start training from score -0.021760\n",
            "Logistic Regression: ROC-AUC = 0.7386650166476512\n",
            "Random Forest: ROC-AUC = 0.7859883885898173\n",
            "XGBoost: ROC-AUC = 0.78838308421266\n",
            "CatBoost: ROC-AUC = 0.7955924599984826\n",
            "AdaBoost: ROC-AUC = 0.7416564403206617\n",
            "LightGBM: ROC-AUC = 0.7803295971167044\n"
          ]
        }
      ]
    },
    {
      "cell_type": "code",
      "source": [
        "# prompt: make a voting classifier using catboost, xgboost, random forest and lightgbm\n",
        "\n",
        "from sklearn.ensemble import VotingClassifier\n",
        "\n",
        "# Create a VotingClassifier with the desired models\n",
        "voting_classifier = VotingClassifier(\n",
        "    estimators=[\n",
        "        ('catboost', CatBoostClassifier(verbose=0)),\n",
        "        ('xgboost', XGBClassifier()),\n",
        "        ('random_forest', RandomForestClassifier()),\n",
        "        ('lightgbm', LGBMClassifier())\n",
        "    ],\n",
        "    voting='soft'  # Use 'soft' voting for probability-based voting\n",
        ")\n",
        "\n",
        "# Train the VotingClassifier\n",
        "voting_classifier.fit(X_train_final, y_train, sample_weight=instance_weights)\n",
        "\n",
        "# Make predictions and evaluate the ROC-AUC score\n",
        "y_pred_proba = voting_classifier.predict_proba(X_test_final)[:, 1]\n",
        "roc_auc = roc_auc_score(y_test, y_pred_proba)\n",
        "print(f\"Voting Classifier ROC-AUC: {roc_auc}\")\n"
      ],
      "metadata": {
        "colab": {
          "base_uri": "https://localhost:8080/"
        },
        "id": "jNtQzFkWzmJn",
        "outputId": "43d3f57b-d57b-46ef-fe56-c96d9da340f9"
      },
      "execution_count": null,
      "outputs": [
        {
          "output_type": "stream",
          "name": "stdout",
          "text": [
            "[LightGBM] [Warning] Found whitespace in feature_names, replace with underlines\n",
            "[LightGBM] [Info] Number of positive: 193353, number of negative: 210068\n",
            "[LightGBM] [Info] Auto-choosing row-wise multi-threading, the overhead of testing was 0.064963 seconds.\n",
            "You can set `force_row_wise=true` to remove the overhead.\n",
            "And if memory is not enough, you can set `force_col_wise=true`.\n",
            "[LightGBM] [Info] Total Bins 15908\n",
            "[LightGBM] [Info] Number of data points in the train set: 403421, number of used features: 126\n",
            "[LightGBM] [Info] [binary:BoostFromScore]: pavg=0.494560 -> initscore=-0.021760\n",
            "[LightGBM] [Info] Start training from score -0.021760\n",
            "Voting Classifier ROC-AUC: 0.7955673531103491\n"
          ]
        }
      ]
    },
    {
      "cell_type": "code",
      "source": [
        "\n",
        "from sklearn.ensemble import RandomForestClassifier, AdaBoostClassifier\n",
        "from sklearn.linear_model import LogisticRegression\n",
        "from xgboost import XGBClassifier\n",
        "from catboost import CatBoostClassifier\n",
        "from lightgbm import LGBMClassifier\n",
        "from sklearn.metrics import roc_auc_score"
      ],
      "metadata": {
        "colab": {
          "base_uri": "https://localhost:8080/"
        },
        "id": "2ZPBimczldoc",
        "outputId": "f727e6c8-a322-49c4-a0ea-78be30697cb4"
      },
      "execution_count": null,
      "outputs": [
        {
          "output_type": "stream",
          "name": "stderr",
          "text": [
            "/usr/local/lib/python3.10/dist-packages/dask/dataframe/__init__.py:42: FutureWarning: \n",
            "Dask dataframe query planning is disabled because dask-expr is not installed.\n",
            "\n",
            "You can install it with `pip install dask[dataframe]` or `conda install dask`.\n",
            "This will raise in a future version.\n",
            "\n",
            "  warnings.warn(msg, FutureWarning)\n"
          ]
        }
      ]
    },
    {
      "cell_type": "code",
      "source": [
        "# prompt: similarly make one stacking model too using these individual models\n",
        "\n",
        "from sklearn.ensemble import StackingClassifier\n",
        "\n",
        "# Define the base models\n",
        "base_models = [\n",
        "    ('catboost', CatBoostClassifier(verbose=0)),\n",
        "    ('xgboost', XGBClassifier()),\n",
        "    ('random_forest', RandomForestClassifier()),\n",
        "    ('lightgbm', LGBMClassifier())\n",
        "]\n",
        "\n",
        "# Define the meta-learner (model that combines predictions from base models)\n",
        "meta_learner = LogisticRegression()  # You can choose a different model here\n",
        "\n",
        "# Create the stacking classifier\n",
        "stacking_classifier = StackingClassifier(\n",
        "    estimators=base_models,\n",
        "    final_estimator=meta_learner,\n",
        "    cv=5  # Number of cross-validation folds for training the meta-learner\n",
        ")\n",
        "\n",
        "# Train the stacking classifier\n",
        "stacking_classifier.fit(X_train_final, y_train, sample_weight=instance_weights)\n",
        "\n",
        "# Make predictions and evaluate the ROC-AUC score\n",
        "y_pred_proba = stacking_classifier.predict_proba(X_test_final)[:, 1]\n",
        "roc_auc = roc_auc_score(y_test, y_pred_proba)\n",
        "print(f\"Stacking Classifier ROC-AUC: {roc_auc}\")\n"
      ],
      "metadata": {
        "colab": {
          "base_uri": "https://localhost:8080/"
        },
        "id": "HDqDzLNGz3_S",
        "outputId": "d3c9e689-c06e-4116-cd1f-7da329b4e424"
      },
      "execution_count": null,
      "outputs": [
        {
          "output_type": "stream",
          "name": "stdout",
          "text": [
            "[LightGBM] [Warning] Found whitespace in feature_names, replace with underlines\n",
            "[LightGBM] [Info] Number of positive: 193353, number of negative: 210068\n",
            "[LightGBM] [Info] Auto-choosing row-wise multi-threading, the overhead of testing was 0.066545 seconds.\n",
            "You can set `force_row_wise=true` to remove the overhead.\n",
            "And if memory is not enough, you can set `force_col_wise=true`.\n",
            "[LightGBM] [Info] Total Bins 15902\n",
            "[LightGBM] [Info] Number of data points in the train set: 403421, number of used features: 126\n",
            "[LightGBM] [Info] [binary:BoostFromScore]: pavg=0.494560 -> initscore=-0.021760\n",
            "[LightGBM] [Info] Start training from score -0.021760\n",
            "[LightGBM] [Warning] Found whitespace in feature_names, replace with underlines\n",
            "[LightGBM] [Info] Number of positive: 154682, number of negative: 168054\n",
            "[LightGBM] [Info] Auto-choosing row-wise multi-threading, the overhead of testing was 0.077032 seconds.\n",
            "You can set `force_row_wise=true` to remove the overhead.\n",
            "And if memory is not enough, you can set `force_col_wise=true`.\n",
            "[LightGBM] [Info] Total Bins 15881\n",
            "[LightGBM] [Info] Number of data points in the train set: 322736, number of used features: 125\n",
            "[LightGBM] [Info] [binary:BoostFromScore]: pavg=0.494547 -> initscore=-0.021812\n",
            "[LightGBM] [Info] Start training from score -0.021812\n",
            "[LightGBM] [Warning] Found whitespace in feature_names, replace with underlines\n",
            "[LightGBM] [Info] Number of positive: 154683, number of negative: 168054\n",
            "[LightGBM] [Info] Auto-choosing row-wise multi-threading, the overhead of testing was 0.053878 seconds.\n",
            "You can set `force_row_wise=true` to remove the overhead.\n",
            "And if memory is not enough, you can set `force_col_wise=true`.\n",
            "[LightGBM] [Info] Total Bins 15886\n",
            "[LightGBM] [Info] Number of data points in the train set: 322737, number of used features: 125\n",
            "[LightGBM] [Info] [binary:BoostFromScore]: pavg=0.494549 -> initscore=-0.021805\n",
            "[LightGBM] [Info] Start training from score -0.021805\n",
            "[LightGBM] [Warning] Found whitespace in feature_names, replace with underlines\n",
            "[LightGBM] [Info] Number of positive: 154683, number of negative: 168054\n",
            "[LightGBM] [Info] Auto-choosing row-wise multi-threading, the overhead of testing was 0.072692 seconds.\n",
            "You can set `force_row_wise=true` to remove the overhead.\n",
            "And if memory is not enough, you can set `force_col_wise=true`.\n",
            "[LightGBM] [Info] Total Bins 15885\n",
            "[LightGBM] [Info] Number of data points in the train set: 322737, number of used features: 125\n",
            "[LightGBM] [Info] [binary:BoostFromScore]: pavg=0.494587 -> initscore=-0.021651\n",
            "[LightGBM] [Info] Start training from score -0.021651\n",
            "[LightGBM] [Warning] Found whitespace in feature_names, replace with underlines\n",
            "[LightGBM] [Info] Number of positive: 154682, number of negative: 168055\n",
            "[LightGBM] [Info] Auto-choosing row-wise multi-threading, the overhead of testing was 0.051947 seconds.\n",
            "You can set `force_row_wise=true` to remove the overhead.\n",
            "And if memory is not enough, you can set `force_col_wise=true`.\n",
            "[LightGBM] [Info] Total Bins 15900\n",
            "[LightGBM] [Info] Number of data points in the train set: 322737, number of used features: 125\n",
            "[LightGBM] [Info] [binary:BoostFromScore]: pavg=0.494534 -> initscore=-0.021864\n",
            "[LightGBM] [Info] Start training from score -0.021864\n",
            "[LightGBM] [Warning] Found whitespace in feature_names, replace with underlines\n",
            "[LightGBM] [Info] Number of positive: 154682, number of negative: 168055\n",
            "[LightGBM] [Info] Auto-choosing row-wise multi-threading, the overhead of testing was 0.055767 seconds.\n",
            "You can set `force_row_wise=true` to remove the overhead.\n",
            "And if memory is not enough, you can set `force_col_wise=true`.\n",
            "[LightGBM] [Info] Total Bins 15893\n",
            "[LightGBM] [Info] Number of data points in the train set: 322737, number of used features: 125\n",
            "[LightGBM] [Info] [binary:BoostFromScore]: pavg=0.494583 -> initscore=-0.021670\n",
            "[LightGBM] [Info] Start training from score -0.021670\n",
            "Stacking Classifier ROC-AUC: 0.7989326892103585\n"
          ]
        }
      ]
    },
    {
      "cell_type": "code",
      "source": [
        "# prompt: GENERATE FEATURE IMPORTANCE SCORE USING STACKING AND STORE IN EXCEL FILE\n",
        "\n",
        "import pandas as pd\n",
        "\n",
        "# Assuming stacking_classifier is your trained StackingClassifier\n",
        "try:\n",
        "    # Get feature importances from the final estimator (meta-learner)\n",
        "    if hasattr(stacking_classifier.final_estimator, 'feature_importances_'):\n",
        "        feature_importances = stacking_classifier.final_estimator.feature_importances_\n",
        "        feature_names = X_train_final.columns\n",
        "        feature_importance_df = pd.DataFrame({'Feature': feature_names, 'Importance': feature_importances})\n",
        "        feature_importance_df = feature_importance_df.sort_values('Importance', ascending=False)\n",
        "\n",
        "        # Save the DataFrame to an Excel file\n",
        "        feature_importance_df.to_excel('/content/drive/MyDrive/Humana files/stacking_feature_importance.xlsx', index=False)\n",
        "    elif hasattr(stacking_classifier.final_estimator, 'coef_'):\n",
        "        # For models like Logistic Regression, use coefficients as importance\n",
        "        feature_importances = stacking_classifier.final_estimator.coef_[0]\n",
        "        feature_names = X_train_final.columns\n",
        "        feature_importance_df = pd.DataFrame({'Feature': feature_names, 'Importance': feature_importances})\n",
        "        feature_importance_df = feature_importance_df.sort_values('Importance', ascending=False)\n",
        "\n",
        "        # Save the DataFrame to an Excel file\n",
        "        feature_importance_df.to_excel('/content/drive/MyDrive/Humana files/stacking_feature_importance.xlsx', index=False)\n",
        "    else:\n",
        "        print(\"The meta-learner does not provide feature importances.\")\n",
        "\n",
        "except Exception as e:\n",
        "    print(f\"Error generating feature importance: {e}\")\n"
      ],
      "metadata": {
        "colab": {
          "base_uri": "https://localhost:8080/"
        },
        "id": "O5K05rmLz7zz",
        "outputId": "acff69e6-c633-4d13-c5ab-6a277b596e20"
      },
      "execution_count": null,
      "outputs": [
        {
          "output_type": "stream",
          "name": "stdout",
          "text": [
            "The meta-learner does not provide feature importances.\n"
          ]
        }
      ]
    },
    {
      "cell_type": "code",
      "source": [
        "# prompt: GENERATE FEATURE IMPORTANCE USING CATBOOST DEFAULT MODEL AND MOVE THAT TO EXCEL\n",
        "\n",
        "import pandas as pd\n",
        "# Assuming you have your trained CatBoost model\n",
        "catboost_model = CatBoostClassifier(verbose=0)\n",
        "catboost_model.fit(X_train_final, y_train, sample_weight=instance_weights)\n",
        "\n",
        "# Get feature importances\n",
        "feature_importances = catboost_model.feature_importances_\n",
        "\n",
        "# Create a DataFrame with feature names and their importances\n",
        "feature_importance_df = pd.DataFrame({'Feature': X_train_final.columns, 'Importance': feature_importances})\n",
        "\n",
        "# Sort the DataFrame by importance in descending order\n",
        "feature_importance_df = feature_importance_df.sort_values('Importance', ascending=False)\n",
        "\n",
        "# Save the DataFrame to an Excel file in your Google Drive\n",
        "feature_importance_df.to_excel('/content/drive/MyDrive/Humana files/catboost_feature_importance.xlsx', index=False)\n"
      ],
      "metadata": {
        "id": "bf9aAmaQ0J9c"
      },
      "execution_count": null,
      "outputs": []
    },
    {
      "cell_type": "code",
      "source": [
        "# prompt: GENERATE FEATURE IMPORTANCE USING RANDOM FOREST AND MOVE THAT TO EXCEL\n",
        "\n",
        "import pandas as pd\n",
        "# Assuming you have your trained Random Forest model\n",
        "rf_model = RandomForestClassifier()\n",
        "rf_model.fit(X_train_final, y_train, sample_weight=instance_weights)\n",
        "\n",
        "# Get feature importances\n",
        "feature_importances = rf_model.feature_importances_\n",
        "\n",
        "# Create a DataFrame with feature names and their importances\n",
        "feature_importance_df = pd.DataFrame({'Feature': X_train_final.columns, 'Importance': feature_importances})\n",
        "\n",
        "# Sort the DataFrame by importance in descending order\n",
        "feature_importance_df = feature_importance_df.sort_values('Importance', ascending=False)\n",
        "\n",
        "# Save the DataFrame to an Excel file in your Google Drive\n",
        "feature_importance_df.to_excel('/content/drive/MyDrive/Humana files/rf_feature_importance.xlsx', index=False)\n"
      ],
      "metadata": {
        "id": "DjHwCFes0T0l"
      },
      "execution_count": null,
      "outputs": []
    },
    {
      "cell_type": "code",
      "source": [
        "# prompt: install shap\n",
        "\n",
        "!pip install shap\n"
      ],
      "metadata": {
        "colab": {
          "base_uri": "https://localhost:8080/"
        },
        "id": "DHPguM5gfKFA",
        "outputId": "a5d1bbe2-e426-485f-f087-08b3f194ffc2"
      },
      "execution_count": null,
      "outputs": [
        {
          "output_type": "stream",
          "name": "stdout",
          "text": [
            "Collecting shap\n",
            "  Downloading shap-0.46.0-cp310-cp310-manylinux_2_12_x86_64.manylinux2010_x86_64.manylinux_2_17_x86_64.manylinux2014_x86_64.whl.metadata (24 kB)\n",
            "Requirement already satisfied: numpy in /usr/local/lib/python3.10/dist-packages (from shap) (1.26.4)\n",
            "Requirement already satisfied: scipy in /usr/local/lib/python3.10/dist-packages (from shap) (1.13.1)\n",
            "Requirement already satisfied: scikit-learn in /usr/local/lib/python3.10/dist-packages (from shap) (1.5.2)\n",
            "Requirement already satisfied: pandas in /usr/local/lib/python3.10/dist-packages (from shap) (2.2.2)\n",
            "Requirement already satisfied: tqdm>=4.27.0 in /usr/local/lib/python3.10/dist-packages (from shap) (4.66.5)\n",
            "Requirement already satisfied: packaging>20.9 in /usr/local/lib/python3.10/dist-packages (from shap) (24.1)\n",
            "Collecting slicer==0.0.8 (from shap)\n",
            "  Downloading slicer-0.0.8-py3-none-any.whl.metadata (4.0 kB)\n",
            "Requirement already satisfied: numba in /usr/local/lib/python3.10/dist-packages (from shap) (0.60.0)\n",
            "Requirement already satisfied: cloudpickle in /usr/local/lib/python3.10/dist-packages (from shap) (2.2.1)\n",
            "Requirement already satisfied: llvmlite<0.44,>=0.43.0dev0 in /usr/local/lib/python3.10/dist-packages (from numba->shap) (0.43.0)\n",
            "Requirement already satisfied: python-dateutil>=2.8.2 in /usr/local/lib/python3.10/dist-packages (from pandas->shap) (2.8.2)\n",
            "Requirement already satisfied: pytz>=2020.1 in /usr/local/lib/python3.10/dist-packages (from pandas->shap) (2024.2)\n",
            "Requirement already satisfied: tzdata>=2022.7 in /usr/local/lib/python3.10/dist-packages (from pandas->shap) (2024.2)\n",
            "Requirement already satisfied: joblib>=1.2.0 in /usr/local/lib/python3.10/dist-packages (from scikit-learn->shap) (1.4.2)\n",
            "Requirement already satisfied: threadpoolctl>=3.1.0 in /usr/local/lib/python3.10/dist-packages (from scikit-learn->shap) (3.5.0)\n",
            "Requirement already satisfied: six>=1.5 in /usr/local/lib/python3.10/dist-packages (from python-dateutil>=2.8.2->pandas->shap) (1.16.0)\n",
            "Downloading shap-0.46.0-cp310-cp310-manylinux_2_12_x86_64.manylinux2010_x86_64.manylinux_2_17_x86_64.manylinux2014_x86_64.whl (540 kB)\n",
            "\u001b[2K   \u001b[90m━━━━━━━━━━━━━━━━━━━━━━━━━━━━━━━━━━━━━━━━\u001b[0m \u001b[32m540.1/540.1 kB\u001b[0m \u001b[31m19.8 MB/s\u001b[0m eta \u001b[36m0:00:00\u001b[0m\n",
            "\u001b[?25hDownloading slicer-0.0.8-py3-none-any.whl (15 kB)\n",
            "Installing collected packages: slicer, shap\n",
            "Successfully installed shap-0.46.0 slicer-0.0.8\n"
          ]
        }
      ]
    },
    {
      "cell_type": "code",
      "source": [
        "# prompt: make a confusion matrix.. importance plot, and shap values chart\n",
        "\n",
        "import pandas as pd\n",
        "from sklearn.metrics import confusion_matrix\n",
        "import matplotlib.pyplot as plt\n",
        "import seaborn as sns\n",
        "import shap\n",
        "\n",
        "# Assuming you have y_test and the predictions from your best model (e.g., stacking_classifier)\n",
        "y_pred = stacking_classifier.predict(X_test_final)\n",
        "\n",
        "# Generate the confusion matrix\n",
        "cm = confusion_matrix(y_test, y_pred)\n",
        "\n",
        "# Create a heatmap for the confusion matrix\n",
        "plt.figure(figsize=(8, 6))\n",
        "sns.heatmap(cm, annot=True, fmt='d', cmap='Blues',\n",
        "            xticklabels=['Predicted 0', 'Predicted 1'],\n",
        "            yticklabels=['Actual 0', 'Actual 1'])\n",
        "plt.title('Confusion Matrix')\n",
        "plt.xlabel('Predicted Label')\n",
        "plt.ylabel('True Label')\n",
        "plt.show()\n",
        "\n",
        "\n"
      ],
      "metadata": {
        "colab": {
          "base_uri": "https://localhost:8080/",
          "height": 211
        },
        "id": "VXUp1Z5yevdk",
        "outputId": "16f1bbef-f622-4b47-b5f6-b9203e1fb1f4"
      },
      "execution_count": null,
      "outputs": [
        {
          "output_type": "error",
          "ename": "NameError",
          "evalue": "name 'stacking_classifier' is not defined",
          "traceback": [
            "\u001b[0;31m---------------------------------------------------------------------------\u001b[0m",
            "\u001b[0;31mNameError\u001b[0m                                 Traceback (most recent call last)",
            "\u001b[0;32m<ipython-input-2-8a9cc9eb5e1f>\u001b[0m in \u001b[0;36m<cell line: 10>\u001b[0;34m()\u001b[0m\n\u001b[1;32m      8\u001b[0m \u001b[0;34m\u001b[0m\u001b[0m\n\u001b[1;32m      9\u001b[0m \u001b[0;31m# Assuming you have y_test and the predictions from your best model (e.g., stacking_classifier)\u001b[0m\u001b[0;34m\u001b[0m\u001b[0;34m\u001b[0m\u001b[0m\n\u001b[0;32m---> 10\u001b[0;31m \u001b[0my_pred\u001b[0m \u001b[0;34m=\u001b[0m \u001b[0mstacking_classifier\u001b[0m\u001b[0;34m.\u001b[0m\u001b[0mpredict\u001b[0m\u001b[0;34m(\u001b[0m\u001b[0mX_test_final\u001b[0m\u001b[0;34m)\u001b[0m\u001b[0;34m\u001b[0m\u001b[0;34m\u001b[0m\u001b[0m\n\u001b[0m\u001b[1;32m     11\u001b[0m \u001b[0;34m\u001b[0m\u001b[0m\n\u001b[1;32m     12\u001b[0m \u001b[0;31m# Generate the confusion matrix\u001b[0m\u001b[0;34m\u001b[0m\u001b[0;34m\u001b[0m\u001b[0m\n",
            "\u001b[0;31mNameError\u001b[0m: name 'stacking_classifier' is not defined"
          ]
        }
      ]
    },
    {
      "cell_type": "code",
      "source": [
        "# Assuming 'stacking_classifier' is your best model\n",
        "importances = stacking_classifier.final_estimator.coef_[0]  # Assuming it's a linear model as the final estimator\n",
        "feature_names = X_train_final.columns\n",
        "\n",
        "# Create a DataFrame for feature importances\n",
        "feature_importance_df = pd.DataFrame({'Feature': feature_names, 'Importance': importances})\n",
        "feature_importance_df = feature_importance_df.sort_values('Importance', ascending=False)\n",
        "\n",
        "# Plot feature importances\n",
        "plt.figure(figsize=(15, 7))\n",
        "plt.title(\"Feature Importance\")\n",
        "plt.bar(range(len(feature_names)), feature_importance_df['Importance'])\n",
        "plt.xticks(range(len(feature_names)), feature_importance_df['Feature'], rotation=90)\n",
        "plt.show()\n",
        "\n",
        "\n",
        "\n"
      ],
      "metadata": {
        "id": "FWLmlHllfcqN"
      },
      "execution_count": null,
      "outputs": []
    },
    {
      "cell_type": "code",
      "source": [
        "# prompt: move these feature importance score to csv file in drive\n",
        "\n",
        "# Assuming feature_importance_df is defined as in your previous code\n",
        "\n",
        "# Save the DataFrame to a CSV file in your Google Drive\n",
        "feature_importance_df.to_csv('/content/drive/MyDrive/Humana files/feature_importance_stacking.csv', index=False)\n"
      ],
      "metadata": {
        "id": "on8bKeRrfgr5"
      },
      "execution_count": null,
      "outputs": []
    },
    {
      "cell_type": "code",
      "source": [
        "# prompt: make a chart for Roc curve and precision recall curve\n",
        "\n",
        "from sklearn.metrics import roc_curve, auc, precision_recall_curve\n",
        "import matplotlib.pyplot as plt\n",
        "\n",
        "# Assuming y_test and y_pred_proba are defined from your best model's predictions\n",
        "\n",
        "# ROC Curve\n",
        "fpr, tpr, thresholds = roc_curve(y_test, y_pred_proba)\n",
        "roc_auc = auc(fpr, tpr)\n",
        "\n",
        "plt.figure()\n",
        "plt.plot(fpr, tpr, color='darkorange', lw=2, label='ROC curve (area = %0.2f)' % roc_auc)\n",
        "plt.plot([0, 1], [0, 1], color='navy', lw=2, linestyle='--')\n",
        "plt.xlim([0.0, 1.0])\n",
        "plt.ylim([0.0, 1.05])\n",
        "plt.xlabel('False Positive Rate')\n",
        "plt.ylabel('True Positive Rate')\n",
        "plt.title('Receiver Operating Characteristic (ROC)')\n",
        "plt.legend(loc=\"lower right\")\n",
        "plt.show()\n",
        "\n",
        "\n",
        "# Precision-Recall Curve\n",
        "precision, recall, thresholds = precision_recall_curve(y_test, y_pred_proba)\n",
        "pr_auc = auc(recall, precision)\n",
        "\n",
        "plt.figure()\n",
        "plt.plot(recall, precision, color='darkorange', lw=2, label='PR curve (area = %0.2f)' % pr_auc)\n",
        "plt.xlim([0.0, 1.0])\n",
        "plt.ylim([0.0, 1.05])\n",
        "plt.xlabel('Recall')\n",
        "plt.ylabel('Precision')\n",
        "plt.title('Precision-Recall Curve')\n",
        "plt.legend(loc=\"lower left\")\n",
        "plt.show()\n"
      ],
      "metadata": {
        "id": "upAJkZstf5fc"
      },
      "execution_count": null,
      "outputs": []
    },
    {
      "cell_type": "code",
      "source": [
        "# Assuming 'stacking_classifier' is your best model and you have X_test_final\n",
        "explainer = shap.Explainer(stacking_classifier.predict, X_test_final)\n",
        "shap_values = explainer(X_test_final)\n",
        "\n",
        "# Plot summary plot of SHAP values\n",
        "shap.summary_plot(shap_values, X_test_final)\n"
      ],
      "metadata": {
        "id": "p4OmPt_WfejN"
      },
      "execution_count": null,
      "outputs": []
    },
    {
      "cell_type": "code",
      "source": [
        "# prompt: move these shap values score in csv file\n",
        "\n",
        "import pandas as pd\n",
        "shap_values_df = pd.DataFrame(shap_values.values)\n",
        "shap_values_df.to_csv('/content/drive/MyDrive/Humana files/shap_values.csv', index=False)\n"
      ],
      "metadata": {
        "id": "bX8Hc02TfxsY"
      },
      "execution_count": null,
      "outputs": []
    },
    {
      "cell_type": "code",
      "source": [
        "# prompt: can you save this stacking model so that i can use this later too if in case i disconnect\n",
        "\n",
        "import pickle\n",
        "\n",
        "# Save the stacking classifier model to a file\n",
        "with open('/content/drive/MyDrive/Humana files/stacking_model.pkl', 'wb') as f:\n",
        "  pickle.dump(stacking_classifier, f)\n",
        "\n",
        "# Save the preprocessor to a file\n",
        "with open('/content/drive/MyDrive/Humana files/preprocessor.pkl', 'wb') as f:\n",
        "  pickle.dump(preprocessor, f)\n"
      ],
      "metadata": {
        "id": "nEz7riqr8Zep"
      },
      "execution_count": null,
      "outputs": []
    },
    {
      "cell_type": "code",
      "source": [
        "# Define the base models\n",
        "base_models = [\n",
        "    ('catboost_base', CatBoostClassifier(verbose=0)),\n",
        "    ('random_forest', RandomForestClassifier()),\n",
        "    ('xgboost', XGBClassifier(eval_metric='logloss', use_label_encoder=False)),\n",
        "    ('lightgbm', LGBMClassifier())\n",
        "]\n",
        "\n",
        "# Define the meta-learner (using CatBoost)\n",
        "meta_learner = CatBoostClassifier(verbose=0)\n",
        "\n",
        "# Create the stacking classifier\n",
        "stacking_classifier_cat = StackingClassifier(\n",
        "    estimators=base_models,\n",
        "    final_estimator=meta_learner,\n",
        "    cv=5  # Number of cross-validation folds for training the meta-learner\n",
        ")\n",
        "\n",
        "# Train the stacking classifier\n",
        "stacking_classifier_cat.fit(X_train_final, y_train)\n",
        "\n",
        "# Make predictions and evaluate the ROC-AUC score\n",
        "y_pred_proba = stacking_classifier_cat.predict_proba(X_test_final)[:, 1]\n",
        "roc_auc = roc_auc_score(y_test, y_pred_proba)\n",
        "print(f\"Stacking Classifier ROC-AUC: {roc_auc}\")"
      ],
      "metadata": {
        "colab": {
          "base_uri": "https://localhost:8080/"
        },
        "id": "ssPpzTPn94tQ",
        "outputId": "a43c8051-d167-455a-c1f4-bdcaa31857f6"
      },
      "execution_count": null,
      "outputs": [
        {
          "output_type": "stream",
          "name": "stderr",
          "text": [
            "/usr/local/lib/python3.10/dist-packages/xgboost/core.py:158: UserWarning: [03:19:44] WARNING: /workspace/src/learner.cc:740: \n",
            "Parameters: { \"use_label_encoder\" } are not used.\n",
            "\n",
            "  warnings.warn(smsg, UserWarning)\n"
          ]
        },
        {
          "output_type": "stream",
          "name": "stdout",
          "text": [
            "[LightGBM] [Warning] Found whitespace in feature_names, replace with underlines\n",
            "[LightGBM] [Info] Number of positive: 193353, number of negative: 210068\n",
            "[LightGBM] [Info] Auto-choosing row-wise multi-threading, the overhead of testing was 0.068123 seconds.\n",
            "You can set `force_row_wise=true` to remove the overhead.\n",
            "And if memory is not enough, you can set `force_col_wise=true`.\n",
            "[LightGBM] [Info] Total Bins 15908\n",
            "[LightGBM] [Info] Number of data points in the train set: 403421, number of used features: 126\n",
            "[LightGBM] [Info] [binary:BoostFromScore]: pavg=0.479283 -> initscore=-0.082914\n",
            "[LightGBM] [Info] Start training from score -0.082914\n"
          ]
        },
        {
          "output_type": "stream",
          "name": "stderr",
          "text": [
            "/usr/local/lib/python3.10/dist-packages/xgboost/core.py:158: UserWarning: [03:41:03] WARNING: /workspace/src/learner.cc:740: \n",
            "Parameters: { \"use_label_encoder\" } are not used.\n",
            "\n",
            "  warnings.warn(smsg, UserWarning)\n",
            "/usr/local/lib/python3.10/dist-packages/xgboost/core.py:158: UserWarning: [03:41:08] WARNING: /workspace/src/learner.cc:740: \n",
            "Parameters: { \"use_label_encoder\" } are not used.\n",
            "\n",
            "  warnings.warn(smsg, UserWarning)\n",
            "/usr/local/lib/python3.10/dist-packages/xgboost/core.py:158: UserWarning: [03:41:13] WARNING: /workspace/src/learner.cc:740: \n",
            "Parameters: { \"use_label_encoder\" } are not used.\n",
            "\n",
            "  warnings.warn(smsg, UserWarning)\n",
            "/usr/local/lib/python3.10/dist-packages/xgboost/core.py:158: UserWarning: [03:41:18] WARNING: /workspace/src/learner.cc:740: \n",
            "Parameters: { \"use_label_encoder\" } are not used.\n",
            "\n",
            "  warnings.warn(smsg, UserWarning)\n",
            "/usr/local/lib/python3.10/dist-packages/xgboost/core.py:158: UserWarning: [03:41:24] WARNING: /workspace/src/learner.cc:740: \n",
            "Parameters: { \"use_label_encoder\" } are not used.\n",
            "\n",
            "  warnings.warn(smsg, UserWarning)\n"
          ]
        },
        {
          "output_type": "stream",
          "name": "stdout",
          "text": [
            "[LightGBM] [Warning] Found whitespace in feature_names, replace with underlines\n",
            "[LightGBM] [Info] Number of positive: 154682, number of negative: 168054\n",
            "[LightGBM] [Info] Auto-choosing row-wise multi-threading, the overhead of testing was 0.054999 seconds.\n",
            "You can set `force_row_wise=true` to remove the overhead.\n",
            "And if memory is not enough, you can set `force_col_wise=true`.\n",
            "[LightGBM] [Info] Total Bins 15892\n",
            "[LightGBM] [Info] Number of data points in the train set: 322736, number of used features: 125\n",
            "[LightGBM] [Info] [binary:BoostFromScore]: pavg=0.479283 -> initscore=-0.082914\n",
            "[LightGBM] [Info] Start training from score -0.082914\n",
            "[LightGBM] [Warning] Found whitespace in feature_names, replace with underlines\n",
            "[LightGBM] [Info] Number of positive: 154683, number of negative: 168054\n",
            "[LightGBM] [Info] Auto-choosing row-wise multi-threading, the overhead of testing was 0.057901 seconds.\n",
            "You can set `force_row_wise=true` to remove the overhead.\n",
            "And if memory is not enough, you can set `force_col_wise=true`.\n",
            "[LightGBM] [Info] Total Bins 15896\n",
            "[LightGBM] [Info] Number of data points in the train set: 322737, number of used features: 125\n",
            "[LightGBM] [Info] [binary:BoostFromScore]: pavg=0.479285 -> initscore=-0.082907\n",
            "[LightGBM] [Info] Start training from score -0.082907\n",
            "[LightGBM] [Warning] Found whitespace in feature_names, replace with underlines\n",
            "[LightGBM] [Info] Number of positive: 154683, number of negative: 168054\n",
            "[LightGBM] [Info] Auto-choosing row-wise multi-threading, the overhead of testing was 0.056346 seconds.\n",
            "You can set `force_row_wise=true` to remove the overhead.\n",
            "And if memory is not enough, you can set `force_col_wise=true`.\n",
            "[LightGBM] [Info] Total Bins 15895\n",
            "[LightGBM] [Info] Number of data points in the train set: 322737, number of used features: 125\n",
            "[LightGBM] [Info] [binary:BoostFromScore]: pavg=0.479285 -> initscore=-0.082907\n",
            "[LightGBM] [Info] Start training from score -0.082907\n",
            "[LightGBM] [Warning] Found whitespace in feature_names, replace with underlines\n",
            "[LightGBM] [Info] Number of positive: 154682, number of negative: 168055\n",
            "[LightGBM] [Info] Auto-choosing row-wise multi-threading, the overhead of testing was 0.057742 seconds.\n",
            "You can set `force_row_wise=true` to remove the overhead.\n",
            "And if memory is not enough, you can set `force_col_wise=true`.\n",
            "[LightGBM] [Info] Total Bins 15905\n",
            "[LightGBM] [Info] Number of data points in the train set: 322737, number of used features: 125\n",
            "[LightGBM] [Info] [binary:BoostFromScore]: pavg=0.479282 -> initscore=-0.082920\n",
            "[LightGBM] [Info] Start training from score -0.082920\n",
            "[LightGBM] [Warning] Found whitespace in feature_names, replace with underlines\n",
            "[LightGBM] [Info] Number of positive: 154682, number of negative: 168055\n",
            "[LightGBM] [Info] Auto-choosing row-wise multi-threading, the overhead of testing was 0.057266 seconds.\n",
            "You can set `force_row_wise=true` to remove the overhead.\n",
            "And if memory is not enough, you can set `force_col_wise=true`.\n",
            "[LightGBM] [Info] Total Bins 15902\n",
            "[LightGBM] [Info] Number of data points in the train set: 322737, number of used features: 125\n",
            "[LightGBM] [Info] [binary:BoostFromScore]: pavg=0.479282 -> initscore=-0.082920\n",
            "[LightGBM] [Info] Start training from score -0.082920\n",
            "Stacking Classifier ROC-AUC: 0.797990913826487\n"
          ]
        }
      ]
    },
    {
      "cell_type": "markdown",
      "source": [
        "###### **Hyperparameter tuning for Catboost**"
      ],
      "metadata": {
        "id": "NIXOu1yGqTee"
      }
    },
    {
      "cell_type": "code",
      "source": [
        "# prompt: install skopt and skopt.space\n",
        "\n",
        "!pip install scikit-optimize\n"
      ],
      "metadata": {
        "id": "uNpG-BJMrTXU"
      },
      "execution_count": null,
      "outputs": []
    },
    {
      "cell_type": "code",
      "source": [
        "X_train_sample, _, y_train_sample, _ = train_test_split(X_train_final, y_train, train_size=0.1, random_state=42)"
      ],
      "metadata": {
        "id": "SQFusHVGs76s"
      },
      "execution_count": null,
      "outputs": []
    },
    {
      "cell_type": "code",
      "source": [
        "X_train_sample.shape"
      ],
      "metadata": {
        "colab": {
          "base_uri": "https://localhost:8080/"
        },
        "id": "zgHnAiHis-lW",
        "outputId": "0fdaa870-9915-426c-a69e-539c871f00fa"
      },
      "execution_count": null,
      "outputs": [
        {
          "output_type": "execute_result",
          "data": {
            "text/plain": [
              "(40342, 126)"
            ]
          },
          "metadata": {},
          "execution_count": 31
        }
      ]
    },
    {
      "cell_type": "code",
      "source": [
        "train_data_sample = pd.concat([X_train_sample.reset_index(drop=True), y_train_sample.reset_index(drop=True)], axis=1)\n",
        "train_bld_sample = BinaryLabelDataset(\n",
        "    favorable_label=1,\n",
        "    unfavorable_label=0,\n",
        "    df=train_data_sample,\n",
        "    label_names=['preventive_visit_gap_ind'],\n",
        "    protected_attribute_names=['cat__sex_cd_f', 'cat__sex_cd_m',\n",
        "                               'cat__race_asian', 'cat__race_black', 'cat__race_hispanic', 'cat__race_n american native',\n",
        "                               'cat__race_other', 'cat__race_unknown', 'cat__race_white'])\n",
        "\n",
        "reweighing = Reweighing(\n",
        "    unprivileged_groups=[{'cat__sex_cd_f': 1},\n",
        "    {'cat__race_black': 1},\n",
        "    {'cat__race_hispanic': 1},\n",
        "    {'cat__race_asian': 1},\n",
        "    {'cat__race_n american native': 1},\n",
        "    {'cat__race_other': 1},\n",
        "    {'cat__race_unknown': 1}],\n",
        "    privileged_groups=[{'cat__sex_cd_m': 1}, {'cat__race_white': 1}]\n",
        ")\n",
        "\n",
        "reweighing.fit(train_bld_sample)\n",
        "train_bld_reweighed = reweighing.transform(train_bld_sample)\n",
        "\n",
        "# Extract instance weights from the reweighed dataset\n",
        "instance_weights_sample = train_bld_reweighed.instance_weights"
      ],
      "metadata": {
        "id": "GBnFIl7iuOUK"
      },
      "execution_count": null,
      "outputs": []
    },
    {
      "cell_type": "code",
      "source": [
        "# prompt: generate a code for bayesian hyperparameter tuning for catboost\n",
        "\n",
        "from sklearn.model_selection import cross_val_score\n",
        "from skopt import BayesSearchCV\n",
        "from skopt.space import Real, Integer, Categorical\n",
        "\n",
        "# Define the parameter space for CatBoost\n",
        "param_space = {\n",
        "    'iterations': Integer(100, 500),  # Reduce the max iterations\n",
        "    'learning_rate': Real(0.05, 0.2, prior='log-uniform'),  # Narrow down learning rate\n",
        "    'depth': Integer(4, 8),  # Reduce the range of depth\n",
        "    'l2_leaf_reg': Integer(1, 5),  # Reduce L2 regularization range\n",
        "    'border_count': Integer(32, 100),  # Reduce the range\n",
        "    'random_strength': Real(1e-9, 5, prior='log-uniform'),  # Reduce the range\n",
        "    'bagging_temperature': Real(0.0, 0.5),  # Narrow down the range\n",
        "    'od_type': Categorical(['IncToDec']),  # Fix some parameters if less critical\n",
        "    'od_wait': Integer(10, 30),  # Reduce the range\n",
        "    'verbose': [0]\n",
        "}\n",
        "\n",
        "\n",
        "# Create a CatBoost classifier\n",
        "model = CatBoostClassifier()\n",
        "\n",
        "# Create the Bayesian optimization search\n",
        "bayes_search = BayesSearchCV(\n",
        "    estimator=model,\n",
        "    search_spaces=param_space,\n",
        "    n_iter=15,  # Number of iterations for the search\n",
        "    cv=5,  # Number of cross-validation folds\n",
        "    scoring='roc_auc',  # Metric to optimize\n",
        "    n_jobs=-1,  # Use all available CPU cores\n",
        "    random_state=42,\n",
        "    verbose=0\n",
        ")\n",
        "\n",
        "# Fit the Bayesian optimization search to your data\n",
        "bayes_search.fit(X_train_sample, y_train_sample, sample_weight=instance_weights_sample)\n",
        "\n",
        "# Get the best hyperparameters\n",
        "best_params = bayes_search.best_params_\n",
        "print(f\"Best hyperparameters: {best_params}\")\n",
        "\n"
      ],
      "metadata": {
        "colab": {
          "base_uri": "https://localhost:8080/",
          "height": 425
        },
        "id": "1QxoCrBdqbgD",
        "outputId": "c68c29da-2dde-42ec-f8fa-f660d30fadae"
      },
      "execution_count": null,
      "outputs": [
        {
          "metadata": {
            "tags": null
          },
          "name": "stderr",
          "output_type": "stream",
          "text": [
            "/usr/local/lib/python3.10/dist-packages/numpy/ma/core.py:2820: RuntimeWarning: invalid value encountered in cast\n",
            "  _data = np.array(data, dtype=dtype, copy=copy,\n",
            "/usr/local/lib/python3.10/dist-packages/numpy/ma/core.py:2820: RuntimeWarning: invalid value encountered in cast\n",
            "  _data = np.array(data, dtype=dtype, copy=copy,\n"
          ]
        },
        {
          "output_type": "error",
          "ename": "KeyboardInterrupt",
          "evalue": "",
          "traceback": [
            "\u001b[0;31m---------------------------------------------------------------------------\u001b[0m",
            "\u001b[0;31mKeyboardInterrupt\u001b[0m                         Traceback (most recent call last)",
            "\u001b[0;32m<ipython-input-34-eb5b9ecee75b>\u001b[0m in \u001b[0;36m<cell line: 38>\u001b[0;34m()\u001b[0m\n\u001b[1;32m     36\u001b[0m \u001b[0;34m\u001b[0m\u001b[0m\n\u001b[1;32m     37\u001b[0m \u001b[0;31m# Fit the Bayesian optimization search to your data\u001b[0m\u001b[0;34m\u001b[0m\u001b[0;34m\u001b[0m\u001b[0m\n\u001b[0;32m---> 38\u001b[0;31m \u001b[0mbayes_search\u001b[0m\u001b[0;34m.\u001b[0m\u001b[0mfit\u001b[0m\u001b[0;34m(\u001b[0m\u001b[0mX_train_sample\u001b[0m\u001b[0;34m,\u001b[0m \u001b[0my_train_sample\u001b[0m\u001b[0;34m,\u001b[0m \u001b[0msample_weight\u001b[0m\u001b[0;34m=\u001b[0m\u001b[0minstance_weights_sample\u001b[0m\u001b[0;34m)\u001b[0m\u001b[0;34m\u001b[0m\u001b[0;34m\u001b[0m\u001b[0m\n\u001b[0m\u001b[1;32m     39\u001b[0m \u001b[0;34m\u001b[0m\u001b[0m\n\u001b[1;32m     40\u001b[0m \u001b[0;31m# Get the best hyperparameters\u001b[0m\u001b[0;34m\u001b[0m\u001b[0;34m\u001b[0m\u001b[0m\n",
            "\u001b[0;32m/usr/local/lib/python3.10/dist-packages/skopt/searchcv.py\u001b[0m in \u001b[0;36mfit\u001b[0;34m(self, X, y, groups, callback, **fit_params)\u001b[0m\n\u001b[1;32m    540\u001b[0m             )\n\u001b[1;32m    541\u001b[0m \u001b[0;34m\u001b[0m\u001b[0m\n\u001b[0;32m--> 542\u001b[0;31m         \u001b[0msuper\u001b[0m\u001b[0;34m(\u001b[0m\u001b[0;34m)\u001b[0m\u001b[0;34m.\u001b[0m\u001b[0mfit\u001b[0m\u001b[0;34m(\u001b[0m\u001b[0mX\u001b[0m\u001b[0;34m=\u001b[0m\u001b[0mX\u001b[0m\u001b[0;34m,\u001b[0m \u001b[0my\u001b[0m\u001b[0;34m=\u001b[0m\u001b[0my\u001b[0m\u001b[0;34m,\u001b[0m \u001b[0mgroups\u001b[0m\u001b[0;34m=\u001b[0m\u001b[0mgroups\u001b[0m\u001b[0;34m,\u001b[0m \u001b[0;34m**\u001b[0m\u001b[0mfit_params\u001b[0m\u001b[0;34m)\u001b[0m\u001b[0;34m\u001b[0m\u001b[0;34m\u001b[0m\u001b[0m\n\u001b[0m\u001b[1;32m    543\u001b[0m \u001b[0;34m\u001b[0m\u001b[0m\n\u001b[1;32m    544\u001b[0m         \u001b[0;31m# BaseSearchCV never ranked train scores,\u001b[0m\u001b[0;34m\u001b[0m\u001b[0;34m\u001b[0m\u001b[0m\n",
            "\u001b[0;32m/usr/local/lib/python3.10/dist-packages/sklearn/base.py\u001b[0m in \u001b[0;36mwrapper\u001b[0;34m(estimator, *args, **kwargs)\u001b[0m\n\u001b[1;32m   1471\u001b[0m                 )\n\u001b[1;32m   1472\u001b[0m             ):\n\u001b[0;32m-> 1473\u001b[0;31m                 \u001b[0;32mreturn\u001b[0m \u001b[0mfit_method\u001b[0m\u001b[0;34m(\u001b[0m\u001b[0mestimator\u001b[0m\u001b[0;34m,\u001b[0m \u001b[0;34m*\u001b[0m\u001b[0margs\u001b[0m\u001b[0;34m,\u001b[0m \u001b[0;34m**\u001b[0m\u001b[0mkwargs\u001b[0m\u001b[0;34m)\u001b[0m\u001b[0;34m\u001b[0m\u001b[0;34m\u001b[0m\u001b[0m\n\u001b[0m\u001b[1;32m   1474\u001b[0m \u001b[0;34m\u001b[0m\u001b[0m\n\u001b[1;32m   1475\u001b[0m         \u001b[0;32mreturn\u001b[0m \u001b[0mwrapper\u001b[0m\u001b[0;34m\u001b[0m\u001b[0;34m\u001b[0m\u001b[0m\n",
            "\u001b[0;32m/usr/local/lib/python3.10/dist-packages/sklearn/model_selection/_search.py\u001b[0m in \u001b[0;36mfit\u001b[0;34m(self, X, y, **params)\u001b[0m\n\u001b[1;32m   1017\u001b[0m                 \u001b[0;32mreturn\u001b[0m \u001b[0mresults\u001b[0m\u001b[0;34m\u001b[0m\u001b[0;34m\u001b[0m\u001b[0m\n\u001b[1;32m   1018\u001b[0m \u001b[0;34m\u001b[0m\u001b[0m\n\u001b[0;32m-> 1019\u001b[0;31m             \u001b[0mself\u001b[0m\u001b[0;34m.\u001b[0m\u001b[0m_run_search\u001b[0m\u001b[0;34m(\u001b[0m\u001b[0mevaluate_candidates\u001b[0m\u001b[0;34m)\u001b[0m\u001b[0;34m\u001b[0m\u001b[0;34m\u001b[0m\u001b[0m\n\u001b[0m\u001b[1;32m   1020\u001b[0m \u001b[0;34m\u001b[0m\u001b[0m\n\u001b[1;32m   1021\u001b[0m             \u001b[0;31m# multimetric is determined here because in the case of a callable\u001b[0m\u001b[0;34m\u001b[0m\u001b[0;34m\u001b[0m\u001b[0m\n",
            "\u001b[0;32m/usr/local/lib/python3.10/dist-packages/skopt/searchcv.py\u001b[0m in \u001b[0;36m_run_search\u001b[0;34m(self, evaluate_candidates)\u001b[0m\n\u001b[1;32m    597\u001b[0m                 \u001b[0mn_points_adjusted\u001b[0m \u001b[0;34m=\u001b[0m \u001b[0mmin\u001b[0m\u001b[0;34m(\u001b[0m\u001b[0mn_iter\u001b[0m\u001b[0;34m,\u001b[0m \u001b[0mn_points\u001b[0m\u001b[0;34m)\u001b[0m\u001b[0;34m\u001b[0m\u001b[0;34m\u001b[0m\u001b[0m\n\u001b[1;32m    598\u001b[0m \u001b[0;34m\u001b[0m\u001b[0m\n\u001b[0;32m--> 599\u001b[0;31m                 optim_result, score_name = self._step(\n\u001b[0m\u001b[1;32m    600\u001b[0m                     \u001b[0msearch_space\u001b[0m\u001b[0;34m,\u001b[0m\u001b[0;34m\u001b[0m\u001b[0;34m\u001b[0m\u001b[0m\n\u001b[1;32m    601\u001b[0m                     \u001b[0moptimizer\u001b[0m\u001b[0;34m,\u001b[0m\u001b[0;34m\u001b[0m\u001b[0;34m\u001b[0m\u001b[0m\n",
            "\u001b[0;32m/usr/local/lib/python3.10/dist-packages/skopt/searchcv.py\u001b[0m in \u001b[0;36m_step\u001b[0;34m(self, search_space, optimizer, score_name, evaluate_candidates, n_points)\u001b[0m\n\u001b[1;32m    451\u001b[0m         \u001b[0mparams_dict\u001b[0m \u001b[0;34m=\u001b[0m \u001b[0;34m[\u001b[0m\u001b[0mpoint_asdict\u001b[0m\u001b[0;34m(\u001b[0m\u001b[0msearch_space\u001b[0m\u001b[0;34m,\u001b[0m \u001b[0mp\u001b[0m\u001b[0;34m)\u001b[0m \u001b[0;32mfor\u001b[0m \u001b[0mp\u001b[0m \u001b[0;32min\u001b[0m \u001b[0mparams\u001b[0m\u001b[0;34m]\u001b[0m\u001b[0;34m\u001b[0m\u001b[0;34m\u001b[0m\u001b[0m\n\u001b[1;32m    452\u001b[0m \u001b[0;34m\u001b[0m\u001b[0m\n\u001b[0;32m--> 453\u001b[0;31m         \u001b[0mall_results\u001b[0m \u001b[0;34m=\u001b[0m \u001b[0mevaluate_candidates\u001b[0m\u001b[0;34m(\u001b[0m\u001b[0mparams_dict\u001b[0m\u001b[0;34m)\u001b[0m\u001b[0;34m\u001b[0m\u001b[0;34m\u001b[0m\u001b[0m\n\u001b[0m\u001b[1;32m    454\u001b[0m \u001b[0;34m\u001b[0m\u001b[0m\n\u001b[1;32m    455\u001b[0m         \u001b[0;31m# if self.scoring is a callable, we have to wait until here\u001b[0m\u001b[0;34m\u001b[0m\u001b[0;34m\u001b[0m\u001b[0m\n",
            "\u001b[0;32m/usr/local/lib/python3.10/dist-packages/sklearn/model_selection/_search.py\u001b[0m in \u001b[0;36mevaluate_candidates\u001b[0;34m(candidate_params, cv, more_results)\u001b[0m\n\u001b[1;32m    963\u001b[0m                     )\n\u001b[1;32m    964\u001b[0m \u001b[0;34m\u001b[0m\u001b[0m\n\u001b[0;32m--> 965\u001b[0;31m                 out = parallel(\n\u001b[0m\u001b[1;32m    966\u001b[0m                     delayed(_fit_and_score)(\n\u001b[1;32m    967\u001b[0m                         \u001b[0mclone\u001b[0m\u001b[0;34m(\u001b[0m\u001b[0mbase_estimator\u001b[0m\u001b[0;34m)\u001b[0m\u001b[0;34m,\u001b[0m\u001b[0;34m\u001b[0m\u001b[0;34m\u001b[0m\u001b[0m\n",
            "\u001b[0;32m/usr/local/lib/python3.10/dist-packages/sklearn/utils/parallel.py\u001b[0m in \u001b[0;36m__call__\u001b[0;34m(self, iterable)\u001b[0m\n\u001b[1;32m     72\u001b[0m             \u001b[0;32mfor\u001b[0m \u001b[0mdelayed_func\u001b[0m\u001b[0;34m,\u001b[0m \u001b[0margs\u001b[0m\u001b[0;34m,\u001b[0m \u001b[0mkwargs\u001b[0m \u001b[0;32min\u001b[0m \u001b[0miterable\u001b[0m\u001b[0;34m\u001b[0m\u001b[0;34m\u001b[0m\u001b[0m\n\u001b[1;32m     73\u001b[0m         )\n\u001b[0;32m---> 74\u001b[0;31m         \u001b[0;32mreturn\u001b[0m \u001b[0msuper\u001b[0m\u001b[0;34m(\u001b[0m\u001b[0;34m)\u001b[0m\u001b[0;34m.\u001b[0m\u001b[0m__call__\u001b[0m\u001b[0;34m(\u001b[0m\u001b[0miterable_with_config\u001b[0m\u001b[0;34m)\u001b[0m\u001b[0;34m\u001b[0m\u001b[0;34m\u001b[0m\u001b[0m\n\u001b[0m\u001b[1;32m     75\u001b[0m \u001b[0;34m\u001b[0m\u001b[0m\n\u001b[1;32m     76\u001b[0m \u001b[0;34m\u001b[0m\u001b[0m\n",
            "\u001b[0;32m/usr/local/lib/python3.10/dist-packages/joblib/parallel.py\u001b[0m in \u001b[0;36m__call__\u001b[0;34m(self, iterable)\u001b[0m\n\u001b[1;32m   2005\u001b[0m         \u001b[0mnext\u001b[0m\u001b[0;34m(\u001b[0m\u001b[0moutput\u001b[0m\u001b[0;34m)\u001b[0m\u001b[0;34m\u001b[0m\u001b[0;34m\u001b[0m\u001b[0m\n\u001b[1;32m   2006\u001b[0m \u001b[0;34m\u001b[0m\u001b[0m\n\u001b[0;32m-> 2007\u001b[0;31m         \u001b[0;32mreturn\u001b[0m \u001b[0moutput\u001b[0m \u001b[0;32mif\u001b[0m \u001b[0mself\u001b[0m\u001b[0;34m.\u001b[0m\u001b[0mreturn_generator\u001b[0m \u001b[0;32melse\u001b[0m \u001b[0mlist\u001b[0m\u001b[0;34m(\u001b[0m\u001b[0moutput\u001b[0m\u001b[0;34m)\u001b[0m\u001b[0;34m\u001b[0m\u001b[0;34m\u001b[0m\u001b[0m\n\u001b[0m\u001b[1;32m   2008\u001b[0m \u001b[0;34m\u001b[0m\u001b[0m\n\u001b[1;32m   2009\u001b[0m     \u001b[0;32mdef\u001b[0m \u001b[0m__repr__\u001b[0m\u001b[0;34m(\u001b[0m\u001b[0mself\u001b[0m\u001b[0;34m)\u001b[0m\u001b[0;34m:\u001b[0m\u001b[0;34m\u001b[0m\u001b[0;34m\u001b[0m\u001b[0m\n",
            "\u001b[0;32m/usr/local/lib/python3.10/dist-packages/joblib/parallel.py\u001b[0m in \u001b[0;36m_get_outputs\u001b[0;34m(self, iterator, pre_dispatch)\u001b[0m\n\u001b[1;32m   1648\u001b[0m \u001b[0;34m\u001b[0m\u001b[0m\n\u001b[1;32m   1649\u001b[0m             \u001b[0;32mwith\u001b[0m \u001b[0mself\u001b[0m\u001b[0;34m.\u001b[0m\u001b[0m_backend\u001b[0m\u001b[0;34m.\u001b[0m\u001b[0mretrieval_context\u001b[0m\u001b[0;34m(\u001b[0m\u001b[0;34m)\u001b[0m\u001b[0;34m:\u001b[0m\u001b[0;34m\u001b[0m\u001b[0;34m\u001b[0m\u001b[0m\n\u001b[0;32m-> 1650\u001b[0;31m                 \u001b[0;32myield\u001b[0m \u001b[0;32mfrom\u001b[0m \u001b[0mself\u001b[0m\u001b[0;34m.\u001b[0m\u001b[0m_retrieve\u001b[0m\u001b[0;34m(\u001b[0m\u001b[0;34m)\u001b[0m\u001b[0;34m\u001b[0m\u001b[0;34m\u001b[0m\u001b[0m\n\u001b[0m\u001b[1;32m   1651\u001b[0m \u001b[0;34m\u001b[0m\u001b[0m\n\u001b[1;32m   1652\u001b[0m         \u001b[0;32mexcept\u001b[0m \u001b[0mGeneratorExit\u001b[0m\u001b[0;34m:\u001b[0m\u001b[0;34m\u001b[0m\u001b[0;34m\u001b[0m\u001b[0m\n",
            "\u001b[0;32m/usr/local/lib/python3.10/dist-packages/joblib/parallel.py\u001b[0m in \u001b[0;36m_retrieve\u001b[0;34m(self)\u001b[0m\n\u001b[1;32m   1760\u001b[0m                 (self._jobs[0].get_status(\n\u001b[1;32m   1761\u001b[0m                     timeout=self.timeout) == TASK_PENDING)):\n\u001b[0;32m-> 1762\u001b[0;31m                 \u001b[0mtime\u001b[0m\u001b[0;34m.\u001b[0m\u001b[0msleep\u001b[0m\u001b[0;34m(\u001b[0m\u001b[0;36m0.01\u001b[0m\u001b[0;34m)\u001b[0m\u001b[0;34m\u001b[0m\u001b[0;34m\u001b[0m\u001b[0m\n\u001b[0m\u001b[1;32m   1763\u001b[0m                 \u001b[0;32mcontinue\u001b[0m\u001b[0;34m\u001b[0m\u001b[0;34m\u001b[0m\u001b[0m\n\u001b[1;32m   1764\u001b[0m \u001b[0;34m\u001b[0m\u001b[0m\n",
            "\u001b[0;31mKeyboardInterrupt\u001b[0m: "
          ]
        }
      ]
    },
    {
      "cell_type": "code",
      "source": [
        "# Train a CatBoost model with the best hyperparameters\n",
        "from sklearn.model_selection import KFold\n",
        "params = {\n",
        "    'iterations': 500,\n",
        "    'learning_rate': 0.1,\n",
        "    'depth': 6,\n",
        "    'l2_leaf_reg': 3,\n",
        "    'border_count': 32,\n",
        "    'bagging_temperature': 1,\n",
        "    'random_strength': 1,\n",
        "    'od_type': 'Iter',\n",
        "    'od_wait': 20,\n",
        "    'eval_metric': 'AUC',\n",
        "    'verbose': 100\n",
        "}\n",
        "# Step 2: Initialize K-Fold Cross-Validation\n",
        "kf = KFold(n_splits=5, shuffle=True, random_state=42)\n",
        "auc_scores = []\n",
        "\n",
        "# Step 3: Perform K-Fold Cross-Validation\n",
        "for train_index, val_index in kf.split(X_train_final):\n",
        "    # Use .iloc to index the DataFrame\n",
        "    X_tr, X_val = X_train_final.iloc[train_index], X_train_final.iloc[val_index]\n",
        "    y_tr, y_val = y_train.iloc[train_index], y_train.iloc[val_index]  # Ensure y_train is a DataFrame/Series\n",
        "\n",
        "    # Step 4: Create and fit the CatBoost model\n",
        "    model = CatBoostClassifier(**params)\n",
        "    model.fit(X_tr, y_tr, eval_set=(X_val, y_val), verbose=100)\n",
        "\n",
        "    # Step 5: Predict probabilities on the validation set\n",
        "    y_pred_proba = model.predict_proba(X_val)[:, 1]\n",
        "\n",
        "    # Step 6: Calculate AUC score for this fold\n",
        "    auc = roc_auc_score(y_val, y_pred_proba)\n",
        "    auc_scores.append(auc)\n",
        "\n",
        "# Step 7: Calculate the average AUC score across all folds\n",
        "mean_auc = np.mean(auc_scores)\n",
        "print(f\"Mean AUC Score from Cross-Validation: {mean_auc:.4f}\")"
      ],
      "metadata": {
        "id": "rfaJWvNxtr7l",
        "colab": {
          "base_uri": "https://localhost:8080/"
        },
        "outputId": "345d58cc-c2d2-444d-e7d1-a5a3492ec433"
      },
      "execution_count": null,
      "outputs": [
        {
          "output_type": "stream",
          "name": "stdout",
          "text": [
            "0:\ttest: 0.6989247\tbest: 0.6989247 (0)\ttotal: 40.1ms\tremaining: 20s\n",
            "100:\ttest: 0.7686353\tbest: 0.7686353 (100)\ttotal: 3.98s\tremaining: 15.7s\n",
            "200:\ttest: 0.7815759\tbest: 0.7815759 (200)\ttotal: 8.11s\tremaining: 12.1s\n",
            "300:\ttest: 0.7876477\tbest: 0.7876477 (300)\ttotal: 12.5s\tremaining: 8.23s\n",
            "400:\ttest: 0.7911206\tbest: 0.7911207 (399)\ttotal: 16.3s\tremaining: 4.04s\n",
            "499:\ttest: 0.7932530\tbest: 0.7932530 (499)\ttotal: 20.2s\tremaining: 0us\n",
            "\n",
            "bestTest = 0.793253038\n",
            "bestIteration = 499\n",
            "\n",
            "0:\ttest: 0.6989821\tbest: 0.6989821 (0)\ttotal: 42.5ms\tremaining: 21.2s\n",
            "100:\ttest: 0.7666586\tbest: 0.7666586 (100)\ttotal: 4.4s\tremaining: 17.4s\n",
            "200:\ttest: 0.7799764\tbest: 0.7799764 (200)\ttotal: 8.28s\tremaining: 12.3s\n",
            "300:\ttest: 0.7863045\tbest: 0.7863045 (300)\ttotal: 12.2s\tremaining: 8.08s\n",
            "400:\ttest: 0.7895949\tbest: 0.7895949 (400)\ttotal: 16.7s\tremaining: 4.13s\n",
            "499:\ttest: 0.7918304\tbest: 0.7918304 (499)\ttotal: 20.5s\tremaining: 0us\n",
            "\n",
            "bestTest = 0.7918303756\n",
            "bestIteration = 499\n",
            "\n",
            "0:\ttest: 0.7067223\tbest: 0.7067223 (0)\ttotal: 35.3ms\tremaining: 17.6s\n",
            "100:\ttest: 0.7708898\tbest: 0.7708898 (100)\ttotal: 4.02s\tremaining: 15.9s\n",
            "200:\ttest: 0.7837510\tbest: 0.7837510 (200)\ttotal: 8.54s\tremaining: 12.7s\n",
            "300:\ttest: 0.7897697\tbest: 0.7897697 (300)\ttotal: 12.4s\tremaining: 8.19s\n",
            "400:\ttest: 0.7931129\tbest: 0.7931129 (400)\ttotal: 16.2s\tremaining: 4.01s\n",
            "499:\ttest: 0.7951054\tbest: 0.7951054 (499)\ttotal: 20.5s\tremaining: 0us\n",
            "\n",
            "bestTest = 0.7951053671\n",
            "bestIteration = 499\n",
            "\n",
            "0:\ttest: 0.7016923\tbest: 0.7016923 (0)\ttotal: 39.4ms\tremaining: 19.7s\n",
            "100:\ttest: 0.7639751\tbest: 0.7639751 (100)\ttotal: 3.98s\tremaining: 15.7s\n",
            "200:\ttest: 0.7775144\tbest: 0.7775144 (200)\ttotal: 7.9s\tremaining: 11.8s\n",
            "300:\ttest: 0.7837482\tbest: 0.7837482 (300)\ttotal: 12.3s\tremaining: 8.12s\n",
            "400:\ttest: 0.7874378\tbest: 0.7874378 (400)\ttotal: 16.9s\tremaining: 4.16s\n",
            "499:\ttest: 0.7893645\tbest: 0.7893645 (499)\ttotal: 20.6s\tremaining: 0us\n",
            "\n",
            "bestTest = 0.7893645023\n",
            "bestIteration = 499\n",
            "\n",
            "0:\ttest: 0.6981107\tbest: 0.6981107 (0)\ttotal: 36.8ms\tremaining: 18.3s\n",
            "100:\ttest: 0.7642752\tbest: 0.7642752 (100)\ttotal: 4.5s\tremaining: 17.8s\n",
            "200:\ttest: 0.7774977\tbest: 0.7774977 (200)\ttotal: 8.48s\tremaining: 12.6s\n",
            "300:\ttest: 0.7839989\tbest: 0.7839989 (300)\ttotal: 12.4s\tremaining: 8.18s\n",
            "400:\ttest: 0.7874850\tbest: 0.7874850 (400)\ttotal: 16.6s\tremaining: 4.09s\n",
            "499:\ttest: 0.7897154\tbest: 0.7897154 (499)\ttotal: 20.7s\tremaining: 0us\n",
            "\n",
            "bestTest = 0.7897154359\n",
            "bestIteration = 499\n",
            "\n",
            "Mean AUC Score from Cross-Validation: 0.7919\n"
          ]
        }
      ]
    },
    {
      "cell_type": "code",
      "source": [
        "# Step 8: Optional - Evaluate the model on the test set\n",
        "final_model = CatBoostClassifier(**params)\n",
        "final_model.fit(X_train_final, y_train)\n",
        "y_test_pred_proba = final_model.predict_proba(X_test_final)[:, 1]\n",
        "test_auc = roc_auc_score(y_test, y_test_pred_proba)\n",
        "print(f\"AUC Score on Test Set: {test_auc:.4f}\")"
      ],
      "metadata": {
        "colab": {
          "base_uri": "https://localhost:8080/"
        },
        "id": "yg0Fy2jcyKWD",
        "outputId": "3a8ece15-db68-497f-a3e8-cbd4e74f17d5"
      },
      "execution_count": null,
      "outputs": [
        {
          "output_type": "stream",
          "name": "stdout",
          "text": [
            "0:\ttotal: 49.6ms\tremaining: 24.7s\n",
            "100:\ttotal: 5.41s\tremaining: 21.4s\n",
            "200:\ttotal: 10.3s\tremaining: 15.3s\n",
            "300:\ttotal: 14.4s\tremaining: 9.54s\n",
            "400:\ttotal: 18.9s\tremaining: 4.67s\n",
            "499:\ttotal: 23.4s\tremaining: 0us\n",
            "AUC Score on Test Set: 0.7918\n"
          ]
        }
      ]
    },
    {
      "cell_type": "code",
      "source": [],
      "metadata": {
        "id": "sH5W2n4_wFt-"
      },
      "execution_count": null,
      "outputs": []
    },
    {
      "cell_type": "markdown",
      "source": [
        "### Previous version model fitting"
      ],
      "metadata": {
        "id": "9xHSw1XYwvaQ"
      }
    },
    {
      "cell_type": "markdown",
      "metadata": {
        "id": "LtN4DT11jBXw"
      },
      "source": [
        "###### **Training Model: Random Forest**"
      ]
    },
    {
      "cell_type": "code",
      "execution_count": null,
      "metadata": {
        "id": "Hb0QbRobjI64",
        "colab": {
          "base_uri": "https://localhost:8080/",
          "height": 97
        },
        "outputId": "7340d647-2fc0-40a4-e22d-ba2e240ca4a6"
      },
      "outputs": [
        {
          "output_type": "execute_result",
          "data": {
            "text/plain": [
              "RandomForestClassifier(min_samples_leaf=2, min_samples_split=5,\n",
              "                       n_estimators=500, random_state=42)"
            ],
            "text/html": [
              "<style>#sk-container-id-6 {\n",
              "  /* Definition of color scheme common for light and dark mode */\n",
              "  --sklearn-color-text: black;\n",
              "  --sklearn-color-line: gray;\n",
              "  /* Definition of color scheme for unfitted estimators */\n",
              "  --sklearn-color-unfitted-level-0: #fff5e6;\n",
              "  --sklearn-color-unfitted-level-1: #f6e4d2;\n",
              "  --sklearn-color-unfitted-level-2: #ffe0b3;\n",
              "  --sklearn-color-unfitted-level-3: chocolate;\n",
              "  /* Definition of color scheme for fitted estimators */\n",
              "  --sklearn-color-fitted-level-0: #f0f8ff;\n",
              "  --sklearn-color-fitted-level-1: #d4ebff;\n",
              "  --sklearn-color-fitted-level-2: #b3dbfd;\n",
              "  --sklearn-color-fitted-level-3: cornflowerblue;\n",
              "\n",
              "  /* Specific color for light theme */\n",
              "  --sklearn-color-text-on-default-background: var(--sg-text-color, var(--theme-code-foreground, var(--jp-content-font-color1, black)));\n",
              "  --sklearn-color-background: var(--sg-background-color, var(--theme-background, var(--jp-layout-color0, white)));\n",
              "  --sklearn-color-border-box: var(--sg-text-color, var(--theme-code-foreground, var(--jp-content-font-color1, black)));\n",
              "  --sklearn-color-icon: #696969;\n",
              "\n",
              "  @media (prefers-color-scheme: dark) {\n",
              "    /* Redefinition of color scheme for dark theme */\n",
              "    --sklearn-color-text-on-default-background: var(--sg-text-color, var(--theme-code-foreground, var(--jp-content-font-color1, white)));\n",
              "    --sklearn-color-background: var(--sg-background-color, var(--theme-background, var(--jp-layout-color0, #111)));\n",
              "    --sklearn-color-border-box: var(--sg-text-color, var(--theme-code-foreground, var(--jp-content-font-color1, white)));\n",
              "    --sklearn-color-icon: #878787;\n",
              "  }\n",
              "}\n",
              "\n",
              "#sk-container-id-6 {\n",
              "  color: var(--sklearn-color-text);\n",
              "}\n",
              "\n",
              "#sk-container-id-6 pre {\n",
              "  padding: 0;\n",
              "}\n",
              "\n",
              "#sk-container-id-6 input.sk-hidden--visually {\n",
              "  border: 0;\n",
              "  clip: rect(1px 1px 1px 1px);\n",
              "  clip: rect(1px, 1px, 1px, 1px);\n",
              "  height: 1px;\n",
              "  margin: -1px;\n",
              "  overflow: hidden;\n",
              "  padding: 0;\n",
              "  position: absolute;\n",
              "  width: 1px;\n",
              "}\n",
              "\n",
              "#sk-container-id-6 div.sk-dashed-wrapped {\n",
              "  border: 1px dashed var(--sklearn-color-line);\n",
              "  margin: 0 0.4em 0.5em 0.4em;\n",
              "  box-sizing: border-box;\n",
              "  padding-bottom: 0.4em;\n",
              "  background-color: var(--sklearn-color-background);\n",
              "}\n",
              "\n",
              "#sk-container-id-6 div.sk-container {\n",
              "  /* jupyter's `normalize.less` sets `[hidden] { display: none; }`\n",
              "     but bootstrap.min.css set `[hidden] { display: none !important; }`\n",
              "     so we also need the `!important` here to be able to override the\n",
              "     default hidden behavior on the sphinx rendered scikit-learn.org.\n",
              "     See: https://github.com/scikit-learn/scikit-learn/issues/21755 */\n",
              "  display: inline-block !important;\n",
              "  position: relative;\n",
              "}\n",
              "\n",
              "#sk-container-id-6 div.sk-text-repr-fallback {\n",
              "  display: none;\n",
              "}\n",
              "\n",
              "div.sk-parallel-item,\n",
              "div.sk-serial,\n",
              "div.sk-item {\n",
              "  /* draw centered vertical line to link estimators */\n",
              "  background-image: linear-gradient(var(--sklearn-color-text-on-default-background), var(--sklearn-color-text-on-default-background));\n",
              "  background-size: 2px 100%;\n",
              "  background-repeat: no-repeat;\n",
              "  background-position: center center;\n",
              "}\n",
              "\n",
              "/* Parallel-specific style estimator block */\n",
              "\n",
              "#sk-container-id-6 div.sk-parallel-item::after {\n",
              "  content: \"\";\n",
              "  width: 100%;\n",
              "  border-bottom: 2px solid var(--sklearn-color-text-on-default-background);\n",
              "  flex-grow: 1;\n",
              "}\n",
              "\n",
              "#sk-container-id-6 div.sk-parallel {\n",
              "  display: flex;\n",
              "  align-items: stretch;\n",
              "  justify-content: center;\n",
              "  background-color: var(--sklearn-color-background);\n",
              "  position: relative;\n",
              "}\n",
              "\n",
              "#sk-container-id-6 div.sk-parallel-item {\n",
              "  display: flex;\n",
              "  flex-direction: column;\n",
              "}\n",
              "\n",
              "#sk-container-id-6 div.sk-parallel-item:first-child::after {\n",
              "  align-self: flex-end;\n",
              "  width: 50%;\n",
              "}\n",
              "\n",
              "#sk-container-id-6 div.sk-parallel-item:last-child::after {\n",
              "  align-self: flex-start;\n",
              "  width: 50%;\n",
              "}\n",
              "\n",
              "#sk-container-id-6 div.sk-parallel-item:only-child::after {\n",
              "  width: 0;\n",
              "}\n",
              "\n",
              "/* Serial-specific style estimator block */\n",
              "\n",
              "#sk-container-id-6 div.sk-serial {\n",
              "  display: flex;\n",
              "  flex-direction: column;\n",
              "  align-items: center;\n",
              "  background-color: var(--sklearn-color-background);\n",
              "  padding-right: 1em;\n",
              "  padding-left: 1em;\n",
              "}\n",
              "\n",
              "\n",
              "/* Toggleable style: style used for estimator/Pipeline/ColumnTransformer box that is\n",
              "clickable and can be expanded/collapsed.\n",
              "- Pipeline and ColumnTransformer use this feature and define the default style\n",
              "- Estimators will overwrite some part of the style using the `sk-estimator` class\n",
              "*/\n",
              "\n",
              "/* Pipeline and ColumnTransformer style (default) */\n",
              "\n",
              "#sk-container-id-6 div.sk-toggleable {\n",
              "  /* Default theme specific background. It is overwritten whether we have a\n",
              "  specific estimator or a Pipeline/ColumnTransformer */\n",
              "  background-color: var(--sklearn-color-background);\n",
              "}\n",
              "\n",
              "/* Toggleable label */\n",
              "#sk-container-id-6 label.sk-toggleable__label {\n",
              "  cursor: pointer;\n",
              "  display: block;\n",
              "  width: 100%;\n",
              "  margin-bottom: 0;\n",
              "  padding: 0.5em;\n",
              "  box-sizing: border-box;\n",
              "  text-align: center;\n",
              "}\n",
              "\n",
              "#sk-container-id-6 label.sk-toggleable__label-arrow:before {\n",
              "  /* Arrow on the left of the label */\n",
              "  content: \"▸\";\n",
              "  float: left;\n",
              "  margin-right: 0.25em;\n",
              "  color: var(--sklearn-color-icon);\n",
              "}\n",
              "\n",
              "#sk-container-id-6 label.sk-toggleable__label-arrow:hover:before {\n",
              "  color: var(--sklearn-color-text);\n",
              "}\n",
              "\n",
              "/* Toggleable content - dropdown */\n",
              "\n",
              "#sk-container-id-6 div.sk-toggleable__content {\n",
              "  max-height: 0;\n",
              "  max-width: 0;\n",
              "  overflow: hidden;\n",
              "  text-align: left;\n",
              "  /* unfitted */\n",
              "  background-color: var(--sklearn-color-unfitted-level-0);\n",
              "}\n",
              "\n",
              "#sk-container-id-6 div.sk-toggleable__content.fitted {\n",
              "  /* fitted */\n",
              "  background-color: var(--sklearn-color-fitted-level-0);\n",
              "}\n",
              "\n",
              "#sk-container-id-6 div.sk-toggleable__content pre {\n",
              "  margin: 0.2em;\n",
              "  border-radius: 0.25em;\n",
              "  color: var(--sklearn-color-text);\n",
              "  /* unfitted */\n",
              "  background-color: var(--sklearn-color-unfitted-level-0);\n",
              "}\n",
              "\n",
              "#sk-container-id-6 div.sk-toggleable__content.fitted pre {\n",
              "  /* unfitted */\n",
              "  background-color: var(--sklearn-color-fitted-level-0);\n",
              "}\n",
              "\n",
              "#sk-container-id-6 input.sk-toggleable__control:checked~div.sk-toggleable__content {\n",
              "  /* Expand drop-down */\n",
              "  max-height: 200px;\n",
              "  max-width: 100%;\n",
              "  overflow: auto;\n",
              "}\n",
              "\n",
              "#sk-container-id-6 input.sk-toggleable__control:checked~label.sk-toggleable__label-arrow:before {\n",
              "  content: \"▾\";\n",
              "}\n",
              "\n",
              "/* Pipeline/ColumnTransformer-specific style */\n",
              "\n",
              "#sk-container-id-6 div.sk-label input.sk-toggleable__control:checked~label.sk-toggleable__label {\n",
              "  color: var(--sklearn-color-text);\n",
              "  background-color: var(--sklearn-color-unfitted-level-2);\n",
              "}\n",
              "\n",
              "#sk-container-id-6 div.sk-label.fitted input.sk-toggleable__control:checked~label.sk-toggleable__label {\n",
              "  background-color: var(--sklearn-color-fitted-level-2);\n",
              "}\n",
              "\n",
              "/* Estimator-specific style */\n",
              "\n",
              "/* Colorize estimator box */\n",
              "#sk-container-id-6 div.sk-estimator input.sk-toggleable__control:checked~label.sk-toggleable__label {\n",
              "  /* unfitted */\n",
              "  background-color: var(--sklearn-color-unfitted-level-2);\n",
              "}\n",
              "\n",
              "#sk-container-id-6 div.sk-estimator.fitted input.sk-toggleable__control:checked~label.sk-toggleable__label {\n",
              "  /* fitted */\n",
              "  background-color: var(--sklearn-color-fitted-level-2);\n",
              "}\n",
              "\n",
              "#sk-container-id-6 div.sk-label label.sk-toggleable__label,\n",
              "#sk-container-id-6 div.sk-label label {\n",
              "  /* The background is the default theme color */\n",
              "  color: var(--sklearn-color-text-on-default-background);\n",
              "}\n",
              "\n",
              "/* On hover, darken the color of the background */\n",
              "#sk-container-id-6 div.sk-label:hover label.sk-toggleable__label {\n",
              "  color: var(--sklearn-color-text);\n",
              "  background-color: var(--sklearn-color-unfitted-level-2);\n",
              "}\n",
              "\n",
              "/* Label box, darken color on hover, fitted */\n",
              "#sk-container-id-6 div.sk-label.fitted:hover label.sk-toggleable__label.fitted {\n",
              "  color: var(--sklearn-color-text);\n",
              "  background-color: var(--sklearn-color-fitted-level-2);\n",
              "}\n",
              "\n",
              "/* Estimator label */\n",
              "\n",
              "#sk-container-id-6 div.sk-label label {\n",
              "  font-family: monospace;\n",
              "  font-weight: bold;\n",
              "  display: inline-block;\n",
              "  line-height: 1.2em;\n",
              "}\n",
              "\n",
              "#sk-container-id-6 div.sk-label-container {\n",
              "  text-align: center;\n",
              "}\n",
              "\n",
              "/* Estimator-specific */\n",
              "#sk-container-id-6 div.sk-estimator {\n",
              "  font-family: monospace;\n",
              "  border: 1px dotted var(--sklearn-color-border-box);\n",
              "  border-radius: 0.25em;\n",
              "  box-sizing: border-box;\n",
              "  margin-bottom: 0.5em;\n",
              "  /* unfitted */\n",
              "  background-color: var(--sklearn-color-unfitted-level-0);\n",
              "}\n",
              "\n",
              "#sk-container-id-6 div.sk-estimator.fitted {\n",
              "  /* fitted */\n",
              "  background-color: var(--sklearn-color-fitted-level-0);\n",
              "}\n",
              "\n",
              "/* on hover */\n",
              "#sk-container-id-6 div.sk-estimator:hover {\n",
              "  /* unfitted */\n",
              "  background-color: var(--sklearn-color-unfitted-level-2);\n",
              "}\n",
              "\n",
              "#sk-container-id-6 div.sk-estimator.fitted:hover {\n",
              "  /* fitted */\n",
              "  background-color: var(--sklearn-color-fitted-level-2);\n",
              "}\n",
              "\n",
              "/* Specification for estimator info (e.g. \"i\" and \"?\") */\n",
              "\n",
              "/* Common style for \"i\" and \"?\" */\n",
              "\n",
              ".sk-estimator-doc-link,\n",
              "a:link.sk-estimator-doc-link,\n",
              "a:visited.sk-estimator-doc-link {\n",
              "  float: right;\n",
              "  font-size: smaller;\n",
              "  line-height: 1em;\n",
              "  font-family: monospace;\n",
              "  background-color: var(--sklearn-color-background);\n",
              "  border-radius: 1em;\n",
              "  height: 1em;\n",
              "  width: 1em;\n",
              "  text-decoration: none !important;\n",
              "  margin-left: 1ex;\n",
              "  /* unfitted */\n",
              "  border: var(--sklearn-color-unfitted-level-1) 1pt solid;\n",
              "  color: var(--sklearn-color-unfitted-level-1);\n",
              "}\n",
              "\n",
              ".sk-estimator-doc-link.fitted,\n",
              "a:link.sk-estimator-doc-link.fitted,\n",
              "a:visited.sk-estimator-doc-link.fitted {\n",
              "  /* fitted */\n",
              "  border: var(--sklearn-color-fitted-level-1) 1pt solid;\n",
              "  color: var(--sklearn-color-fitted-level-1);\n",
              "}\n",
              "\n",
              "/* On hover */\n",
              "div.sk-estimator:hover .sk-estimator-doc-link:hover,\n",
              ".sk-estimator-doc-link:hover,\n",
              "div.sk-label-container:hover .sk-estimator-doc-link:hover,\n",
              ".sk-estimator-doc-link:hover {\n",
              "  /* unfitted */\n",
              "  background-color: var(--sklearn-color-unfitted-level-3);\n",
              "  color: var(--sklearn-color-background);\n",
              "  text-decoration: none;\n",
              "}\n",
              "\n",
              "div.sk-estimator.fitted:hover .sk-estimator-doc-link.fitted:hover,\n",
              ".sk-estimator-doc-link.fitted:hover,\n",
              "div.sk-label-container:hover .sk-estimator-doc-link.fitted:hover,\n",
              ".sk-estimator-doc-link.fitted:hover {\n",
              "  /* fitted */\n",
              "  background-color: var(--sklearn-color-fitted-level-3);\n",
              "  color: var(--sklearn-color-background);\n",
              "  text-decoration: none;\n",
              "}\n",
              "\n",
              "/* Span, style for the box shown on hovering the info icon */\n",
              ".sk-estimator-doc-link span {\n",
              "  display: none;\n",
              "  z-index: 9999;\n",
              "  position: relative;\n",
              "  font-weight: normal;\n",
              "  right: .2ex;\n",
              "  padding: .5ex;\n",
              "  margin: .5ex;\n",
              "  width: min-content;\n",
              "  min-width: 20ex;\n",
              "  max-width: 50ex;\n",
              "  color: var(--sklearn-color-text);\n",
              "  box-shadow: 2pt 2pt 4pt #999;\n",
              "  /* unfitted */\n",
              "  background: var(--sklearn-color-unfitted-level-0);\n",
              "  border: .5pt solid var(--sklearn-color-unfitted-level-3);\n",
              "}\n",
              "\n",
              ".sk-estimator-doc-link.fitted span {\n",
              "  /* fitted */\n",
              "  background: var(--sklearn-color-fitted-level-0);\n",
              "  border: var(--sklearn-color-fitted-level-3);\n",
              "}\n",
              "\n",
              ".sk-estimator-doc-link:hover span {\n",
              "  display: block;\n",
              "}\n",
              "\n",
              "/* \"?\"-specific style due to the `<a>` HTML tag */\n",
              "\n",
              "#sk-container-id-6 a.estimator_doc_link {\n",
              "  float: right;\n",
              "  font-size: 1rem;\n",
              "  line-height: 1em;\n",
              "  font-family: monospace;\n",
              "  background-color: var(--sklearn-color-background);\n",
              "  border-radius: 1rem;\n",
              "  height: 1rem;\n",
              "  width: 1rem;\n",
              "  text-decoration: none;\n",
              "  /* unfitted */\n",
              "  color: var(--sklearn-color-unfitted-level-1);\n",
              "  border: var(--sklearn-color-unfitted-level-1) 1pt solid;\n",
              "}\n",
              "\n",
              "#sk-container-id-6 a.estimator_doc_link.fitted {\n",
              "  /* fitted */\n",
              "  border: var(--sklearn-color-fitted-level-1) 1pt solid;\n",
              "  color: var(--sklearn-color-fitted-level-1);\n",
              "}\n",
              "\n",
              "/* On hover */\n",
              "#sk-container-id-6 a.estimator_doc_link:hover {\n",
              "  /* unfitted */\n",
              "  background-color: var(--sklearn-color-unfitted-level-3);\n",
              "  color: var(--sklearn-color-background);\n",
              "  text-decoration: none;\n",
              "}\n",
              "\n",
              "#sk-container-id-6 a.estimator_doc_link.fitted:hover {\n",
              "  /* fitted */\n",
              "  background-color: var(--sklearn-color-fitted-level-3);\n",
              "}\n",
              "</style><div id=\"sk-container-id-6\" class=\"sk-top-container\"><div class=\"sk-text-repr-fallback\"><pre>RandomForestClassifier(min_samples_leaf=2, min_samples_split=5,\n",
              "                       n_estimators=500, random_state=42)</pre><b>In a Jupyter environment, please rerun this cell to show the HTML representation or trust the notebook. <br />On GitHub, the HTML representation is unable to render, please try loading this page with nbviewer.org.</b></div><div class=\"sk-container\" hidden><div class=\"sk-item\"><div class=\"sk-estimator fitted sk-toggleable\"><input class=\"sk-toggleable__control sk-hidden--visually\" id=\"sk-estimator-id-6\" type=\"checkbox\" checked><label for=\"sk-estimator-id-6\" class=\"sk-toggleable__label fitted sk-toggleable__label-arrow fitted\">&nbsp;&nbsp;RandomForestClassifier<a class=\"sk-estimator-doc-link fitted\" rel=\"noreferrer\" target=\"_blank\" href=\"https://scikit-learn.org/1.5/modules/generated/sklearn.ensemble.RandomForestClassifier.html\">?<span>Documentation for RandomForestClassifier</span></a><span class=\"sk-estimator-doc-link fitted\">i<span>Fitted</span></span></label><div class=\"sk-toggleable__content fitted\"><pre>RandomForestClassifier(min_samples_leaf=2, min_samples_split=5,\n",
              "                       n_estimators=500, random_state=42)</pre></div> </div></div></div></div>"
            ]
          },
          "metadata": {},
          "execution_count": 128
        }
      ],
      "source": [
        "# Train a Random Forest model using instance weights\n",
        "model = RandomForestClassifier(\n",
        "    n_estimators=500,          # Number of trees\n",
        "    max_depth=None,            # No limit on tree depth\n",
        "    min_samples_split=5,       # Minimum samples required to split a node\n",
        "    min_samples_leaf=2,        # Minimum samples required at a leaf node\n",
        "    max_features='sqrt',       # Number of features to consider for the best split\n",
        "    bootstrap=True,            # Use bootstrap samples\n",
        "    random_state=42            # For reproducibility\n",
        ")\n",
        "model.fit(X_train_final, y_train, sample_weight=instance_weights)"
      ]
    },
    {
      "cell_type": "code",
      "execution_count": null,
      "metadata": {
        "colab": {
          "base_uri": "https://localhost:8080/"
        },
        "id": "c12Hxvx6jRUj",
        "outputId": "df6f7084-b322-4898-91c1-2ec4be21379d"
      },
      "outputs": [
        {
          "output_type": "stream",
          "name": "stdout",
          "text": [
            "ROC-AUC Score: 0.7930\n",
            "Classification Report:\n",
            "              precision    recall  f1-score   support\n",
            "\n",
            "           0       0.71      0.79      0.74     75024\n",
            "           1       0.74      0.64      0.69     69055\n",
            "\n",
            "    accuracy                           0.72    144079\n",
            "   macro avg       0.72      0.72      0.72    144079\n",
            "weighted avg       0.72      0.72      0.72    144079\n",
            "\n",
            "Confusion Matrix:\n",
            "[[59092 15932]\n",
            " [24673 44382]]\n"
          ]
        }
      ],
      "source": [
        "from sklearn.metrics import classification_report, confusion_matrix, roc_auc_score\n",
        "\n",
        "# Predict on the test set\n",
        "y_pred = model.predict(X_test_final)\n",
        "\n",
        "# Calculate predicted probabilities (needed for ROC-AUC score)\n",
        "y_pred_proba = model.predict_proba(X_test_final)[:, 1]\n",
        "\n",
        "# Compute ROC-AUC score\n",
        "roc_auc = roc_auc_score(y_test, y_pred_proba)\n",
        "print(f'ROC-AUC Score: {roc_auc:.4f}')\n",
        "\n",
        "# Print classification report\n",
        "print(\"Classification Report:\")\n",
        "print(classification_report(y_test, y_pred))\n",
        "\n",
        "# Print confusion matrix\n",
        "print(\"Confusion Matrix:\")\n",
        "print(confusion_matrix(y_test, y_pred))"
      ]
    },
    {
      "cell_type": "code",
      "source": [
        "# prompt: basis above random forest model, get the feature importance score and save it in csv\n",
        "\n",
        "import pandas as pd\n",
        "# Get feature importances from the trained Random Forest model\n",
        "importances = model.feature_importances_\n",
        "\n",
        "# Create a DataFrame with feature names and their importances\n",
        "feature_importance_df = pd.DataFrame({'Feature': X_train_final.columns, 'Importance': importances})\n",
        "\n",
        "# Sort the DataFrame by importance in descending order\n",
        "feature_importance_df = feature_importance_df.sort_values('Importance', ascending=False)\n",
        "\n",
        "# Save the DataFrame to a CSV file\n",
        "feature_importance_df.to_csv('feature_importance_rf.csv', index=False)\n"
      ],
      "metadata": {
        "id": "UHiMvbYmsQHQ"
      },
      "execution_count": null,
      "outputs": []
    },
    {
      "cell_type": "markdown",
      "metadata": {
        "id": "rAgjUHZ3s_S4"
      },
      "source": [
        "###### **Fairness metric calculation**"
      ]
    },
    {
      "cell_type": "code",
      "execution_count": null,
      "metadata": {
        "id": "bHy_U8gFi_g0"
      },
      "outputs": [],
      "source": [
        "from aif360.metrics import ClassificationMetric\n",
        "from aif360.datasets import BinaryLabelDataset\n",
        "\n",
        "# Step 1: Convert test data into a BinaryLabelDataset (AIF360 format)\n",
        "test_data = pd.concat([X_test_final.reset_index(drop=True), y_test.reset_index(drop=True)], axis=1)\n",
        "test_bld = BinaryLabelDataset(\n",
        "    favorable_label=1,\n",
        "    unfavorable_label=0,\n",
        "    df=test_data,\n",
        "    label_names=['preventive_visit_gap_ind'],\n",
        "    protected_attribute_names=['sex_cd_f', 'sex_cd_m',\n",
        "                               'race_asian', 'race_black', 'race_hispanic', 'race_n american native',\n",
        "                               'race_other', 'race_unknown', 'race_white'])\n",
        "\n",
        "# Step 2: Create BinaryLabelDataset for the predictions\n",
        "# Add predictions to the test dataset for AIF360\n",
        "y_pred_bld = test_data.copy()\n",
        "y_pred_bld['preventive_visit_gap_ind'] = y_pred  # Replace the target with the predicted values\n",
        "\n",
        "pred_bld = BinaryLabelDataset(\n",
        "    favorable_label=1,\n",
        "    unfavorable_label=0,\n",
        "    df=y_pred_bld,\n",
        "    label_names=['preventive_visit_gap_ind'],\n",
        "    protected_attribute_names=['sex_cd_f', 'sex_cd_m',\n",
        "                               'race_asian', 'race_black', 'race_hispanic', 'race_n american native',\n",
        "                               'race_other', 'race_unknown', 'race_white'])\n",
        "\n",
        "# Step 3: Initialize the ClassificationMetric object\n",
        "metric = ClassificationMetric(test_bld, pred_bld,\n",
        "                              unprivileged_groups = [ {'race_black': 1},\n",
        "                       {'race_hispanic': 1},\n",
        "                       {'race_asian': 1},\n",
        "                       {'race_n american native': 1},\n",
        "                       {'race_other': 1},\n",
        "                       {'race_unknown': 1}],\n",
        "\n",
        "# Define privileged groups (males, whites)\n",
        "privileged_groups = [{'race_white': 1}])\n",
        "\n"
      ]
    },
    {
      "cell_type": "code",
      "execution_count": null,
      "metadata": {
        "colab": {
          "base_uri": "https://localhost:8080/"
        },
        "id": "kXTBbGoBrzn5",
        "outputId": "51caa3a4-caa3-4a25-ede2-0c54e7e40b97"
      },
      "outputs": [
        {
          "name": "stdout",
          "output_type": "stream",
          "text": [
            "Equal Opportunity Difference: 0.0561\n",
            "TPR for Unprivileged Group: 0.6676\n",
            "TPR for Privileged Group: 0.6115\n"
          ]
        }
      ],
      "source": [
        "# Step 4: Compute Equal Opportunity Difference (TPR difference)\n",
        "equal_opportunity_diff = metric.equal_opportunity_difference()\n",
        "print(f'Equal Opportunity Difference: {equal_opportunity_diff:.4f}')\n",
        "\n",
        "# Step 5: Print other fairness metrics if needed\n",
        "tpr_unprivileged = metric.true_positive_rate(privileged=False)\n",
        "tpr_privileged = metric.true_positive_rate(privileged=True)\n",
        "print(f'TPR for Unprivileged Group: {tpr_unprivileged:.4f}')\n",
        "print(f'TPR for Privileged Group: {tpr_privileged:.4f}')"
      ]
    },
    {
      "cell_type": "markdown",
      "metadata": {
        "id": "-t8N-6MftGnJ"
      },
      "source": [
        "##### **Training Model: XGBoost**"
      ]
    },
    {
      "cell_type": "code",
      "execution_count": null,
      "metadata": {
        "colab": {
          "base_uri": "https://localhost:8080/",
          "height": 254
        },
        "id": "9VW26fYAtezZ",
        "outputId": "bb0fb726-1475-4549-8486-341466edd457"
      },
      "outputs": [
        {
          "data": {
            "text/html": [
              "<style>#sk-container-id-4 {\n",
              "  /* Definition of color scheme common for light and dark mode */\n",
              "  --sklearn-color-text: black;\n",
              "  --sklearn-color-line: gray;\n",
              "  /* Definition of color scheme for unfitted estimators */\n",
              "  --sklearn-color-unfitted-level-0: #fff5e6;\n",
              "  --sklearn-color-unfitted-level-1: #f6e4d2;\n",
              "  --sklearn-color-unfitted-level-2: #ffe0b3;\n",
              "  --sklearn-color-unfitted-level-3: chocolate;\n",
              "  /* Definition of color scheme for fitted estimators */\n",
              "  --sklearn-color-fitted-level-0: #f0f8ff;\n",
              "  --sklearn-color-fitted-level-1: #d4ebff;\n",
              "  --sklearn-color-fitted-level-2: #b3dbfd;\n",
              "  --sklearn-color-fitted-level-3: cornflowerblue;\n",
              "\n",
              "  /* Specific color for light theme */\n",
              "  --sklearn-color-text-on-default-background: var(--sg-text-color, var(--theme-code-foreground, var(--jp-content-font-color1, black)));\n",
              "  --sklearn-color-background: var(--sg-background-color, var(--theme-background, var(--jp-layout-color0, white)));\n",
              "  --sklearn-color-border-box: var(--sg-text-color, var(--theme-code-foreground, var(--jp-content-font-color1, black)));\n",
              "  --sklearn-color-icon: #696969;\n",
              "\n",
              "  @media (prefers-color-scheme: dark) {\n",
              "    /* Redefinition of color scheme for dark theme */\n",
              "    --sklearn-color-text-on-default-background: var(--sg-text-color, var(--theme-code-foreground, var(--jp-content-font-color1, white)));\n",
              "    --sklearn-color-background: var(--sg-background-color, var(--theme-background, var(--jp-layout-color0, #111)));\n",
              "    --sklearn-color-border-box: var(--sg-text-color, var(--theme-code-foreground, var(--jp-content-font-color1, white)));\n",
              "    --sklearn-color-icon: #878787;\n",
              "  }\n",
              "}\n",
              "\n",
              "#sk-container-id-4 {\n",
              "  color: var(--sklearn-color-text);\n",
              "}\n",
              "\n",
              "#sk-container-id-4 pre {\n",
              "  padding: 0;\n",
              "}\n",
              "\n",
              "#sk-container-id-4 input.sk-hidden--visually {\n",
              "  border: 0;\n",
              "  clip: rect(1px 1px 1px 1px);\n",
              "  clip: rect(1px, 1px, 1px, 1px);\n",
              "  height: 1px;\n",
              "  margin: -1px;\n",
              "  overflow: hidden;\n",
              "  padding: 0;\n",
              "  position: absolute;\n",
              "  width: 1px;\n",
              "}\n",
              "\n",
              "#sk-container-id-4 div.sk-dashed-wrapped {\n",
              "  border: 1px dashed var(--sklearn-color-line);\n",
              "  margin: 0 0.4em 0.5em 0.4em;\n",
              "  box-sizing: border-box;\n",
              "  padding-bottom: 0.4em;\n",
              "  background-color: var(--sklearn-color-background);\n",
              "}\n",
              "\n",
              "#sk-container-id-4 div.sk-container {\n",
              "  /* jupyter's `normalize.less` sets `[hidden] { display: none; }`\n",
              "     but bootstrap.min.css set `[hidden] { display: none !important; }`\n",
              "     so we also need the `!important` here to be able to override the\n",
              "     default hidden behavior on the sphinx rendered scikit-learn.org.\n",
              "     See: https://github.com/scikit-learn/scikit-learn/issues/21755 */\n",
              "  display: inline-block !important;\n",
              "  position: relative;\n",
              "}\n",
              "\n",
              "#sk-container-id-4 div.sk-text-repr-fallback {\n",
              "  display: none;\n",
              "}\n",
              "\n",
              "div.sk-parallel-item,\n",
              "div.sk-serial,\n",
              "div.sk-item {\n",
              "  /* draw centered vertical line to link estimators */\n",
              "  background-image: linear-gradient(var(--sklearn-color-text-on-default-background), var(--sklearn-color-text-on-default-background));\n",
              "  background-size: 2px 100%;\n",
              "  background-repeat: no-repeat;\n",
              "  background-position: center center;\n",
              "}\n",
              "\n",
              "/* Parallel-specific style estimator block */\n",
              "\n",
              "#sk-container-id-4 div.sk-parallel-item::after {\n",
              "  content: \"\";\n",
              "  width: 100%;\n",
              "  border-bottom: 2px solid var(--sklearn-color-text-on-default-background);\n",
              "  flex-grow: 1;\n",
              "}\n",
              "\n",
              "#sk-container-id-4 div.sk-parallel {\n",
              "  display: flex;\n",
              "  align-items: stretch;\n",
              "  justify-content: center;\n",
              "  background-color: var(--sklearn-color-background);\n",
              "  position: relative;\n",
              "}\n",
              "\n",
              "#sk-container-id-4 div.sk-parallel-item {\n",
              "  display: flex;\n",
              "  flex-direction: column;\n",
              "}\n",
              "\n",
              "#sk-container-id-4 div.sk-parallel-item:first-child::after {\n",
              "  align-self: flex-end;\n",
              "  width: 50%;\n",
              "}\n",
              "\n",
              "#sk-container-id-4 div.sk-parallel-item:last-child::after {\n",
              "  align-self: flex-start;\n",
              "  width: 50%;\n",
              "}\n",
              "\n",
              "#sk-container-id-4 div.sk-parallel-item:only-child::after {\n",
              "  width: 0;\n",
              "}\n",
              "\n",
              "/* Serial-specific style estimator block */\n",
              "\n",
              "#sk-container-id-4 div.sk-serial {\n",
              "  display: flex;\n",
              "  flex-direction: column;\n",
              "  align-items: center;\n",
              "  background-color: var(--sklearn-color-background);\n",
              "  padding-right: 1em;\n",
              "  padding-left: 1em;\n",
              "}\n",
              "\n",
              "\n",
              "/* Toggleable style: style used for estimator/Pipeline/ColumnTransformer box that is\n",
              "clickable and can be expanded/collapsed.\n",
              "- Pipeline and ColumnTransformer use this feature and define the default style\n",
              "- Estimators will overwrite some part of the style using the `sk-estimator` class\n",
              "*/\n",
              "\n",
              "/* Pipeline and ColumnTransformer style (default) */\n",
              "\n",
              "#sk-container-id-4 div.sk-toggleable {\n",
              "  /* Default theme specific background. It is overwritten whether we have a\n",
              "  specific estimator or a Pipeline/ColumnTransformer */\n",
              "  background-color: var(--sklearn-color-background);\n",
              "}\n",
              "\n",
              "/* Toggleable label */\n",
              "#sk-container-id-4 label.sk-toggleable__label {\n",
              "  cursor: pointer;\n",
              "  display: block;\n",
              "  width: 100%;\n",
              "  margin-bottom: 0;\n",
              "  padding: 0.5em;\n",
              "  box-sizing: border-box;\n",
              "  text-align: center;\n",
              "}\n",
              "\n",
              "#sk-container-id-4 label.sk-toggleable__label-arrow:before {\n",
              "  /* Arrow on the left of the label */\n",
              "  content: \"▸\";\n",
              "  float: left;\n",
              "  margin-right: 0.25em;\n",
              "  color: var(--sklearn-color-icon);\n",
              "}\n",
              "\n",
              "#sk-container-id-4 label.sk-toggleable__label-arrow:hover:before {\n",
              "  color: var(--sklearn-color-text);\n",
              "}\n",
              "\n",
              "/* Toggleable content - dropdown */\n",
              "\n",
              "#sk-container-id-4 div.sk-toggleable__content {\n",
              "  max-height: 0;\n",
              "  max-width: 0;\n",
              "  overflow: hidden;\n",
              "  text-align: left;\n",
              "  /* unfitted */\n",
              "  background-color: var(--sklearn-color-unfitted-level-0);\n",
              "}\n",
              "\n",
              "#sk-container-id-4 div.sk-toggleable__content.fitted {\n",
              "  /* fitted */\n",
              "  background-color: var(--sklearn-color-fitted-level-0);\n",
              "}\n",
              "\n",
              "#sk-container-id-4 div.sk-toggleable__content pre {\n",
              "  margin: 0.2em;\n",
              "  border-radius: 0.25em;\n",
              "  color: var(--sklearn-color-text);\n",
              "  /* unfitted */\n",
              "  background-color: var(--sklearn-color-unfitted-level-0);\n",
              "}\n",
              "\n",
              "#sk-container-id-4 div.sk-toggleable__content.fitted pre {\n",
              "  /* unfitted */\n",
              "  background-color: var(--sklearn-color-fitted-level-0);\n",
              "}\n",
              "\n",
              "#sk-container-id-4 input.sk-toggleable__control:checked~div.sk-toggleable__content {\n",
              "  /* Expand drop-down */\n",
              "  max-height: 200px;\n",
              "  max-width: 100%;\n",
              "  overflow: auto;\n",
              "}\n",
              "\n",
              "#sk-container-id-4 input.sk-toggleable__control:checked~label.sk-toggleable__label-arrow:before {\n",
              "  content: \"▾\";\n",
              "}\n",
              "\n",
              "/* Pipeline/ColumnTransformer-specific style */\n",
              "\n",
              "#sk-container-id-4 div.sk-label input.sk-toggleable__control:checked~label.sk-toggleable__label {\n",
              "  color: var(--sklearn-color-text);\n",
              "  background-color: var(--sklearn-color-unfitted-level-2);\n",
              "}\n",
              "\n",
              "#sk-container-id-4 div.sk-label.fitted input.sk-toggleable__control:checked~label.sk-toggleable__label {\n",
              "  background-color: var(--sklearn-color-fitted-level-2);\n",
              "}\n",
              "\n",
              "/* Estimator-specific style */\n",
              "\n",
              "/* Colorize estimator box */\n",
              "#sk-container-id-4 div.sk-estimator input.sk-toggleable__control:checked~label.sk-toggleable__label {\n",
              "  /* unfitted */\n",
              "  background-color: var(--sklearn-color-unfitted-level-2);\n",
              "}\n",
              "\n",
              "#sk-container-id-4 div.sk-estimator.fitted input.sk-toggleable__control:checked~label.sk-toggleable__label {\n",
              "  /* fitted */\n",
              "  background-color: var(--sklearn-color-fitted-level-2);\n",
              "}\n",
              "\n",
              "#sk-container-id-4 div.sk-label label.sk-toggleable__label,\n",
              "#sk-container-id-4 div.sk-label label {\n",
              "  /* The background is the default theme color */\n",
              "  color: var(--sklearn-color-text-on-default-background);\n",
              "}\n",
              "\n",
              "/* On hover, darken the color of the background */\n",
              "#sk-container-id-4 div.sk-label:hover label.sk-toggleable__label {\n",
              "  color: var(--sklearn-color-text);\n",
              "  background-color: var(--sklearn-color-unfitted-level-2);\n",
              "}\n",
              "\n",
              "/* Label box, darken color on hover, fitted */\n",
              "#sk-container-id-4 div.sk-label.fitted:hover label.sk-toggleable__label.fitted {\n",
              "  color: var(--sklearn-color-text);\n",
              "  background-color: var(--sklearn-color-fitted-level-2);\n",
              "}\n",
              "\n",
              "/* Estimator label */\n",
              "\n",
              "#sk-container-id-4 div.sk-label label {\n",
              "  font-family: monospace;\n",
              "  font-weight: bold;\n",
              "  display: inline-block;\n",
              "  line-height: 1.2em;\n",
              "}\n",
              "\n",
              "#sk-container-id-4 div.sk-label-container {\n",
              "  text-align: center;\n",
              "}\n",
              "\n",
              "/* Estimator-specific */\n",
              "#sk-container-id-4 div.sk-estimator {\n",
              "  font-family: monospace;\n",
              "  border: 1px dotted var(--sklearn-color-border-box);\n",
              "  border-radius: 0.25em;\n",
              "  box-sizing: border-box;\n",
              "  margin-bottom: 0.5em;\n",
              "  /* unfitted */\n",
              "  background-color: var(--sklearn-color-unfitted-level-0);\n",
              "}\n",
              "\n",
              "#sk-container-id-4 div.sk-estimator.fitted {\n",
              "  /* fitted */\n",
              "  background-color: var(--sklearn-color-fitted-level-0);\n",
              "}\n",
              "\n",
              "/* on hover */\n",
              "#sk-container-id-4 div.sk-estimator:hover {\n",
              "  /* unfitted */\n",
              "  background-color: var(--sklearn-color-unfitted-level-2);\n",
              "}\n",
              "\n",
              "#sk-container-id-4 div.sk-estimator.fitted:hover {\n",
              "  /* fitted */\n",
              "  background-color: var(--sklearn-color-fitted-level-2);\n",
              "}\n",
              "\n",
              "/* Specification for estimator info (e.g. \"i\" and \"?\") */\n",
              "\n",
              "/* Common style for \"i\" and \"?\" */\n",
              "\n",
              ".sk-estimator-doc-link,\n",
              "a:link.sk-estimator-doc-link,\n",
              "a:visited.sk-estimator-doc-link {\n",
              "  float: right;\n",
              "  font-size: smaller;\n",
              "  line-height: 1em;\n",
              "  font-family: monospace;\n",
              "  background-color: var(--sklearn-color-background);\n",
              "  border-radius: 1em;\n",
              "  height: 1em;\n",
              "  width: 1em;\n",
              "  text-decoration: none !important;\n",
              "  margin-left: 1ex;\n",
              "  /* unfitted */\n",
              "  border: var(--sklearn-color-unfitted-level-1) 1pt solid;\n",
              "  color: var(--sklearn-color-unfitted-level-1);\n",
              "}\n",
              "\n",
              ".sk-estimator-doc-link.fitted,\n",
              "a:link.sk-estimator-doc-link.fitted,\n",
              "a:visited.sk-estimator-doc-link.fitted {\n",
              "  /* fitted */\n",
              "  border: var(--sklearn-color-fitted-level-1) 1pt solid;\n",
              "  color: var(--sklearn-color-fitted-level-1);\n",
              "}\n",
              "\n",
              "/* On hover */\n",
              "div.sk-estimator:hover .sk-estimator-doc-link:hover,\n",
              ".sk-estimator-doc-link:hover,\n",
              "div.sk-label-container:hover .sk-estimator-doc-link:hover,\n",
              ".sk-estimator-doc-link:hover {\n",
              "  /* unfitted */\n",
              "  background-color: var(--sklearn-color-unfitted-level-3);\n",
              "  color: var(--sklearn-color-background);\n",
              "  text-decoration: none;\n",
              "}\n",
              "\n",
              "div.sk-estimator.fitted:hover .sk-estimator-doc-link.fitted:hover,\n",
              ".sk-estimator-doc-link.fitted:hover,\n",
              "div.sk-label-container:hover .sk-estimator-doc-link.fitted:hover,\n",
              ".sk-estimator-doc-link.fitted:hover {\n",
              "  /* fitted */\n",
              "  background-color: var(--sklearn-color-fitted-level-3);\n",
              "  color: var(--sklearn-color-background);\n",
              "  text-decoration: none;\n",
              "}\n",
              "\n",
              "/* Span, style for the box shown on hovering the info icon */\n",
              ".sk-estimator-doc-link span {\n",
              "  display: none;\n",
              "  z-index: 9999;\n",
              "  position: relative;\n",
              "  font-weight: normal;\n",
              "  right: .2ex;\n",
              "  padding: .5ex;\n",
              "  margin: .5ex;\n",
              "  width: min-content;\n",
              "  min-width: 20ex;\n",
              "  max-width: 50ex;\n",
              "  color: var(--sklearn-color-text);\n",
              "  box-shadow: 2pt 2pt 4pt #999;\n",
              "  /* unfitted */\n",
              "  background: var(--sklearn-color-unfitted-level-0);\n",
              "  border: .5pt solid var(--sklearn-color-unfitted-level-3);\n",
              "}\n",
              "\n",
              ".sk-estimator-doc-link.fitted span {\n",
              "  /* fitted */\n",
              "  background: var(--sklearn-color-fitted-level-0);\n",
              "  border: var(--sklearn-color-fitted-level-3);\n",
              "}\n",
              "\n",
              ".sk-estimator-doc-link:hover span {\n",
              "  display: block;\n",
              "}\n",
              "\n",
              "/* \"?\"-specific style due to the `<a>` HTML tag */\n",
              "\n",
              "#sk-container-id-4 a.estimator_doc_link {\n",
              "  float: right;\n",
              "  font-size: 1rem;\n",
              "  line-height: 1em;\n",
              "  font-family: monospace;\n",
              "  background-color: var(--sklearn-color-background);\n",
              "  border-radius: 1rem;\n",
              "  height: 1rem;\n",
              "  width: 1rem;\n",
              "  text-decoration: none;\n",
              "  /* unfitted */\n",
              "  color: var(--sklearn-color-unfitted-level-1);\n",
              "  border: var(--sklearn-color-unfitted-level-1) 1pt solid;\n",
              "}\n",
              "\n",
              "#sk-container-id-4 a.estimator_doc_link.fitted {\n",
              "  /* fitted */\n",
              "  border: var(--sklearn-color-fitted-level-1) 1pt solid;\n",
              "  color: var(--sklearn-color-fitted-level-1);\n",
              "}\n",
              "\n",
              "/* On hover */\n",
              "#sk-container-id-4 a.estimator_doc_link:hover {\n",
              "  /* unfitted */\n",
              "  background-color: var(--sklearn-color-unfitted-level-3);\n",
              "  color: var(--sklearn-color-background);\n",
              "  text-decoration: none;\n",
              "}\n",
              "\n",
              "#sk-container-id-4 a.estimator_doc_link.fitted:hover {\n",
              "  /* fitted */\n",
              "  background-color: var(--sklearn-color-fitted-level-3);\n",
              "}\n",
              "</style><div id=\"sk-container-id-4\" class=\"sk-top-container\"><div class=\"sk-text-repr-fallback\"><pre>XGBClassifier(base_score=None, booster=None, callbacks=None,\n",
              "              colsample_bylevel=None, colsample_bynode=None,\n",
              "              colsample_bytree=0.8, device=None, early_stopping_rounds=None,\n",
              "              enable_categorical=False, eval_metric=None, feature_types=None,\n",
              "              gamma=None, grow_policy=None, importance_type=None,\n",
              "              interaction_constraints=None, learning_rate=0.05, max_bin=None,\n",
              "              max_cat_threshold=None, max_cat_to_onehot=None,\n",
              "              max_delta_step=None, max_depth=10, max_leaves=None,\n",
              "              min_child_weight=5, missing=nan, monotone_constraints=None,\n",
              "              multi_strategy=None, n_estimators=500, n_jobs=None,\n",
              "              num_parallel_tree=None, random_state=None, ...)</pre><b>In a Jupyter environment, please rerun this cell to show the HTML representation or trust the notebook. <br />On GitHub, the HTML representation is unable to render, please try loading this page with nbviewer.org.</b></div><div class=\"sk-container\" hidden><div class=\"sk-item\"><div class=\"sk-estimator fitted sk-toggleable\"><input class=\"sk-toggleable__control sk-hidden--visually\" id=\"sk-estimator-id-4\" type=\"checkbox\" checked><label for=\"sk-estimator-id-4\" class=\"sk-toggleable__label fitted sk-toggleable__label-arrow fitted\">&nbsp;XGBClassifier<span class=\"sk-estimator-doc-link fitted\">i<span>Fitted</span></span></label><div class=\"sk-toggleable__content fitted\"><pre>XGBClassifier(base_score=None, booster=None, callbacks=None,\n",
              "              colsample_bylevel=None, colsample_bynode=None,\n",
              "              colsample_bytree=0.8, device=None, early_stopping_rounds=None,\n",
              "              enable_categorical=False, eval_metric=None, feature_types=None,\n",
              "              gamma=None, grow_policy=None, importance_type=None,\n",
              "              interaction_constraints=None, learning_rate=0.05, max_bin=None,\n",
              "              max_cat_threshold=None, max_cat_to_onehot=None,\n",
              "              max_delta_step=None, max_depth=10, max_leaves=None,\n",
              "              min_child_weight=5, missing=nan, monotone_constraints=None,\n",
              "              multi_strategy=None, n_estimators=500, n_jobs=None,\n",
              "              num_parallel_tree=None, random_state=None, ...)</pre></div> </div></div></div></div>"
            ],
            "text/plain": [
              "XGBClassifier(base_score=None, booster=None, callbacks=None,\n",
              "              colsample_bylevel=None, colsample_bynode=None,\n",
              "              colsample_bytree=0.8, device=None, early_stopping_rounds=None,\n",
              "              enable_categorical=False, eval_metric=None, feature_types=None,\n",
              "              gamma=None, grow_policy=None, importance_type=None,\n",
              "              interaction_constraints=None, learning_rate=0.05, max_bin=None,\n",
              "              max_cat_threshold=None, max_cat_to_onehot=None,\n",
              "              max_delta_step=None, max_depth=10, max_leaves=None,\n",
              "              min_child_weight=5, missing=nan, monotone_constraints=None,\n",
              "              multi_strategy=None, n_estimators=500, n_jobs=None,\n",
              "              num_parallel_tree=None, random_state=None, ...)"
            ]
          },
          "execution_count": 96,
          "metadata": {},
          "output_type": "execute_result"
        }
      ],
      "source": [
        "from xgboost import XGBClassifier\n",
        "\n",
        "params = {\n",
        "    'objective': 'binary:logistic',  # For binary classification\n",
        "    'learning_rate': 0.05,  # Lower learning rate for more stable training\n",
        "    'max_depth': 10,  # Moderate depth to handle complexity\n",
        "    'min_child_weight': 5,  # Higher value to reduce overfitting\n",
        "    'subsample': 0.8,  # Use 80% of training samples for each tree\n",
        "    'colsample_bytree': 0.8,  # Use 80% of features for each tree\n",
        "    'n_estimators': 500,  # More boosting rounds for better learning\n",
        "}\n",
        "\n",
        "# Initialize the XGBoost classifier\n",
        "model_xg = XGBClassifier(**params)\n",
        "model_xg.fit(X_train_final, y_train, sample_weight=instance_weights)"
      ]
    },
    {
      "cell_type": "code",
      "execution_count": null,
      "metadata": {
        "colab": {
          "base_uri": "https://localhost:8080/"
        },
        "id": "LDVO65z5tu0A",
        "outputId": "570fd963-e71d-4bfd-ebd7-f19eee881ca3"
      },
      "outputs": [
        {
          "name": "stdout",
          "output_type": "stream",
          "text": [
            "ROC-AUC Score: 0.7983\n",
            "Classification Report:\n",
            "              precision    recall  f1-score   support\n",
            "\n",
            "           0       0.71      0.78      0.74     75024\n",
            "           1       0.73      0.66      0.69     69055\n",
            "\n",
            "    accuracy                           0.72    144079\n",
            "   macro avg       0.72      0.72      0.72    144079\n",
            "weighted avg       0.72      0.72      0.72    144079\n",
            "\n",
            "Confusion Matrix:\n",
            "[[58324 16700]\n",
            " [23428 45627]]\n"
          ]
        }
      ],
      "source": [
        "from sklearn.metrics import classification_report\n",
        "from sklearn.metrics import confusion_matrix, ConfusionMatrixDisplay\n",
        "import matplotlib.pyplot as plt\n",
        "\n",
        "# Predict on the test set\n",
        "y_pred = model_xg.predict(X_test_final)\n",
        "\n",
        "# Calculate predicted probabilities (needed for ROC-AUC score)\n",
        "y_pred_proba = model_xg.predict_proba(X_test_final)[:, 1]\n",
        "\n",
        "# Compute ROC-AUC score\n",
        "roc_auc = roc_auc_score(y_test, y_pred_proba)\n",
        "print(f'ROC-AUC Score: {roc_auc:.4f}')\n",
        "\n",
        "# Print classification report\n",
        "print(\"Classification Report:\")\n",
        "print(classification_report(y_test, y_pred))\n",
        "\n",
        "# Print confusion matrix\n",
        "print(\"Confusion Matrix:\")\n",
        "print(confusion_matrix(y_test, y_pred))"
      ]
    },
    {
      "cell_type": "code",
      "source": [
        "# prompt: generate feature importance score using Xgboost model above on X_train_final .. and get the feature importance score in csv\n",
        "\n",
        "import pandas as pd\n",
        "# Get feature importances from the XGBoost model\n",
        "importances = model_xg.feature_importances_\n",
        "\n",
        "# Create a DataFrame with feature names and their importances\n",
        "feature_importance_df = pd.DataFrame({'Feature': X_train_final.columns, 'Importance': importances})\n",
        "\n",
        "# Sort the features by importance in descending order\n",
        "feature_importance_df = feature_importance_df.sort_values('Importance', ascending=False)\n",
        "\n",
        "# Save the DataFrame to a CSV file in your Google Drive\n",
        "feature_importance_df.to_csv('/content/drive/MyDrive/Humana files/feature_importance_xgboost.csv', index=False)\n"
      ],
      "metadata": {
        "id": "uMXIKd8Nqbxb"
      },
      "execution_count": null,
      "outputs": []
    },
    {
      "cell_type": "markdown",
      "metadata": {
        "id": "Kdk3NZSI1_f2"
      },
      "source": [
        "##### **Fairness Metric calculation**"
      ]
    },
    {
      "cell_type": "code",
      "execution_count": null,
      "metadata": {
        "id": "5eghPQ-o1HVk"
      },
      "outputs": [],
      "source": [
        "# Step 1: Convert test data into a BinaryLabelDataset (AIF360 format)\n",
        "test_data = pd.concat([X_test_final.reset_index(drop=True), y_test.reset_index(drop=True)], axis=1)\n",
        "test_bld = BinaryLabelDataset(\n",
        "    favorable_label=1,\n",
        "    unfavorable_label=0,\n",
        "    df=test_data,\n",
        "    label_names=['preventive_visit_gap_ind'],\n",
        "    protected_attribute_names=['sex_cd_f', 'sex_cd_m',\n",
        "                               'race_asian', 'race_black', 'race_hispanic', 'race_n american native',\n",
        "                               'race_other', 'race_unknown', 'race_white'])\n",
        "\n",
        "# Step 2: Create BinaryLabelDataset for the predictions\n",
        "# Add predictions to the test dataset for AIF360\n",
        "y_pred_bld = test_data.copy()\n",
        "y_pred_bld['preventive_visit_gap_ind'] = y_pred  # Replace the target with the predicted values\n",
        "\n",
        "pred_bld = BinaryLabelDataset(\n",
        "    favorable_label=1,\n",
        "    unfavorable_label=0,\n",
        "    df=y_pred_bld,\n",
        "    label_names=['preventive_visit_gap_ind'],\n",
        "    protected_attribute_names=['sex_cd_f', 'sex_cd_m',\n",
        "                               'race_asian', 'race_black', 'race_hispanic', 'race_n american native',\n",
        "                               'race_other', 'race_unknown', 'race_white'])\n",
        "\n",
        "# Step 3: Initialize the ClassificationMetric object\n",
        "metric = ClassificationMetric(test_bld, pred_bld,\n",
        "                              unprivileged_groups = [ {'race_black': 1},\n",
        "                       {'race_hispanic': 1},\n",
        "                       {'race_asian': 1},\n",
        "                       {'race_n american native': 1},\n",
        "                       {'race_other': 1},\n",
        "                       {'race_unknown': 1}],\n",
        "\n",
        "# Define privileged groups (males, whites)\n",
        "privileged_groups = [{'race_white': 1}])\n",
        "\n"
      ]
    },
    {
      "cell_type": "code",
      "execution_count": null,
      "metadata": {
        "colab": {
          "base_uri": "https://localhost:8080/"
        },
        "id": "_5YxE6-11LYY",
        "outputId": "03863472-84f5-4a2a-a068-37eac976ac87"
      },
      "outputs": [
        {
          "name": "stdout",
          "output_type": "stream",
          "text": [
            "Equal Opportunity Difference: 0.0606\n",
            "TPR for Unprivileged Group: 0.6963\n",
            "TPR for Privileged Group: 0.6357\n"
          ]
        }
      ],
      "source": [
        "# Step 4: Compute Equal Opportunity Difference (TPR difference)\n",
        "equal_opportunity_diff = metric.equal_opportunity_difference()\n",
        "print(f'Equal Opportunity Difference: {equal_opportunity_diff:.4f}')\n",
        "\n",
        "# Step 5: Print other fairness metrics if needed\n",
        "tpr_unprivileged = metric.true_positive_rate(privileged=False)\n",
        "tpr_privileged = metric.true_positive_rate(privileged=True)\n",
        "print(f'TPR for Unprivileged Group: {tpr_unprivileged:.4f}')\n",
        "print(f'TPR for Privileged Group: {tpr_privileged:.4f}')"
      ]
    },
    {
      "cell_type": "markdown",
      "metadata": {
        "id": "YD2weoe8ukFJ"
      },
      "source": [
        "##### **Training Model: CatBoost**"
      ]
    },
    {
      "cell_type": "code",
      "execution_count": null,
      "metadata": {
        "id": "Nlb3si7juzTi"
      },
      "outputs": [],
      "source": [
        "!pip install catboost"
      ]
    },
    {
      "cell_type": "code",
      "execution_count": null,
      "metadata": {
        "colab": {
          "base_uri": "https://localhost:8080/"
        },
        "id": "nUI8NN3puoXz",
        "outputId": "eca250f2-a003-4525-96ba-b5dbefff0504"
      },
      "outputs": [
        {
          "data": {
            "text/plain": [
              "<catboost.core.CatBoostClassifier at 0x7e12f69769e0>"
            ]
          },
          "execution_count": 84,
          "metadata": {},
          "output_type": "execute_result"
        }
      ],
      "source": [
        "from catboost import CatBoostClassifier\n",
        "\n",
        "# Initialize CatBoost Classifier\n",
        "model_cb = CatBoostClassifier(random_seed=42, verbose=0)  # Set verbose=0 to suppress output\n",
        "\n",
        "# Fit the model to the training data with instance weights\n",
        "model_cb.fit(X_train_final, y_train, sample_weight=instance_weights)"
      ]
    },
    {
      "cell_type": "code",
      "execution_count": null,
      "metadata": {
        "colab": {
          "base_uri": "https://localhost:8080/"
        },
        "id": "h5OxQIKeu3wQ",
        "outputId": "78d63006-ba85-4604-eaf8-76fae12f9f52"
      },
      "outputs": [
        {
          "name": "stdout",
          "output_type": "stream",
          "text": [
            "ROC-AUC Score: 0.7977\n",
            "Classification Report:\n",
            "              precision    recall  f1-score   support\n",
            "\n",
            "           0       0.71      0.78      0.74     75024\n",
            "           1       0.73      0.66      0.69     69055\n",
            "\n",
            "    accuracy                           0.72    144079\n",
            "   macro avg       0.72      0.72      0.72    144079\n",
            "weighted avg       0.72      0.72      0.72    144079\n",
            "\n",
            "Confusion Matrix:\n",
            "[[58415 16609]\n",
            " [23603 45452]]\n"
          ]
        }
      ],
      "source": [
        "# Predict on the test set\n",
        "y_pred = model_cb.predict(X_test_final)\n",
        "\n",
        "# Calculate predicted probabilities (needed for ROC-AUC score)\n",
        "y_pred_proba = model_cb.predict_proba(X_test_final)[:, 1]\n",
        "\n",
        "# Compute ROC-AUC score\n",
        "roc_auc = roc_auc_score(y_test, y_pred_proba)\n",
        "print(f'ROC-AUC Score: {roc_auc:.4f}')\n",
        "\n",
        "# Print classification report\n",
        "print(\"Classification Report:\")\n",
        "print(classification_report(y_test, y_pred))\n",
        "\n",
        "# Print confusion matrix\n",
        "print(\"Confusion Matrix:\")\n",
        "print(confusion_matrix(y_test, y_pred))"
      ]
    },
    {
      "cell_type": "code",
      "execution_count": null,
      "metadata": {
        "id": "YkrhRZf90JLG"
      },
      "outputs": [],
      "source": [
        "# Step 1: Convert test data into a BinaryLabelDataset (AIF360 format)\n",
        "test_data = pd.concat([X_test_final.reset_index(drop=True), y_test.reset_index(drop=True)], axis=1)\n",
        "test_bld = BinaryLabelDataset(\n",
        "    favorable_label=1,\n",
        "    unfavorable_label=0,\n",
        "    df=test_data,\n",
        "    label_names=['preventive_visit_gap_ind'],\n",
        "    protected_attribute_names=['sex_cd_f', 'sex_cd_m',\n",
        "                               'race_asian', 'race_black', 'race_hispanic', 'race_n american native',\n",
        "                               'race_other', 'race_unknown', 'race_white'])\n",
        "\n",
        "# Step 2: Create BinaryLabelDataset for the predictions\n",
        "# Add predictions to the test dataset for AIF360\n",
        "y_pred_bld = test_data.copy()\n",
        "y_pred_bld['preventive_visit_gap_ind'] = y_pred  # Replace the target with the predicted values\n",
        "\n",
        "pred_bld = BinaryLabelDataset(\n",
        "    favorable_label=1,\n",
        "    unfavorable_label=0,\n",
        "    df=y_pred_bld,\n",
        "    label_names=['preventive_visit_gap_ind'],\n",
        "    protected_attribute_names=['sex_cd_f', 'sex_cd_m',\n",
        "                               'race_asian', 'race_black', 'race_hispanic', 'race_n american native',\n",
        "                               'race_other', 'race_unknown', 'race_white'])\n",
        "\n",
        "# Step 3: Initialize the ClassificationMetric object\n",
        "metric = ClassificationMetric(test_bld, pred_bld,\n",
        "                              unprivileged_groups = [ {'race_black': 1},\n",
        "                       {'race_hispanic': 1},\n",
        "                       {'race_asian': 1},\n",
        "                       {'race_n american native': 1},\n",
        "                       {'race_other': 1},\n",
        "                       {'race_unknown': 1}],\n",
        "\n",
        "# Define privileged groups (males, whites)\n",
        "privileged_groups = [{'race_white': 1}])\n",
        "\n"
      ]
    },
    {
      "cell_type": "markdown",
      "metadata": {
        "id": "9yDK41gb2Mv5"
      },
      "source": [
        "##### **Fairness Metric calculation**"
      ]
    },
    {
      "cell_type": "code",
      "execution_count": null,
      "metadata": {
        "colab": {
          "base_uri": "https://localhost:8080/"
        },
        "id": "v58iMXCV0Nn1",
        "outputId": "4e102453-fb1b-43a4-e751-ac685eea336c"
      },
      "outputs": [
        {
          "name": "stdout",
          "output_type": "stream",
          "text": [
            "Equal Opportunity Difference: 0.0627\n",
            "TPR for Unprivileged Group: 0.7088\n",
            "TPR for Privileged Group: 0.6460\n"
          ]
        }
      ],
      "source": [
        "# Step 4: Compute Equal Opportunity Difference (TPR difference)\n",
        "equal_opportunity_diff = metric.equal_opportunity_difference()\n",
        "print(f'Equal Opportunity Difference: {equal_opportunity_diff:.4f}')\n",
        "\n",
        "# Step 5: Print other fairness metrics if needed\n",
        "tpr_unprivileged = metric.true_positive_rate(privileged=False)\n",
        "tpr_privileged = metric.true_positive_rate(privileged=True)\n",
        "print(f'TPR for Unprivileged Group: {tpr_unprivileged:.4f}')\n",
        "print(f'TPR for Privileged Group: {tpr_privileged:.4f}')"
      ]
    },
    {
      "cell_type": "markdown",
      "metadata": {
        "id": "33NMqmkP6fSX"
      },
      "source": [
        "### **Fitting on full dataset**"
      ]
    },
    {
      "cell_type": "code",
      "execution_count": null,
      "metadata": {
        "id": "8anqvNhW6qyj"
      },
      "outputs": [],
      "source": [
        "# combine X_train_final and X_test_final\n",
        "X_final = pd.concat([X_train_final, X_test_final], axis=0)\n",
        "y_final = pd.concat([y_train, y_test], axis=0)\n"
      ]
    },
    {
      "cell_type": "code",
      "execution_count": null,
      "metadata": {
        "id": "uh0WDscr9UWn"
      },
      "outputs": [],
      "source": [
        "# Combine X_final and y_final for AIF360 Balanced datasets\n",
        "\n",
        "# Combine X_final and y_final into a single dataframe for AIF360 compatibility\n",
        "final_data = pd.concat([X_final.reset_index(drop=True), y_final.reset_index(drop=True)], axis=1)\n",
        "\n",
        "\n",
        "# Convert to BinaryLabelDataset (AIF360 format)\n",
        "fulldataset_bld = BinaryLabelDataset(\n",
        "    favorable_label=1,\n",
        "    unfavorable_label=0,\n",
        "    df=final_data,\n",
        "    label_names=['preventive_visit_gap_ind'],\n",
        "    protected_attribute_names=['cat__sex_cd_f', 'cat__sex_cd_m',\n",
        "                               'cat__race_asian', 'cat__race_black', 'cat__race_hispanic', 'cat__race_n american native',\n",
        "                               'cat__race_other', 'cat__race_unknown', 'cat__race_white'])\n",
        "\n",
        "reweighing = Reweighing(\n",
        "    unprivileged_groups=[{'cat__sex_cd_f': 1},\n",
        "    {'cat__race_black': 1},\n",
        "    {'cat__race_hispanic': 1},\n",
        "    {'cat__race_asian': 1},\n",
        "    {'cat__race_n american native': 1},\n",
        "    {'cat__race_other': 1},\n",
        "    {'cat__race_unknown': 1}],\n",
        "    privileged_groups=[{'cat__sex_cd_m': 1}, {'cat__race_white': 1}]\n",
        ")\n",
        "\n",
        "reweighing.fit(train_bld)\n",
        "fulldataset_bld_reweighed = reweighing.transform(fulldataset_bld)\n",
        "\n",
        "# Extract instance weights from the reweighed dataset\n",
        "instance_weights = fulldataset_bld_reweighed.instance_weights"
      ]
    },
    {
      "cell_type": "code",
      "execution_count": null,
      "metadata": {
        "colab": {
          "base_uri": "https://localhost:8080/",
          "height": 1000
        },
        "id": "DS36euZZ91jW",
        "outputId": "f3fb8ab6-270b-4436-eabd-14c8bdc9086a"
      },
      "outputs": [
        {
          "output_type": "stream",
          "name": "stdout",
          "text": [
            "[LightGBM] [Warning] Found whitespace in feature_names, replace with underlines\n",
            "[LightGBM] [Info] Number of positive: 276219, number of negative: 300097\n",
            "[LightGBM] [Info] Auto-choosing row-wise multi-threading, the overhead of testing was 0.088892 seconds.\n",
            "You can set `force_row_wise=true` to remove the overhead.\n",
            "And if memory is not enough, you can set `force_col_wise=true`.\n",
            "[LightGBM] [Info] Total Bins 15892\n",
            "[LightGBM] [Info] Number of data points in the train set: 576316, number of used features: 126\n",
            "[LightGBM] [Info] [binary:BoostFromScore]: pavg=0.494549 -> initscore=-0.021805\n",
            "[LightGBM] [Info] Start training from score -0.021805\n",
            "[LightGBM] [Warning] Found whitespace in feature_names, replace with underlines\n",
            "[LightGBM] [Info] Number of positive: 220975, number of negative: 240077\n",
            "[LightGBM] [Info] Auto-choosing row-wise multi-threading, the overhead of testing was 0.082596 seconds.\n",
            "You can set `force_row_wise=true` to remove the overhead.\n",
            "And if memory is not enough, you can set `force_col_wise=true`.\n",
            "[LightGBM] [Info] Total Bins 15885\n",
            "[LightGBM] [Info] Number of data points in the train set: 461052, number of used features: 126\n",
            "[LightGBM] [Info] [binary:BoostFromScore]: pavg=0.494533 -> initscore=-0.021869\n",
            "[LightGBM] [Info] Start training from score -0.021869\n",
            "[LightGBM] [Warning] Found whitespace in feature_names, replace with underlines\n",
            "[LightGBM] [Info] Number of positive: 220976, number of negative: 240077\n",
            "[LightGBM] [Info] Auto-choosing row-wise multi-threading, the overhead of testing was 0.073822 seconds.\n",
            "You can set `force_row_wise=true` to remove the overhead.\n",
            "And if memory is not enough, you can set `force_col_wise=true`.\n",
            "[LightGBM] [Info] Total Bins 15885\n",
            "[LightGBM] [Info] Number of data points in the train set: 461053, number of used features: 126\n",
            "[LightGBM] [Info] [binary:BoostFromScore]: pavg=0.494560 -> initscore=-0.021759\n",
            "[LightGBM] [Info] Start training from score -0.021759\n",
            "[LightGBM] [Warning] Found whitespace in feature_names, replace with underlines\n",
            "[LightGBM] [Info] Number of positive: 220975, number of negative: 240078\n",
            "[LightGBM] [Info] Auto-choosing row-wise multi-threading, the overhead of testing was 0.108736 seconds.\n",
            "You can set `force_row_wise=true` to remove the overhead.\n",
            "And if memory is not enough, you can set `force_col_wise=true`.\n",
            "[LightGBM] [Info] Total Bins 15885\n",
            "[LightGBM] [Info] Number of data points in the train set: 461053, number of used features: 126\n",
            "[LightGBM] [Info] [binary:BoostFromScore]: pavg=0.494529 -> initscore=-0.021886\n",
            "[LightGBM] [Info] Start training from score -0.021886\n",
            "[LightGBM] [Warning] Found whitespace in feature_names, replace with underlines\n",
            "[LightGBM] [Info] Number of positive: 220975, number of negative: 240078\n",
            "[LightGBM] [Info] Auto-choosing row-wise multi-threading, the overhead of testing was 0.071099 seconds.\n",
            "You can set `force_row_wise=true` to remove the overhead.\n",
            "And if memory is not enough, you can set `force_col_wise=true`.\n",
            "[LightGBM] [Info] Total Bins 15889\n",
            "[LightGBM] [Info] Number of data points in the train set: 461053, number of used features: 126\n",
            "[LightGBM] [Info] [binary:BoostFromScore]: pavg=0.494557 -> initscore=-0.021772\n",
            "[LightGBM] [Info] Start training from score -0.021772\n",
            "[LightGBM] [Warning] Found whitespace in feature_names, replace with underlines\n",
            "[LightGBM] [Info] Number of positive: 220975, number of negative: 240078\n",
            "[LightGBM] [Info] Auto-choosing row-wise multi-threading, the overhead of testing was 0.073963 seconds.\n",
            "You can set `force_row_wise=true` to remove the overhead.\n",
            "And if memory is not enough, you can set `force_col_wise=true`.\n",
            "[LightGBM] [Info] Total Bins 15888\n",
            "[LightGBM] [Info] Number of data points in the train set: 461053, number of used features: 126\n",
            "[LightGBM] [Info] [binary:BoostFromScore]: pavg=0.494566 -> initscore=-0.021738\n",
            "[LightGBM] [Info] Start training from score -0.021738\n"
          ]
        },
        {
          "output_type": "execute_result",
          "data": {
            "text/plain": [
              "StackingClassifier(cv=5,\n",
              "                   estimators=[('catboost',\n",
              "                                <catboost.core.CatBoostClassifier object at 0x7aac96bf3eb0>),\n",
              "                               ('xgboost',\n",
              "                                XGBClassifier(base_score=None, booster=None,\n",
              "                                              callbacks=None,\n",
              "                                              colsample_bylevel=None,\n",
              "                                              colsample_bynode=None,\n",
              "                                              colsample_bytree=None,\n",
              "                                              device=None,\n",
              "                                              early_stopping_rounds=None,\n",
              "                                              enable_categorical=False,\n",
              "                                              eval_metric=None,\n",
              "                                              feature_types=None, gamma=No...\n",
              "                                              max_cat_threshold=None,\n",
              "                                              max_cat_to_onehot=None,\n",
              "                                              max_delta_step=None,\n",
              "                                              max_depth=None, max_leaves=None,\n",
              "                                              min_child_weight=None,\n",
              "                                              missing=nan,\n",
              "                                              monotone_constraints=None,\n",
              "                                              multi_strategy=None,\n",
              "                                              n_estimators=None, n_jobs=None,\n",
              "                                              num_parallel_tree=None,\n",
              "                                              random_state=None, ...)),\n",
              "                               ('random_forest', RandomForestClassifier()),\n",
              "                               ('lightgbm', LGBMClassifier())],\n",
              "                   final_estimator=LogisticRegression())"
            ],
            "text/html": [
              "<style>#sk-container-id-1 {\n",
              "  /* Definition of color scheme common for light and dark mode */\n",
              "  --sklearn-color-text: black;\n",
              "  --sklearn-color-line: gray;\n",
              "  /* Definition of color scheme for unfitted estimators */\n",
              "  --sklearn-color-unfitted-level-0: #fff5e6;\n",
              "  --sklearn-color-unfitted-level-1: #f6e4d2;\n",
              "  --sklearn-color-unfitted-level-2: #ffe0b3;\n",
              "  --sklearn-color-unfitted-level-3: chocolate;\n",
              "  /* Definition of color scheme for fitted estimators */\n",
              "  --sklearn-color-fitted-level-0: #f0f8ff;\n",
              "  --sklearn-color-fitted-level-1: #d4ebff;\n",
              "  --sklearn-color-fitted-level-2: #b3dbfd;\n",
              "  --sklearn-color-fitted-level-3: cornflowerblue;\n",
              "\n",
              "  /* Specific color for light theme */\n",
              "  --sklearn-color-text-on-default-background: var(--sg-text-color, var(--theme-code-foreground, var(--jp-content-font-color1, black)));\n",
              "  --sklearn-color-background: var(--sg-background-color, var(--theme-background, var(--jp-layout-color0, white)));\n",
              "  --sklearn-color-border-box: var(--sg-text-color, var(--theme-code-foreground, var(--jp-content-font-color1, black)));\n",
              "  --sklearn-color-icon: #696969;\n",
              "\n",
              "  @media (prefers-color-scheme: dark) {\n",
              "    /* Redefinition of color scheme for dark theme */\n",
              "    --sklearn-color-text-on-default-background: var(--sg-text-color, var(--theme-code-foreground, var(--jp-content-font-color1, white)));\n",
              "    --sklearn-color-background: var(--sg-background-color, var(--theme-background, var(--jp-layout-color0, #111)));\n",
              "    --sklearn-color-border-box: var(--sg-text-color, var(--theme-code-foreground, var(--jp-content-font-color1, white)));\n",
              "    --sklearn-color-icon: #878787;\n",
              "  }\n",
              "}\n",
              "\n",
              "#sk-container-id-1 {\n",
              "  color: var(--sklearn-color-text);\n",
              "}\n",
              "\n",
              "#sk-container-id-1 pre {\n",
              "  padding: 0;\n",
              "}\n",
              "\n",
              "#sk-container-id-1 input.sk-hidden--visually {\n",
              "  border: 0;\n",
              "  clip: rect(1px 1px 1px 1px);\n",
              "  clip: rect(1px, 1px, 1px, 1px);\n",
              "  height: 1px;\n",
              "  margin: -1px;\n",
              "  overflow: hidden;\n",
              "  padding: 0;\n",
              "  position: absolute;\n",
              "  width: 1px;\n",
              "}\n",
              "\n",
              "#sk-container-id-1 div.sk-dashed-wrapped {\n",
              "  border: 1px dashed var(--sklearn-color-line);\n",
              "  margin: 0 0.4em 0.5em 0.4em;\n",
              "  box-sizing: border-box;\n",
              "  padding-bottom: 0.4em;\n",
              "  background-color: var(--sklearn-color-background);\n",
              "}\n",
              "\n",
              "#sk-container-id-1 div.sk-container {\n",
              "  /* jupyter's `normalize.less` sets `[hidden] { display: none; }`\n",
              "     but bootstrap.min.css set `[hidden] { display: none !important; }`\n",
              "     so we also need the `!important` here to be able to override the\n",
              "     default hidden behavior on the sphinx rendered scikit-learn.org.\n",
              "     See: https://github.com/scikit-learn/scikit-learn/issues/21755 */\n",
              "  display: inline-block !important;\n",
              "  position: relative;\n",
              "}\n",
              "\n",
              "#sk-container-id-1 div.sk-text-repr-fallback {\n",
              "  display: none;\n",
              "}\n",
              "\n",
              "div.sk-parallel-item,\n",
              "div.sk-serial,\n",
              "div.sk-item {\n",
              "  /* draw centered vertical line to link estimators */\n",
              "  background-image: linear-gradient(var(--sklearn-color-text-on-default-background), var(--sklearn-color-text-on-default-background));\n",
              "  background-size: 2px 100%;\n",
              "  background-repeat: no-repeat;\n",
              "  background-position: center center;\n",
              "}\n",
              "\n",
              "/* Parallel-specific style estimator block */\n",
              "\n",
              "#sk-container-id-1 div.sk-parallel-item::after {\n",
              "  content: \"\";\n",
              "  width: 100%;\n",
              "  border-bottom: 2px solid var(--sklearn-color-text-on-default-background);\n",
              "  flex-grow: 1;\n",
              "}\n",
              "\n",
              "#sk-container-id-1 div.sk-parallel {\n",
              "  display: flex;\n",
              "  align-items: stretch;\n",
              "  justify-content: center;\n",
              "  background-color: var(--sklearn-color-background);\n",
              "  position: relative;\n",
              "}\n",
              "\n",
              "#sk-container-id-1 div.sk-parallel-item {\n",
              "  display: flex;\n",
              "  flex-direction: column;\n",
              "}\n",
              "\n",
              "#sk-container-id-1 div.sk-parallel-item:first-child::after {\n",
              "  align-self: flex-end;\n",
              "  width: 50%;\n",
              "}\n",
              "\n",
              "#sk-container-id-1 div.sk-parallel-item:last-child::after {\n",
              "  align-self: flex-start;\n",
              "  width: 50%;\n",
              "}\n",
              "\n",
              "#sk-container-id-1 div.sk-parallel-item:only-child::after {\n",
              "  width: 0;\n",
              "}\n",
              "\n",
              "/* Serial-specific style estimator block */\n",
              "\n",
              "#sk-container-id-1 div.sk-serial {\n",
              "  display: flex;\n",
              "  flex-direction: column;\n",
              "  align-items: center;\n",
              "  background-color: var(--sklearn-color-background);\n",
              "  padding-right: 1em;\n",
              "  padding-left: 1em;\n",
              "}\n",
              "\n",
              "\n",
              "/* Toggleable style: style used for estimator/Pipeline/ColumnTransformer box that is\n",
              "clickable and can be expanded/collapsed.\n",
              "- Pipeline and ColumnTransformer use this feature and define the default style\n",
              "- Estimators will overwrite some part of the style using the `sk-estimator` class\n",
              "*/\n",
              "\n",
              "/* Pipeline and ColumnTransformer style (default) */\n",
              "\n",
              "#sk-container-id-1 div.sk-toggleable {\n",
              "  /* Default theme specific background. It is overwritten whether we have a\n",
              "  specific estimator or a Pipeline/ColumnTransformer */\n",
              "  background-color: var(--sklearn-color-background);\n",
              "}\n",
              "\n",
              "/* Toggleable label */\n",
              "#sk-container-id-1 label.sk-toggleable__label {\n",
              "  cursor: pointer;\n",
              "  display: block;\n",
              "  width: 100%;\n",
              "  margin-bottom: 0;\n",
              "  padding: 0.5em;\n",
              "  box-sizing: border-box;\n",
              "  text-align: center;\n",
              "}\n",
              "\n",
              "#sk-container-id-1 label.sk-toggleable__label-arrow:before {\n",
              "  /* Arrow on the left of the label */\n",
              "  content: \"▸\";\n",
              "  float: left;\n",
              "  margin-right: 0.25em;\n",
              "  color: var(--sklearn-color-icon);\n",
              "}\n",
              "\n",
              "#sk-container-id-1 label.sk-toggleable__label-arrow:hover:before {\n",
              "  color: var(--sklearn-color-text);\n",
              "}\n",
              "\n",
              "/* Toggleable content - dropdown */\n",
              "\n",
              "#sk-container-id-1 div.sk-toggleable__content {\n",
              "  max-height: 0;\n",
              "  max-width: 0;\n",
              "  overflow: hidden;\n",
              "  text-align: left;\n",
              "  /* unfitted */\n",
              "  background-color: var(--sklearn-color-unfitted-level-0);\n",
              "}\n",
              "\n",
              "#sk-container-id-1 div.sk-toggleable__content.fitted {\n",
              "  /* fitted */\n",
              "  background-color: var(--sklearn-color-fitted-level-0);\n",
              "}\n",
              "\n",
              "#sk-container-id-1 div.sk-toggleable__content pre {\n",
              "  margin: 0.2em;\n",
              "  border-radius: 0.25em;\n",
              "  color: var(--sklearn-color-text);\n",
              "  /* unfitted */\n",
              "  background-color: var(--sklearn-color-unfitted-level-0);\n",
              "}\n",
              "\n",
              "#sk-container-id-1 div.sk-toggleable__content.fitted pre {\n",
              "  /* unfitted */\n",
              "  background-color: var(--sklearn-color-fitted-level-0);\n",
              "}\n",
              "\n",
              "#sk-container-id-1 input.sk-toggleable__control:checked~div.sk-toggleable__content {\n",
              "  /* Expand drop-down */\n",
              "  max-height: 200px;\n",
              "  max-width: 100%;\n",
              "  overflow: auto;\n",
              "}\n",
              "\n",
              "#sk-container-id-1 input.sk-toggleable__control:checked~label.sk-toggleable__label-arrow:before {\n",
              "  content: \"▾\";\n",
              "}\n",
              "\n",
              "/* Pipeline/ColumnTransformer-specific style */\n",
              "\n",
              "#sk-container-id-1 div.sk-label input.sk-toggleable__control:checked~label.sk-toggleable__label {\n",
              "  color: var(--sklearn-color-text);\n",
              "  background-color: var(--sklearn-color-unfitted-level-2);\n",
              "}\n",
              "\n",
              "#sk-container-id-1 div.sk-label.fitted input.sk-toggleable__control:checked~label.sk-toggleable__label {\n",
              "  background-color: var(--sklearn-color-fitted-level-2);\n",
              "}\n",
              "\n",
              "/* Estimator-specific style */\n",
              "\n",
              "/* Colorize estimator box */\n",
              "#sk-container-id-1 div.sk-estimator input.sk-toggleable__control:checked~label.sk-toggleable__label {\n",
              "  /* unfitted */\n",
              "  background-color: var(--sklearn-color-unfitted-level-2);\n",
              "}\n",
              "\n",
              "#sk-container-id-1 div.sk-estimator.fitted input.sk-toggleable__control:checked~label.sk-toggleable__label {\n",
              "  /* fitted */\n",
              "  background-color: var(--sklearn-color-fitted-level-2);\n",
              "}\n",
              "\n",
              "#sk-container-id-1 div.sk-label label.sk-toggleable__label,\n",
              "#sk-container-id-1 div.sk-label label {\n",
              "  /* The background is the default theme color */\n",
              "  color: var(--sklearn-color-text-on-default-background);\n",
              "}\n",
              "\n",
              "/* On hover, darken the color of the background */\n",
              "#sk-container-id-1 div.sk-label:hover label.sk-toggleable__label {\n",
              "  color: var(--sklearn-color-text);\n",
              "  background-color: var(--sklearn-color-unfitted-level-2);\n",
              "}\n",
              "\n",
              "/* Label box, darken color on hover, fitted */\n",
              "#sk-container-id-1 div.sk-label.fitted:hover label.sk-toggleable__label.fitted {\n",
              "  color: var(--sklearn-color-text);\n",
              "  background-color: var(--sklearn-color-fitted-level-2);\n",
              "}\n",
              "\n",
              "/* Estimator label */\n",
              "\n",
              "#sk-container-id-1 div.sk-label label {\n",
              "  font-family: monospace;\n",
              "  font-weight: bold;\n",
              "  display: inline-block;\n",
              "  line-height: 1.2em;\n",
              "}\n",
              "\n",
              "#sk-container-id-1 div.sk-label-container {\n",
              "  text-align: center;\n",
              "}\n",
              "\n",
              "/* Estimator-specific */\n",
              "#sk-container-id-1 div.sk-estimator {\n",
              "  font-family: monospace;\n",
              "  border: 1px dotted var(--sklearn-color-border-box);\n",
              "  border-radius: 0.25em;\n",
              "  box-sizing: border-box;\n",
              "  margin-bottom: 0.5em;\n",
              "  /* unfitted */\n",
              "  background-color: var(--sklearn-color-unfitted-level-0);\n",
              "}\n",
              "\n",
              "#sk-container-id-1 div.sk-estimator.fitted {\n",
              "  /* fitted */\n",
              "  background-color: var(--sklearn-color-fitted-level-0);\n",
              "}\n",
              "\n",
              "/* on hover */\n",
              "#sk-container-id-1 div.sk-estimator:hover {\n",
              "  /* unfitted */\n",
              "  background-color: var(--sklearn-color-unfitted-level-2);\n",
              "}\n",
              "\n",
              "#sk-container-id-1 div.sk-estimator.fitted:hover {\n",
              "  /* fitted */\n",
              "  background-color: var(--sklearn-color-fitted-level-2);\n",
              "}\n",
              "\n",
              "/* Specification for estimator info (e.g. \"i\" and \"?\") */\n",
              "\n",
              "/* Common style for \"i\" and \"?\" */\n",
              "\n",
              ".sk-estimator-doc-link,\n",
              "a:link.sk-estimator-doc-link,\n",
              "a:visited.sk-estimator-doc-link {\n",
              "  float: right;\n",
              "  font-size: smaller;\n",
              "  line-height: 1em;\n",
              "  font-family: monospace;\n",
              "  background-color: var(--sklearn-color-background);\n",
              "  border-radius: 1em;\n",
              "  height: 1em;\n",
              "  width: 1em;\n",
              "  text-decoration: none !important;\n",
              "  margin-left: 1ex;\n",
              "  /* unfitted */\n",
              "  border: var(--sklearn-color-unfitted-level-1) 1pt solid;\n",
              "  color: var(--sklearn-color-unfitted-level-1);\n",
              "}\n",
              "\n",
              ".sk-estimator-doc-link.fitted,\n",
              "a:link.sk-estimator-doc-link.fitted,\n",
              "a:visited.sk-estimator-doc-link.fitted {\n",
              "  /* fitted */\n",
              "  border: var(--sklearn-color-fitted-level-1) 1pt solid;\n",
              "  color: var(--sklearn-color-fitted-level-1);\n",
              "}\n",
              "\n",
              "/* On hover */\n",
              "div.sk-estimator:hover .sk-estimator-doc-link:hover,\n",
              ".sk-estimator-doc-link:hover,\n",
              "div.sk-label-container:hover .sk-estimator-doc-link:hover,\n",
              ".sk-estimator-doc-link:hover {\n",
              "  /* unfitted */\n",
              "  background-color: var(--sklearn-color-unfitted-level-3);\n",
              "  color: var(--sklearn-color-background);\n",
              "  text-decoration: none;\n",
              "}\n",
              "\n",
              "div.sk-estimator.fitted:hover .sk-estimator-doc-link.fitted:hover,\n",
              ".sk-estimator-doc-link.fitted:hover,\n",
              "div.sk-label-container:hover .sk-estimator-doc-link.fitted:hover,\n",
              ".sk-estimator-doc-link.fitted:hover {\n",
              "  /* fitted */\n",
              "  background-color: var(--sklearn-color-fitted-level-3);\n",
              "  color: var(--sklearn-color-background);\n",
              "  text-decoration: none;\n",
              "}\n",
              "\n",
              "/* Span, style for the box shown on hovering the info icon */\n",
              ".sk-estimator-doc-link span {\n",
              "  display: none;\n",
              "  z-index: 9999;\n",
              "  position: relative;\n",
              "  font-weight: normal;\n",
              "  right: .2ex;\n",
              "  padding: .5ex;\n",
              "  margin: .5ex;\n",
              "  width: min-content;\n",
              "  min-width: 20ex;\n",
              "  max-width: 50ex;\n",
              "  color: var(--sklearn-color-text);\n",
              "  box-shadow: 2pt 2pt 4pt #999;\n",
              "  /* unfitted */\n",
              "  background: var(--sklearn-color-unfitted-level-0);\n",
              "  border: .5pt solid var(--sklearn-color-unfitted-level-3);\n",
              "}\n",
              "\n",
              ".sk-estimator-doc-link.fitted span {\n",
              "  /* fitted */\n",
              "  background: var(--sklearn-color-fitted-level-0);\n",
              "  border: var(--sklearn-color-fitted-level-3);\n",
              "}\n",
              "\n",
              ".sk-estimator-doc-link:hover span {\n",
              "  display: block;\n",
              "}\n",
              "\n",
              "/* \"?\"-specific style due to the `<a>` HTML tag */\n",
              "\n",
              "#sk-container-id-1 a.estimator_doc_link {\n",
              "  float: right;\n",
              "  font-size: 1rem;\n",
              "  line-height: 1em;\n",
              "  font-family: monospace;\n",
              "  background-color: var(--sklearn-color-background);\n",
              "  border-radius: 1rem;\n",
              "  height: 1rem;\n",
              "  width: 1rem;\n",
              "  text-decoration: none;\n",
              "  /* unfitted */\n",
              "  color: var(--sklearn-color-unfitted-level-1);\n",
              "  border: var(--sklearn-color-unfitted-level-1) 1pt solid;\n",
              "}\n",
              "\n",
              "#sk-container-id-1 a.estimator_doc_link.fitted {\n",
              "  /* fitted */\n",
              "  border: var(--sklearn-color-fitted-level-1) 1pt solid;\n",
              "  color: var(--sklearn-color-fitted-level-1);\n",
              "}\n",
              "\n",
              "/* On hover */\n",
              "#sk-container-id-1 a.estimator_doc_link:hover {\n",
              "  /* unfitted */\n",
              "  background-color: var(--sklearn-color-unfitted-level-3);\n",
              "  color: var(--sklearn-color-background);\n",
              "  text-decoration: none;\n",
              "}\n",
              "\n",
              "#sk-container-id-1 a.estimator_doc_link.fitted:hover {\n",
              "  /* fitted */\n",
              "  background-color: var(--sklearn-color-fitted-level-3);\n",
              "}\n",
              "</style><div id=\"sk-container-id-1\" class=\"sk-top-container\"><div class=\"sk-text-repr-fallback\"><pre>StackingClassifier(cv=5,\n",
              "                   estimators=[(&#x27;catboost&#x27;,\n",
              "                                &lt;catboost.core.CatBoostClassifier object at 0x7aac96bf3eb0&gt;),\n",
              "                               (&#x27;xgboost&#x27;,\n",
              "                                XGBClassifier(base_score=None, booster=None,\n",
              "                                              callbacks=None,\n",
              "                                              colsample_bylevel=None,\n",
              "                                              colsample_bynode=None,\n",
              "                                              colsample_bytree=None,\n",
              "                                              device=None,\n",
              "                                              early_stopping_rounds=None,\n",
              "                                              enable_categorical=False,\n",
              "                                              eval_metric=None,\n",
              "                                              feature_types=None, gamma=No...\n",
              "                                              max_cat_threshold=None,\n",
              "                                              max_cat_to_onehot=None,\n",
              "                                              max_delta_step=None,\n",
              "                                              max_depth=None, max_leaves=None,\n",
              "                                              min_child_weight=None,\n",
              "                                              missing=nan,\n",
              "                                              monotone_constraints=None,\n",
              "                                              multi_strategy=None,\n",
              "                                              n_estimators=None, n_jobs=None,\n",
              "                                              num_parallel_tree=None,\n",
              "                                              random_state=None, ...)),\n",
              "                               (&#x27;random_forest&#x27;, RandomForestClassifier()),\n",
              "                               (&#x27;lightgbm&#x27;, LGBMClassifier())],\n",
              "                   final_estimator=LogisticRegression())</pre><b>In a Jupyter environment, please rerun this cell to show the HTML representation or trust the notebook. <br />On GitHub, the HTML representation is unable to render, please try loading this page with nbviewer.org.</b></div><div class=\"sk-container\" hidden><div class=\"sk-item sk-dashed-wrapped\"><div class=\"sk-label-container\"><div class=\"sk-label fitted sk-toggleable\"><input class=\"sk-toggleable__control sk-hidden--visually\" id=\"sk-estimator-id-1\" type=\"checkbox\" ><label for=\"sk-estimator-id-1\" class=\"sk-toggleable__label fitted sk-toggleable__label-arrow fitted\">&nbsp;&nbsp;StackingClassifier<a class=\"sk-estimator-doc-link fitted\" rel=\"noreferrer\" target=\"_blank\" href=\"https://scikit-learn.org/1.5/modules/generated/sklearn.ensemble.StackingClassifier.html\">?<span>Documentation for StackingClassifier</span></a><span class=\"sk-estimator-doc-link fitted\">i<span>Fitted</span></span></label><div class=\"sk-toggleable__content fitted\"><pre>StackingClassifier(cv=5,\n",
              "                   estimators=[(&#x27;catboost&#x27;,\n",
              "                                &lt;catboost.core.CatBoostClassifier object at 0x7aac96bf3eb0&gt;),\n",
              "                               (&#x27;xgboost&#x27;,\n",
              "                                XGBClassifier(base_score=None, booster=None,\n",
              "                                              callbacks=None,\n",
              "                                              colsample_bylevel=None,\n",
              "                                              colsample_bynode=None,\n",
              "                                              colsample_bytree=None,\n",
              "                                              device=None,\n",
              "                                              early_stopping_rounds=None,\n",
              "                                              enable_categorical=False,\n",
              "                                              eval_metric=None,\n",
              "                                              feature_types=None, gamma=No...\n",
              "                                              max_cat_threshold=None,\n",
              "                                              max_cat_to_onehot=None,\n",
              "                                              max_delta_step=None,\n",
              "                                              max_depth=None, max_leaves=None,\n",
              "                                              min_child_weight=None,\n",
              "                                              missing=nan,\n",
              "                                              monotone_constraints=None,\n",
              "                                              multi_strategy=None,\n",
              "                                              n_estimators=None, n_jobs=None,\n",
              "                                              num_parallel_tree=None,\n",
              "                                              random_state=None, ...)),\n",
              "                               (&#x27;random_forest&#x27;, RandomForestClassifier()),\n",
              "                               (&#x27;lightgbm&#x27;, LGBMClassifier())],\n",
              "                   final_estimator=LogisticRegression())</pre></div> </div></div><div class=\"sk-serial\"><div class=\"sk-item\"><div class=\"sk-parallel\"><div class=\"sk-parallel-item\"><div class=\"sk-item\"><div class=\"sk-label-container\"><div class=\"sk-label fitted sk-toggleable\"><label>catboost</label></div></div><div class=\"sk-serial\"><div class=\"sk-item\"><div class=\"sk-estimator fitted sk-toggleable\"><input class=\"sk-toggleable__control sk-hidden--visually\" id=\"sk-estimator-id-2\" type=\"checkbox\" ><label for=\"sk-estimator-id-2\" class=\"sk-toggleable__label fitted sk-toggleable__label-arrow fitted\">CatBoostClassifier</label><div class=\"sk-toggleable__content fitted\"><pre>&lt;catboost.core.CatBoostClassifier object at 0x7aac96bf3eb0&gt;</pre></div> </div></div></div></div></div><div class=\"sk-parallel-item\"><div class=\"sk-item\"><div class=\"sk-label-container\"><div class=\"sk-label fitted sk-toggleable\"><label>xgboost</label></div></div><div class=\"sk-serial\"><div class=\"sk-item\"><div class=\"sk-estimator fitted sk-toggleable\"><input class=\"sk-toggleable__control sk-hidden--visually\" id=\"sk-estimator-id-3\" type=\"checkbox\" ><label for=\"sk-estimator-id-3\" class=\"sk-toggleable__label fitted sk-toggleable__label-arrow fitted\">XGBClassifier</label><div class=\"sk-toggleable__content fitted\"><pre>XGBClassifier(base_score=None, booster=None, callbacks=None,\n",
              "              colsample_bylevel=None, colsample_bynode=None,\n",
              "              colsample_bytree=None, device=None, early_stopping_rounds=None,\n",
              "              enable_categorical=False, eval_metric=None, feature_types=None,\n",
              "              gamma=None, grow_policy=None, importance_type=None,\n",
              "              interaction_constraints=None, learning_rate=None, max_bin=None,\n",
              "              max_cat_threshold=None, max_cat_to_onehot=None,\n",
              "              max_delta_step=None, max_depth=None, max_leaves=None,\n",
              "              min_child_weight=None, missing=nan, monotone_constraints=None,\n",
              "              multi_strategy=None, n_estimators=None, n_jobs=None,\n",
              "              num_parallel_tree=None, random_state=None, ...)</pre></div> </div></div></div></div></div><div class=\"sk-parallel-item\"><div class=\"sk-item\"><div class=\"sk-label-container\"><div class=\"sk-label fitted sk-toggleable\"><label>random_forest</label></div></div><div class=\"sk-serial\"><div class=\"sk-item\"><div class=\"sk-estimator fitted sk-toggleable\"><input class=\"sk-toggleable__control sk-hidden--visually\" id=\"sk-estimator-id-4\" type=\"checkbox\" ><label for=\"sk-estimator-id-4\" class=\"sk-toggleable__label fitted sk-toggleable__label-arrow fitted\">&nbsp;RandomForestClassifier<a class=\"sk-estimator-doc-link fitted\" rel=\"noreferrer\" target=\"_blank\" href=\"https://scikit-learn.org/1.5/modules/generated/sklearn.ensemble.RandomForestClassifier.html\">?<span>Documentation for RandomForestClassifier</span></a></label><div class=\"sk-toggleable__content fitted\"><pre>RandomForestClassifier()</pre></div> </div></div></div></div></div><div class=\"sk-parallel-item\"><div class=\"sk-item\"><div class=\"sk-label-container\"><div class=\"sk-label fitted sk-toggleable\"><label>lightgbm</label></div></div><div class=\"sk-serial\"><div class=\"sk-item\"><div class=\"sk-estimator fitted sk-toggleable\"><input class=\"sk-toggleable__control sk-hidden--visually\" id=\"sk-estimator-id-5\" type=\"checkbox\" ><label for=\"sk-estimator-id-5\" class=\"sk-toggleable__label fitted sk-toggleable__label-arrow fitted\">LGBMClassifier</label><div class=\"sk-toggleable__content fitted\"><pre>LGBMClassifier()</pre></div> </div></div></div></div></div></div></div><div class=\"sk-item\"><div class=\"sk-parallel\"><div class=\"sk-parallel-item\"><div class=\"sk-item\"><div class=\"sk-label-container\"><div class=\"sk-label fitted sk-toggleable\"><label>final_estimator</label></div></div><div class=\"sk-serial\"><div class=\"sk-item\"><div class=\"sk-estimator fitted sk-toggleable\"><input class=\"sk-toggleable__control sk-hidden--visually\" id=\"sk-estimator-id-6\" type=\"checkbox\" ><label for=\"sk-estimator-id-6\" class=\"sk-toggleable__label fitted sk-toggleable__label-arrow fitted\">&nbsp;LogisticRegression<a class=\"sk-estimator-doc-link fitted\" rel=\"noreferrer\" target=\"_blank\" href=\"https://scikit-learn.org/1.5/modules/generated/sklearn.linear_model.LogisticRegression.html\">?<span>Documentation for LogisticRegression</span></a></label><div class=\"sk-toggleable__content fitted\"><pre>LogisticRegression()</pre></div> </div></div></div></div></div></div></div></div></div></div></div>"
            ]
          },
          "metadata": {},
          "execution_count": 35
        }
      ],
      "source": [
        "stacking_classifier.fit(X_final, y_final, sample_weight=instance_weights)\n"
      ]
    },
    {
      "cell_type": "code",
      "source": [],
      "metadata": {
        "id": "42UhvTj23K9Z"
      },
      "execution_count": null,
      "outputs": []
    },
    {
      "cell_type": "code",
      "execution_count": null,
      "metadata": {
        "colab": {
          "base_uri": "https://localhost:8080/",
          "height": 564
        },
        "id": "XkINii9_bVZu",
        "outputId": "d25e0278-8a0f-4412-da97-cf697feb6f71",
        "collapsed": true
      },
      "outputs": [
        {
          "data": {
            "image/png": "[encoded data removed]",
            "text/plain": [
              "<Figure size 1000x600 with 1 Axes>"
            ]
          },
          "metadata": {},
          "output_type": "display_data"
        }
      ],
      "source": [
        "# prompt: create a feature importance plot for xgb classifier..\n",
        "\n",
        "'''import pandas as pd\n",
        "import matplotlib.pyplot as plt\n",
        "\n",
        "# Get feature importances from the trained XGBoost model\n",
        "feature_importances = model_xg.feature_importances_\n",
        "\n",
        "# Create a DataFrame to store feature names and their importances\n",
        "feature_importance_df = pd.DataFrame({'Feature': X_final.columns, 'Importance': feature_importances})\n",
        "\n",
        "# Sort the DataFrame by importance in descending order\n",
        "feature_importance_df = feature_importance_df.sort_values('Importance', ascending=False)\n",
        "\n",
        "# Plot the feature importances\n",
        "plt.figure(figsize=(10, 6))\n",
        "plt.barh(feature_importance_df['Feature'], feature_importance_df['Importance'])\n",
        "plt.xlabel('Feature Importance')\n",
        "plt.ylabel('Feature')\n",
        "plt.title('XGBoost Feature Importances')\n",
        "plt.gca().invert_yaxis()  # Invert the y-axis to show the most important feature at the top\n",
        "plt.show()'''\n"
      ]
    },
    {
      "cell_type": "code",
      "source": [
        "# prompt: get these feature importance score in csv\n",
        "\n",
        "'''# Save feature importance to CSV\n",
        "feature_importance_df.to_csv('feature_importance_scores.csv', index=False)'''\n"
      ],
      "metadata": {
        "id": "5GF5__9nim1d"
      },
      "execution_count": null,
      "outputs": []
    },
    {
      "cell_type": "code",
      "execution_count": null,
      "metadata": {
        "id": "fGUG0RuPb4cA"
      },
      "outputs": [],
      "source": [
        "# prompt: get the scores in csv file and store in drive\n",
        "\n",
        "'''import csv\n",
        "\n",
        "# Assuming you have the following variables:\n",
        "# roc_auc, equal_opportunity_diff, tpr_unprivileged, tpr_privileged (from your model evaluations)\n",
        "\n",
        "scores_data = [\n",
        "    ['Metric', 'Score'],\n",
        "    ['ROC-AUC', roc_auc],\n",
        "    ['Equal Opportunity Difference', equal_opportunity_diff],\n",
        "    ['TPR Unprivileged', tpr_unprivileged],\n",
        "    ['TPR Privileged', tpr_privileged],\n",
        "]\n",
        "\n",
        "# Define the file path in your Google Drive\n",
        "file_path = '/content/drive/My Drive/model_scores.csv'\n",
        "\n",
        "# Write the data to a CSV file\n",
        "with open(file_path, 'w', newline='') as csvfile:\n",
        "  writer = csv.writer(csvfile)\n",
        "  writer.writerows(scores_data)\n",
        "\n",
        "print(f'Scores saved to {file_path}')\n",
        "'''"
      ]
    },
    {
      "cell_type": "markdown",
      "metadata": {
        "id": "8WHFn8P0CDjj"
      },
      "source": [
        "### **Working on holdout dataset**"
      ]
    },
    {
      "cell_type": "code",
      "execution_count": null,
      "metadata": {
        "colab": {
          "base_uri": "https://localhost:8080/"
        },
        "id": "fLlylQK3C7D4",
        "outputId": "cf2bd440-7dd5-4c07-eb40-551b3e260e0a"
      },
      "outputs": [
        {
          "output_type": "execute_result",
          "data": {
            "text/plain": [
              "(381976, 145)"
            ]
          },
          "metadata": {},
          "execution_count": 47
        }
      ],
      "source": [
        "hold = pd.read_csv('/content/drive/MyDrive/Humana files/updated_holdout_df.csv')\n",
        "hold.shape"
      ]
    },
    {
      "cell_type": "code",
      "source": [
        "hold.shape"
      ],
      "metadata": {
        "colab": {
          "base_uri": "https://localhost:8080/"
        },
        "id": "ZNz7LMCngM8y",
        "outputId": "5c866fc0-bd49-4adb-9de9-887ca02f899d"
      },
      "execution_count": null,
      "outputs": [
        {
          "output_type": "execute_result",
          "data": {
            "text/plain": [
              "(381976, 145)"
            ]
          },
          "metadata": {},
          "execution_count": 48
        }
      ]
    },
    {
      "cell_type": "code",
      "execution_count": null,
      "metadata": {
        "id": "CHJqUtte4iEq"
      },
      "outputs": [],
      "source": [
        "# prompt: rename column names 'cms_tot_ma_payment_amt': 'cms_tot_ma_payment_amt'\n",
        "# 'atlas_recfacpth14': 'atlas_recfacpth14'\n",
        "# 'atlas_ffrpth14': 'atlas_ffrpth14'\n",
        "# 'atlas_fsrpth14': 'atlas_fsrpth14'\n",
        "# 'atlas_grocpth14': 'atlas_grocpth14'\n",
        "\n",
        "hold = hold.rename(columns={\n",
        "    'cms_tot_ma_payment_amt': 'cms_tot_ma_payment_amt',\n",
        "    'atlas_recfacpth14': 'atlas_recfacpth14',\n",
        "    'atlas_ffrpth14': 'atlas_ffrpth14',\n",
        "    'atlas_fsrpth14': 'atlas_fsrpth14',\n",
        "    'atlas_grocpth14': 'atlas_grocpth14',\n",
        "    'atlas_povertyallagespct': 'atlas_povertyallagespct',\n",
        "'cci_score': 'cci_score',\n",
        "'fci_score': 'fci_score',\n",
        "'dcsi_score': 'dcsi_score',\n",
        "'cnt_cp_emails_pmpm_ct': 'cnt_cp_emails_pmpm_ct',\n",
        "'cnt_cp_print_pmpm_ct': 'cnt_cp_print_pmpm_ct',\n",
        "'cnt_cp_vat_pmpm_ct': 'cnt_cp_vat_pmpm_ct',\n",
        "'cnt_cp_webstatement_pmpm_ct': 'cnt_cp_webstatement_pmpm_ct',\n",
        "'nonpar_clm_ct_pmpm': 'nonpar_clm_ct_pmpm',\n",
        "'nonpar_allowed_pmpm_cost': 'nonpar_allowed_pmpm_cost',\n",
        "'nonpar_coins_pmpm_cost': 'nonpar_coins_pmpm_cost',\n",
        "'nonpar_copay_pmpm_cost': 'nonpar_copay_pmpm_cost',\n",
        "'nonpar_deduct_pmpm_cost': 'nonpar_deduct_pmpm_cost',\n",
        "'nonpar_mbr_resp_pmpm_cost': 'nonpar_mbr_resp_pmpm_cost',\n",
        "'nonpar_ds_clm': 'nonpar_ds_clm',\n",
        "'total_allowed_pmpm_cost': 'total_allowed_pmpm_cost',\n",
        "'total_deduct_pmpm_cost': 'total_deduct_pmpm_cost',\n",
        "'total_mbr_resp_pmpm_cost': 'total_mbr_resp_pmpm_cost',\n",
        "'days_since_last_clm': 'days_since_last_clm',\n",
        "'total_ip_snf_admit_days_pmpm': 'total_ip_snf_admit_days_pmpm',\n",
        "'riskarr_downside': 'riskarr_downside',\n",
        "'riskarr_upside': 'riskarr_upside',\n",
        "'riskarr_rewards': 'riskarr_rewards',\n",
        "'riskarr_global': 'riskarr_global',\n",
        "'rx_overall_pmpm_cost': 'rx_overall_pmpm_cost',\n",
        "'rx_overall_deduct_pmpm_cost': 'rx_overall_deduct_pmpm_cost',\n",
        "'rx_overall_mbr_resp_pmpm_cost': 'rx_overall_mbr_resp_pmpm_cost',\n",
        "'rx_overall_pmpm_ct': 'rx_overall_pmpm_ct',\n",
        "'rx_tier_4_pmpm_ct': 'rx_tier_4_pmpm_ct',\n",
        "'rx_days_since_last_script': 'rx_days_since_last_script',\n",
        "'rx_pharmacies_pmpm_ct': 'rx_pharmacies_pmpm_ct',\n",
        "'rwjf_pcp_rate': 'rwjf_pcp_rate',\n",
        "'rwjf_preventable_ip_rate': 'rwjf_preventable_ip_rate',\n",
        "'rwjf_adult_obesity_pct': 'rwjf_adult_obesity_pct',\n",
        "'rwjf_high_school_pct': 'rwjf_high_school_pct',\n",
        "'rwjf_unemploy_pct': 'rwjf_unemploy_pct',\n",
        "'rwjf_mv_deaths_rate': 'rwjf_mv_deaths_rate',\n",
        "'rwjf_violent_crime_rate': 'rwjf_violent_crime_rate',\n",
        "'rwjf_income_inequ_ratio': 'rwjf_income_inequ_ratio',\n",
        "'rwjf_alcoholic_pct': 'rwjf_alcoholic_pct',\n",
        "'rwjf_mammography_pct': 'rwjf_mammography_pct',\n",
        "'rwjf_population': 'rwjf_population',\n",
        "'rwjf_age_lt_18_pct': 'rwjf_age_lt_18_pct',\n",
        "'rwjf_age_gt_65_pct': 'rwjf_age_gt_65_pct',\n",
        "'rwjf_african_race_pct': 'rwjf_african_race_pct',\n",
        "'rwjf_native_race_pct': 'rwjf_native_race_pct',\n",
        "'rwjf_hispanic_pct': 'rwjf_hispanic_pct',\n",
        "'rwjf_female_pct': 'rwjf_female_pct',\n",
        "'rwjf_diabetes_pct': 'rwjf_diabetes_pct',\n",
        "'rwjf_hiv_rate': 'rwjf_hiv_rate',\n",
        "'rwjf_men_hlth_prov_ratio': 'rwjf_men_hlth_prov_ratio',\n",
        "'rwjf_hawaiian_race_pct': 'rwjf_hawaiian_race_pct',\n",
        "'rwjf_asian_race_pct': 'rwjf_asian_race_pct',\n",
        "'rwjf_limit_hlthy_food_pct': 'rwjf_limit_hlthy_food_pct',\n",
        "'rwjf_uninsured_pct': 'rwjf_uninsured_pct',\n",
        "'rwjf_white_race_pct': 'rwjf_white_race_pct',\n",
        "'rwjf_other_pcp': 'rwjf_other_pcp',\n",
        "'rwjf_exercise_access_pct': 'rwjf_exercise_access_pct',\n",
        "'rwjf_drug_overdose_deaths_rate': 'rwjf_drug_overdose_deaths_rate',\n",
        "'rwjf_insufficient_sleep_pct': 'rwjf_insufficient_sleep_pct',\n",
        "'rwjf_life_expectancy': 'rwjf_life_expectancy',\n",
        "'rwjf_housing_cost_burden_pct': 'rwjf_housing_cost_burden_pct',\n",
        "'rwjf_flu_vax': 'rwjf_flu_vax',\n",
        "'rwjf_healthcare_cost': 'rwjf_healthcare_cost',\n",
        "'days_since_last_login': 'days_since_last_login',\n",
        "'login_pmpm_ct': 'login_pmpm_ct',\n",
        "'tenure_band': 'tenure_band',\n",
        "'disabled_ind': 'disabled_ind',\n",
        "'lis_ind': 'lis_ind',\n",
        "'generic_grouper': 'generic_grouper',\n",
        "'unattributed_provider': 'unattributed_provider',\n",
        "'age': 'age',\n",
        "'veteran_ind': 'veteran_ind',\n",
        "'plan_benefit_package_id': 'plan_benefit_package_id',\n",
        "'pbp_segment_id': 'pbp_segment_id',\n",
        "'pcp_visit': 'pcp_visit',\n",
        "'dos__2021': 'dos__2021',\n",
        "'dos__2022': 'dos__2022',\n",
        "'_ESRD': '_ESRD',\n",
        "'_MEDICAL': '_MEDICAL',\n",
        "'_V24': '_V24',\n",
        "'_V28': '_V28',\n",
        "'mm_tenure - consec_tenure': 'mm_tenure - consec_tenure',\n",
        "'recent_cnct_email': 'recent_cnct_email',\n",
        "'recent_cnct_print': 'recent_cnct_print',\n",
        "'recent_cnct_vat': 'recent_cnct_vat',\n",
        "'recent_cnct_web': 'recent_cnct_web',\n",
        "'recent_login_ctl': 'recent_login_ctl',\n",
        "'quality_chronic_disease': 'quality_chronic_disease',\n",
        "'quality_preventive_care': 'quality_preventive_care',\n",
        "'quality_medication_management': 'quality_medication_management',\n",
        "'quality_patient_safety': 'quality_patient_safety',\n",
        "'quality_screening': 'quality_screening',\n",
        "'compliant_cnt': 'compliant_cnt',\n",
        "'QD_HEDIS': 'QD_HEDIS',\n",
        "'QD_Patient Safety': 'QD_Patient Safety',\n",
        "'QD_2020': 'QD_2020',\n",
        "'QD_2021': 'QD_2021',\n",
        "'QD_2022': 'QD_2022',\n",
        "'rucc_metro': 'rucc_category_metro',\n",
        "'rucc_nonmetro': 'rucc_category_nonmetro',\n",
        "'region': 'region',\n",
        "'sex_cd': 'sex_cd',\n",
        "'race': 'race',\n",
        "'channel': 'channel',\n",
        "'preventive_care_visits': 'preventive_care_visits',\n",
        "'urgent_and_emergency_care': 'urgent_and_emergency_care',\n",
        "'Specialist Visits': 'Specialist Visits'\n",
        "\n",
        "})\n"
      ]
    },
    {
      "cell_type": "code",
      "execution_count": null,
      "metadata": {
        "colab": {
          "base_uri": "https://localhost:8080/"
        },
        "collapsed": true,
        "id": "5MNXBllYLWvv",
        "outputId": "c88026dd-7248-49c5-c104-d86f16055b9e"
      },
      "outputs": [
        {
          "output_type": "stream",
          "name": "stderr",
          "text": [
            "<ipython-input-50-611caae746ec>:8: FutureWarning: A value is trying to be set on a copy of a DataFrame or Series through chained assignment using an inplace method.\n",
            "The behavior will change in pandas 3.0. This inplace method will never work because the intermediate object on which we are setting values always behaves as a copy.\n",
            "\n",
            "For example, when doing 'df[col].method(value, inplace=True)', try using 'df.method({col: value}, inplace=True)' or df[col] = df[col].method(value) instead, to perform the operation inplace on the original object.\n",
            "\n",
            "\n",
            "  hold[col].fillna(0, inplace=True)\n",
            "<ipython-input-50-611caae746ec>:24: FutureWarning: Downcasting behavior in `replace` is deprecated and will be removed in a future version. To retain the old behavior, explicitly call `result.infer_objects(copy=False)`. To opt-in to the future behavior, set `pd.set_option('future.no_silent_downcasting', True)`\n",
            "  hold[col] = hold[col].replace({'Yes': 1, 'No': 0})\n",
            "<ipython-input-50-611caae746ec>:30: FutureWarning: Downcasting behavior in `replace` is deprecated and will be removed in a future version. To retain the old behavior, explicitly call `result.infer_objects(copy=False)`. To opt-in to the future behavior, set `pd.set_option('future.no_silent_downcasting', True)`\n",
            "  hold['tenure_band'] = hold['tenure_band'].replace({\n",
            "<ipython-input-50-611caae746ec>:45: FutureWarning: Downcasting behavior in `replace` is deprecated and will be removed in a future version. To retain the old behavior, explicitly call `result.infer_objects(copy=False)`. To opt-in to the future behavior, set `pd.set_option('future.no_silent_downcasting', True)`\n",
            "  hold[column] = hold[column].replace({'Y': 1, 'N': 0})\n",
            "<ipython-input-50-611caae746ec>:81: FutureWarning: A value is trying to be set on a copy of a DataFrame or Series through chained assignment using an inplace method.\n",
            "The behavior will change in pandas 3.0. This inplace method will never work because the intermediate object on which we are setting values always behaves as a copy.\n",
            "\n",
            "For example, when doing 'df[col].method(value, inplace=True)', try using 'df.method({col: value}, inplace=True)' or df[col] = df[col].method(value) instead, to perform the operation inplace on the original object.\n",
            "\n",
            "\n",
            "  hold[col].fillna(0, inplace=True)\n"
          ]
        }
      ],
      "source": [
        "cols_to_fill = ['quality_chronic_disease', 'quality_preventive_care',\n",
        "                'quality_medication_management', 'quality_patient_safety',\n",
        "                'quality_screening', 'compliant_cnt', 'QD_HEDIS',\n",
        "                'QD_Patient Safety', 'QD_2020', 'QD_2021', 'QD_2022']\n",
        "\n",
        "for col in cols_to_fill:\n",
        "  if col in hold.columns:\n",
        "    hold[col].fillna(0, inplace=True)\n",
        "\n",
        "\n",
        "'''hold = pd.get_dummies(hold, columns=['region', 'sex_cd', 'race', 'channel'], dummy_na=False)\n",
        "import pandas as pd\n",
        "for column in hold.columns:\n",
        "  if pd.api.types.is_bool_dtype(hold[column]):\n",
        "    hold[column] = hold[column].astype(int)'''\n",
        "\n",
        "\n",
        "\n",
        "cols_to_replace = ['recent_cnct_email', 'recent_cnct_print', 'recent_cnct_vat',\n",
        "                   'recent_cnct_web', 'recent_cnct_livecall', 'recent_login_ctl']\n",
        "\n",
        "for col in cols_to_replace:\n",
        "  if col in hold.columns:\n",
        "    hold[col] = hold[col].replace({'Yes': 1, 'No': 0})\n",
        "\n",
        "\n",
        "\n",
        "\n",
        "if 'tenure_band' in hold.columns:\n",
        "  hold['tenure_band'] = hold['tenure_band'].replace({\n",
        "      '0 - 0.5 YEARS': 1,\n",
        "      '0.5 - 1 YEARS': 2,\n",
        "      '1 - 1.5 YEARS': 3,\n",
        "      '1.5 - 2 YEARS': 4,\n",
        "      '2 - 3 YEARS': 5,\n",
        "      '3 - 4 YEARS': 6,\n",
        "      '4 - 5 YEARS': 7,\n",
        "      '5 - 6 YEARS': 8,\n",
        "      '6 - 7 YEARS': 9,\n",
        "      '7+ YEARS': 10\n",
        "  })\n",
        "\n",
        "for column in ['generic_grouper', 'unattributed_provider', 'disabled_ind', 'lis_ind', 'veteran_ind']:\n",
        "  if column in hold.columns:\n",
        "    hold[column] = hold[column].replace({'Y': 1, 'N': 0})\n",
        "\n",
        "cols_to_drop = ['county_of_residence']\n",
        "hold = hold.drop(columns=cols_to_drop, errors='ignore')\n",
        "\n",
        "\n",
        "\n",
        "cols_to_remove = ['cms_frailty_ind', 'total_cob_paid_pmpm_cost', 'total_ip_mhsa_admit_days_pmpm', 'total_ip_rehab_admit_days_pmpm', 'nonpar_cob_paid_pmpm_cost',\n",
        "                  'bh_psyc_visit_ct_pmpm', 'total_ip_ltach_admit_days_pmpm', 'total_ip_maternity_admit_days_pmpm', 'rx_perphy_pmpm_ct',\n",
        "                  'bh_rtc_admit_days_pmpm', 'recent_cnct_livecall', 'total_ip_snf_admit_days_pmpm', 'region', 'recent_cnct_print', 'pcp_visit',\n",
        "                  '_ESRD', 'riskarr_rewards', 'recent_cnct_web']\n",
        "\n",
        "hold = hold.drop(columns=cols_to_remove, errors='ignore')\n",
        "\n",
        "\n",
        "# Create a new column 'Preventive Care Visits' by summing the specified columns\n",
        "hold['preventive_care_visits'] = hold['annual_wellness'] + hold['preventative_visit'] + hold['comp_physical_exam'] + hold['telehealth'] + hold['humana_paf']\n",
        "\n",
        "# Create a new column 'Urgent and Emergency Care' by summing the specified columns\n",
        "hold['urgent_and_emergency_care'] = hold['urgent_care_visit'] + hold['er_visit'] + hold['fqhc_visit']\n",
        "\n",
        "hold['Specialist Visits'] = hold['endocrinologist_visit'] + hold['oncolologist_visit'] + hold['radiologist_visit'] + hold['podiatrist_visit'] + hold['ophthalmologist_visit'] + hold['optometrist_visit'] + hold['physical_therapist_visit']+hold['cardiologist_visit'] + hold['gastroenterologist_visit'] + hold['orthopedist_visit'] + hold['obgyn_visit'] + hold['nephroloogist_visit'] + hold['pulmonologist_visit']\n",
        "\n",
        "\n",
        "cols_to_drop = ['annual_wellness', 'endocrinologist_visit', 'oncolologist_visit', 'radiologist_visit', 'podiatrist_visit',\n",
        "                'preventative_visit', 'comp_physical_exam', 'urgent_care_visit', 'er_visit', 'fqhc_visit',\n",
        "                'telehealth', 'ophthalmologist_visit', 'optometrist_visit', 'physical_therapist_visit',\n",
        "                'cardiologist_visit', 'gastroenterologist_visit', 'orthopedist_visit', 'obgyn_visit',\n",
        "                'nephroloogist_visit', 'pulmonologist_visit', 'humana_paf']\n",
        "\n",
        "hold = hold.drop(columns=cols_to_drop, errors='ignore')\n",
        "\n",
        "cols_to_fill_with_zero = ['recent_cnct_email',  'recent_cnct_vat', 'recent_login_ctl']\n",
        "\n",
        "for col in cols_to_fill_with_zero:\n",
        "  if col in hold.columns:\n",
        "    hold[col].fillna(0, inplace=True)\n",
        "\n"
      ]
    },
    {
      "cell_type": "code",
      "execution_count": null,
      "metadata": {
        "id": "ALKNSUS1QEyx"
      },
      "outputs": [],
      "source": [
        "# prompt: change  'rucc_category_nonmetro' to 'rucc_nonmetro' , 'rucc_category_metro' to 'rucc_metro' in hold\n",
        "\n",
        "if 'rucc_category_nonmetro' in hold.columns:\n",
        "  hold.rename(columns={'rucc_category_nonmetro': 'rucc_nonmetro'}, inplace=True)\n",
        "if 'rucc_category_metro' in hold.columns:\n",
        "  hold.rename(columns={'rucc_category_metro': 'rucc_metro'}, inplace=True)\n"
      ]
    },
    {
      "cell_type": "code",
      "execution_count": null,
      "metadata": {
        "id": "ZoEKxNH6vcsv",
        "colab": {
          "base_uri": "https://localhost:8080/"
        },
        "outputId": "17fc5720-7305-4cd6-a46f-42b81ee5b8e1"
      },
      "outputs": [
        {
          "output_type": "stream",
          "name": "stdout",
          "text": [
            "             id  cms_tot_ma_payment_amt  atlas_recfacpth14  atlas_ffrpth14  \\\n",
            "5       1078760                     NaN                NaN             NaN   \n",
            "6223    1521291                     NaN                NaN             NaN   \n",
            "18010   1780933                     NaN                NaN             NaN   \n",
            "18364    432964                     NaN                NaN             NaN   \n",
            "18961    396304                     NaN                NaN             NaN   \n",
            "...         ...                     ...                ...             ...   \n",
            "357033    21849                     NaN                NaN             NaN   \n",
            "357168  1745291                     NaN                NaN             NaN   \n",
            "368778   737796                     NaN                NaN             NaN   \n",
            "372552   655087                     NaN                NaN             NaN   \n",
            "379632   485950                     NaN                NaN             NaN   \n",
            "\n",
            "        atlas_fsrpth14  atlas_grocpth14  atlas_povertyallagespct  cci_score  \\\n",
            "5                  NaN              NaN                      NaN        NaN   \n",
            "6223               NaN              NaN                      NaN        NaN   \n",
            "18010              NaN              NaN                      NaN        NaN   \n",
            "18364              NaN              NaN                      NaN        NaN   \n",
            "18961              NaN              NaN                      NaN        NaN   \n",
            "...                ...              ...                      ...        ...   \n",
            "357033             NaN              NaN                      NaN        NaN   \n",
            "357168             NaN              NaN                      NaN        NaN   \n",
            "368778             NaN              NaN                      NaN        NaN   \n",
            "372552             NaN              NaN                      NaN        NaN   \n",
            "379632             NaN              NaN                      NaN        NaN   \n",
            "\n",
            "        fci_score  dcsi_score  ...  QD_HEDIS  QD_Patient Safety  QD_2020  \\\n",
            "5             NaN         NaN  ...       0.0                0.0      0.0   \n",
            "6223          NaN         NaN  ...       0.0                1.0      0.0   \n",
            "18010         NaN         NaN  ...       0.0                0.0      0.0   \n",
            "18364         NaN         NaN  ...       1.0                0.0      0.0   \n",
            "18961         NaN         NaN  ...       0.0                0.0      0.0   \n",
            "...           ...         ...  ...       ...                ...      ...   \n",
            "357033        NaN         NaN  ...       0.0                0.0      0.0   \n",
            "357168        NaN         NaN  ...       0.0                0.0      0.0   \n",
            "368778        NaN         NaN  ...       1.0                0.0      1.0   \n",
            "372552        NaN         NaN  ...       0.0                0.0      0.0   \n",
            "379632        NaN         NaN  ...       1.0                0.0      0.0   \n",
            "\n",
            "        QD_2021  QD_2022  rucc_metro  rucc_nonmetro  preventive_care_visits  \\\n",
            "5           0.0      0.0           0              0                     0.0   \n",
            "6223        0.0      1.0           0              0                     0.0   \n",
            "18010       0.0      0.0           0              0                     0.0   \n",
            "18364       0.0      1.0           0              0                     0.0   \n",
            "18961       0.0      0.0           0              0                     0.0   \n",
            "...         ...      ...         ...            ...                     ...   \n",
            "357033      0.0      0.0           0              0                     0.0   \n",
            "357168      0.0      0.0           0              0                     0.0   \n",
            "368778      0.0      1.0           0              0                     0.0   \n",
            "372552      0.0      0.0           0              0                     0.0   \n",
            "379632      0.0      1.0           0              0                     0.0   \n",
            "\n",
            "        urgent_and_emergency_care  Specialist Visits  \n",
            "5                             1.0                3.0  \n",
            "6223                          0.0                4.0  \n",
            "18010                         1.0                6.0  \n",
            "18364                         0.0                1.0  \n",
            "18961                         1.0                4.0  \n",
            "...                           ...                ...  \n",
            "357033                        2.0                0.0  \n",
            "357168                        0.0                2.0  \n",
            "368778                        0.0                2.0  \n",
            "372552                        1.0                4.0  \n",
            "379632                        1.0                1.0  \n",
            "\n",
            "[118 rows x 108 columns]\n"
          ]
        }
      ],
      "source": [
        "# prompt: check for rows which has  null values in more than 50% of the columns\n",
        "\n",
        "# Calculate the percentage of null values for each row\n",
        "row_null_percentage = hold.isnull().mean(axis=1)\n",
        "\n",
        "# Identify rows with more than 50% null values\n",
        "rows_with_many_nulls = hold[row_null_percentage >= 0.5]\n",
        "\n",
        "# Print the rows with more than 50% null values (optional)\n",
        "print(rows_with_many_nulls)\n",
        "\n",
        "# You can also get the indices of these rows\n",
        "rows_with_many_nulls_indices = rows_with_many_nulls.index\n",
        "\n",
        "# If you want to remove these rows from your dataframe:\n",
        "hold = hold.drop(rows_with_many_nulls_indices)\n"
      ]
    },
    {
      "cell_type": "code",
      "execution_count": null,
      "metadata": {
        "id": "ZkCuZYPTzhCb",
        "colab": {
          "base_uri": "https://localhost:8080/"
        },
        "outputId": "4f15a216-0e70-4135-f09d-b6b7a689f878"
      },
      "outputs": [
        {
          "output_type": "execute_result",
          "data": {
            "text/plain": [
              "(381858, 108)"
            ]
          },
          "metadata": {},
          "execution_count": 57
        }
      ],
      "source": [
        "hold.shape"
      ]
    },
    {
      "cell_type": "code",
      "execution_count": null,
      "metadata": {
        "id": "YhPHwWPgoi61"
      },
      "outputs": [],
      "source": [
        "hold_preprocessed = preprocessor.transform(hold)\n",
        "\n",
        "\n"
      ]
    },
    {
      "cell_type": "code",
      "execution_count": null,
      "metadata": {
        "id": "eqFaZVJM_phA"
      },
      "outputs": [],
      "source": [
        "feature_names = preprocessor.get_feature_names_out()\n",
        "\n",
        "# Rename columns in the DataFrames\n",
        "hold_final = pd.DataFrame(hold_preprocessed, columns=feature_names)"
      ]
    },
    {
      "cell_type": "code",
      "source": [
        "# prompt: check for any missing value in hold_final.. give only column names\n",
        "\n",
        "missing_value_cols = [col for col in hold_final.columns if hold_final[col].isnull().any()]\n",
        "print(missing_value_cols)\n",
        "# 118 rows had missing values in these columns"
      ],
      "metadata": {
        "colab": {
          "base_uri": "https://localhost:8080/"
        },
        "id": "KDbnROp3g-Vh",
        "outputId": "ef773aca-c35e-47fb-9025-985a24a08fc0"
      },
      "execution_count": null,
      "outputs": [
        {
          "output_type": "stream",
          "name": "stdout",
          "text": [
            "['remainder__generic_grouper', 'remainder__unattributed_provider']\n"
          ]
        }
      ]
    },
    {
      "cell_type": "code",
      "source": [
        "# prompt: impute missing values  using knn in columns: ['q__cci_score', 'q__fci_score', 'q__dcsi_score', 'q__nonpar_clm_ct_pmpm', 'q__nonpar_allowed_pmpm_cost', 'q__nonpar_coins_pmpm_cost', 'q__nonpar_copay_pmpm_cost', 'q__nonpar_deduct_pmpm_cost', 'q__nonpar_mbr_resp_pmpm_cost', 'q__nonpar_ds_clm', 'q__total_allowed_pmpm_cost', 'q__total_deduct_pmpm_cost', 'q__total_mbr_resp_pmpm_cost', 'q__days_since_last\n",
        "\n",
        "from sklearn.impute import KNNImputer\n",
        "\n",
        "# Select the columns you want to impute\n",
        "cols_to_impute = ['remainder__generic_grouper', 'remainder__unattributed_provider']\n",
        "\n",
        "\n",
        "# Initialize the KNNImputer\n",
        "imputer = KNNImputer(n_neighbors=5)\n",
        "hold_final1 = hold_final\n",
        "# Fit and transform the imputer on the selected columns\n",
        "hold_final1[cols_to_impute] = imputer.fit_transform(hold_final1[cols_to_impute])\n"
      ],
      "metadata": {
        "id": "d85JfVPek5OW"
      },
      "execution_count": null,
      "outputs": []
    },
    {
      "cell_type": "code",
      "execution_count": null,
      "metadata": {
        "id": "Q9jttjtQAio_"
      },
      "outputs": [],
      "source": [
        "# prompt: now make predictions using model_xg on hold_final .. and then store in csv file.. with three columns: id, score and rank\n",
        "\n",
        "predictions = stacking_classifier.predict(hold_final1)\n",
        "prediction_probabilities = stacking_classifier.predict_proba(hold_final1)[:, 1]\n",
        "\n",
        "# Assuming 'hold' DataFrame contains the 'id' column\n",
        "results_df = pd.DataFrame({'Id': hold['id'], 'Score': prediction_probabilities})\n",
        "results_df['Rank'] = results_df['Score'].rank(method='min', ascending=False)\n",
        "\n",
        "# Convert ranks to integers if necessary\n",
        "results_df['Rank'] = results_df['Rank'].astype(int)\n",
        "results_df.to_csv('2024CaseCompetition_Garima_Vijay_20241007.csv', index=False)\n"
      ]
    },
    {
      "cell_type": "code",
      "execution_count": null,
      "metadata": {
        "id": "o2-V5vAP3cJL"
      },
      "outputs": [],
      "source": [
        "'''# Get feature names from the trained model\n",
        "model_feature_names = model_xg.get_booster().feature_names\n",
        "\n",
        "# Ensure hold_final has the same feature names\n",
        "hold_final_aligned = pd.DataFrame(columns=model_feature_names)\n",
        "\n",
        "# Populate hold_final_aligned with existing columns from hold_final\n",
        "for col in model_feature_names:\n",
        "    if col in hold_final.columns:\n",
        "        hold_final_aligned[col] = hold_final[col]\n",
        "    else:\n",
        "        hold_final_aligned[col] = 0  # Fill with zero or any other placeholder\n",
        "\n",
        "# Ensure the DataFrame is correctly formatted and has the same shape\n",
        "hold_final_aligned = hold_final_aligned.fillna(0)  # Optionally fill missing values'''\n"
      ]
    },
    {
      "cell_type": "code",
      "execution_count": null,
      "metadata": {
        "id": "uvxd-Bv14LiQ"
      },
      "outputs": [],
      "source": [
        "'''# prompt: predictions = model_xg.predict(hold_final_aligned) make predictions.. and then store in csv file.. with three columns: id, score and rank\n",
        "\n",
        "import pandas as pd\n",
        "predictions = model_xg.predict(hold_final_aligned)\n",
        "prediction_probabilities = model_xg.predict_proba(hold_final_aligned)[:, 1]\n",
        "\n",
        "# Assuming 'hold' DataFrame contains the 'id' column\n",
        "results_df = pd.DataFrame({'Id': hold['id'], 'Score': prediction_probabilities})\n",
        "results_df['Rank'] = results_df['Score'].rank(method='min', ascending=False)\n",
        "\n",
        "# Convert ranks to integers if necessary\n",
        "results_df['Rank'] = results_df['Rank'].astype(int)\n",
        "results_df.to_csv('Garima_Vijay_20241003.csv', index=False)'''"
      ]
    }
  ],
  "metadata": {
    "accelerator": "GPU",
    "colab": {
      "gpuType": "T4",
      "machine_shape": "hm",
      "provenance": [],
      "toc_visible": true
    },
    "kernelspec": {
      "display_name": "Python 3",
      "name": "python3"
    },
    "language_info": {
      "name": "python"
    }
  },
  "nbformat": 4,
  "nbformat_minor": 0
}